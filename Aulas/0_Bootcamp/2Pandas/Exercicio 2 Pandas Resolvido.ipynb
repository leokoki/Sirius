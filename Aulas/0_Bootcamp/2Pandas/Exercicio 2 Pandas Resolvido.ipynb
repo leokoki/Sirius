{
 "cells": [
  {
   "cell_type": "markdown",
   "id": "ab344dc5",
   "metadata": {},
   "source": [
    "Para entender melhor os objetos DataFrame, é útil saber que eles consistem em três componentes, armazenados como atributos:\n",
    "\n",
    "- .values: Uma matriz bidimensional de valores.\n",
    "- .columns: Um índice de colunas: os nomes das colunas.\n",
    "- .index: Um índice para as linhas: números de linha ou nomes de linha."
   ]
  },
  {
   "cell_type": "markdown",
   "id": "7b679460",
   "metadata": {},
   "source": [
    "##### Exercício 1 - Importe o dataset walmart_vendas.csv e salve com o nome vendas"
   ]
  },
  {
   "cell_type": "code",
   "execution_count": 16,
   "id": "bee7c268",
   "metadata": {},
   "outputs": [],
   "source": [
    "import pandas as pd"
   ]
  },
  {
   "cell_type": "code",
   "execution_count": 17,
   "id": "49d50654",
   "metadata": {},
   "outputs": [],
   "source": [
    "vendas = pd.read_csv('walmart_vendas.csv')"
   ]
  },
  {
   "cell_type": "markdown",
   "id": "a4cbd331",
   "metadata": {},
   "source": [
    "##### Exercício 2 - Imprima as primeiras e as últimas linhas desse dataset"
   ]
  },
  {
   "cell_type": "code",
   "execution_count": 18,
   "id": "6d5f13d4",
   "metadata": {},
   "outputs": [
    {
     "name": "stdout",
     "output_type": "stream",
     "text": [
      "   Unnamed: 0  store type  department        date  weekly_sales  is_holiday  \\\n",
      "0           0      1    A           1  2010-02-05      24924.50       False   \n",
      "1           1      1    A           1  2010-03-05      21827.90       False   \n",
      "2           2      1    A           1  2010-04-02      57258.43       False   \n",
      "3           3      1    A           1  2010-05-07      17413.94       False   \n",
      "4           4      1    A           1  2010-06-04      17558.09       False   \n",
      "\n",
      "   temperature_c  fuel_price_usd_per_l  unemployment  \n",
      "0       5.727778              0.679451         8.106  \n",
      "1       8.055556              0.693452         8.106  \n",
      "2      16.816667              0.718284         7.808  \n",
      "3      22.527778              0.748928         7.808  \n",
      "4      27.050000              0.714586         7.808  \n"
     ]
    }
   ],
   "source": [
    "print(vendas.head())"
   ]
  },
  {
   "cell_type": "code",
   "execution_count": 19,
   "id": "3424b58f",
   "metadata": {},
   "outputs": [
    {
     "name": "stdout",
     "output_type": "stream",
     "text": [
      "       Unnamed: 0  store type  department        date  weekly_sales  \\\n",
      "10769       10769     39    A          99  2011-12-09        895.00   \n",
      "10770       10770     39    A          99  2012-02-03        350.00   \n",
      "10771       10771     39    A          99  2012-06-08        450.00   \n",
      "10772       10772     39    A          99  2012-07-13          0.06   \n",
      "10773       10773     39    A          99  2012-10-05        915.00   \n",
      "\n",
      "       is_holiday  temperature_c  fuel_price_usd_per_l  unemployment  \n",
      "10769       False       9.644444              0.834256         7.716  \n",
      "10770       False      15.938889              0.887619         7.244  \n",
      "10771       False      27.288889              0.911922         6.989  \n",
      "10772       False      25.644444              0.860145         6.623  \n",
      "10773       False      22.250000              0.955511         6.228  \n"
     ]
    }
   ],
   "source": [
    "print(vendas.tail())"
   ]
  },
  {
   "cell_type": "markdown",
   "id": "4ac4a931",
   "metadata": {},
   "source": [
    "##### Exercício 3 - Elimine a coluna \" Unnamed: 0\""
   ]
  },
  {
   "cell_type": "code",
   "execution_count": 23,
   "id": "518d4a46",
   "metadata": {},
   "outputs": [],
   "source": [
    "vendas.drop(['Unnamed: 0'], axis=1, inplace= True)"
   ]
  },
  {
   "cell_type": "code",
   "execution_count": 24,
   "id": "0c4f7c24",
   "metadata": {},
   "outputs": [
    {
     "data": {
      "text/html": [
       "<div>\n",
       "<style scoped>\n",
       "    .dataframe tbody tr th:only-of-type {\n",
       "        vertical-align: middle;\n",
       "    }\n",
       "\n",
       "    .dataframe tbody tr th {\n",
       "        vertical-align: top;\n",
       "    }\n",
       "\n",
       "    .dataframe thead th {\n",
       "        text-align: right;\n",
       "    }\n",
       "</style>\n",
       "<table border=\"1\" class=\"dataframe\">\n",
       "  <thead>\n",
       "    <tr style=\"text-align: right;\">\n",
       "      <th></th>\n",
       "      <th>store</th>\n",
       "      <th>type</th>\n",
       "      <th>department</th>\n",
       "      <th>date</th>\n",
       "      <th>weekly_sales</th>\n",
       "      <th>is_holiday</th>\n",
       "      <th>temperature_c</th>\n",
       "      <th>fuel_price_usd_per_l</th>\n",
       "      <th>unemployment</th>\n",
       "    </tr>\n",
       "  </thead>\n",
       "  <tbody>\n",
       "    <tr>\n",
       "      <th>0</th>\n",
       "      <td>1</td>\n",
       "      <td>A</td>\n",
       "      <td>1</td>\n",
       "      <td>2010-02-05</td>\n",
       "      <td>24924.50</td>\n",
       "      <td>False</td>\n",
       "      <td>5.727778</td>\n",
       "      <td>0.679451</td>\n",
       "      <td>8.106</td>\n",
       "    </tr>\n",
       "    <tr>\n",
       "      <th>1</th>\n",
       "      <td>1</td>\n",
       "      <td>A</td>\n",
       "      <td>1</td>\n",
       "      <td>2010-03-05</td>\n",
       "      <td>21827.90</td>\n",
       "      <td>False</td>\n",
       "      <td>8.055556</td>\n",
       "      <td>0.693452</td>\n",
       "      <td>8.106</td>\n",
       "    </tr>\n",
       "    <tr>\n",
       "      <th>2</th>\n",
       "      <td>1</td>\n",
       "      <td>A</td>\n",
       "      <td>1</td>\n",
       "      <td>2010-04-02</td>\n",
       "      <td>57258.43</td>\n",
       "      <td>False</td>\n",
       "      <td>16.816667</td>\n",
       "      <td>0.718284</td>\n",
       "      <td>7.808</td>\n",
       "    </tr>\n",
       "    <tr>\n",
       "      <th>3</th>\n",
       "      <td>1</td>\n",
       "      <td>A</td>\n",
       "      <td>1</td>\n",
       "      <td>2010-05-07</td>\n",
       "      <td>17413.94</td>\n",
       "      <td>False</td>\n",
       "      <td>22.527778</td>\n",
       "      <td>0.748928</td>\n",
       "      <td>7.808</td>\n",
       "    </tr>\n",
       "    <tr>\n",
       "      <th>4</th>\n",
       "      <td>1</td>\n",
       "      <td>A</td>\n",
       "      <td>1</td>\n",
       "      <td>2010-06-04</td>\n",
       "      <td>17558.09</td>\n",
       "      <td>False</td>\n",
       "      <td>27.050000</td>\n",
       "      <td>0.714586</td>\n",
       "      <td>7.808</td>\n",
       "    </tr>\n",
       "    <tr>\n",
       "      <th>...</th>\n",
       "      <td>...</td>\n",
       "      <td>...</td>\n",
       "      <td>...</td>\n",
       "      <td>...</td>\n",
       "      <td>...</td>\n",
       "      <td>...</td>\n",
       "      <td>...</td>\n",
       "      <td>...</td>\n",
       "      <td>...</td>\n",
       "    </tr>\n",
       "    <tr>\n",
       "      <th>10769</th>\n",
       "      <td>39</td>\n",
       "      <td>A</td>\n",
       "      <td>99</td>\n",
       "      <td>2011-12-09</td>\n",
       "      <td>895.00</td>\n",
       "      <td>False</td>\n",
       "      <td>9.644444</td>\n",
       "      <td>0.834256</td>\n",
       "      <td>7.716</td>\n",
       "    </tr>\n",
       "    <tr>\n",
       "      <th>10770</th>\n",
       "      <td>39</td>\n",
       "      <td>A</td>\n",
       "      <td>99</td>\n",
       "      <td>2012-02-03</td>\n",
       "      <td>350.00</td>\n",
       "      <td>False</td>\n",
       "      <td>15.938889</td>\n",
       "      <td>0.887619</td>\n",
       "      <td>7.244</td>\n",
       "    </tr>\n",
       "    <tr>\n",
       "      <th>10771</th>\n",
       "      <td>39</td>\n",
       "      <td>A</td>\n",
       "      <td>99</td>\n",
       "      <td>2012-06-08</td>\n",
       "      <td>450.00</td>\n",
       "      <td>False</td>\n",
       "      <td>27.288889</td>\n",
       "      <td>0.911922</td>\n",
       "      <td>6.989</td>\n",
       "    </tr>\n",
       "    <tr>\n",
       "      <th>10772</th>\n",
       "      <td>39</td>\n",
       "      <td>A</td>\n",
       "      <td>99</td>\n",
       "      <td>2012-07-13</td>\n",
       "      <td>0.06</td>\n",
       "      <td>False</td>\n",
       "      <td>25.644444</td>\n",
       "      <td>0.860145</td>\n",
       "      <td>6.623</td>\n",
       "    </tr>\n",
       "    <tr>\n",
       "      <th>10773</th>\n",
       "      <td>39</td>\n",
       "      <td>A</td>\n",
       "      <td>99</td>\n",
       "      <td>2012-10-05</td>\n",
       "      <td>915.00</td>\n",
       "      <td>False</td>\n",
       "      <td>22.250000</td>\n",
       "      <td>0.955511</td>\n",
       "      <td>6.228</td>\n",
       "    </tr>\n",
       "  </tbody>\n",
       "</table>\n",
       "<p>10774 rows × 9 columns</p>\n",
       "</div>"
      ],
      "text/plain": [
       "       store type  department        date  weekly_sales  is_holiday  \\\n",
       "0          1    A           1  2010-02-05      24924.50       False   \n",
       "1          1    A           1  2010-03-05      21827.90       False   \n",
       "2          1    A           1  2010-04-02      57258.43       False   \n",
       "3          1    A           1  2010-05-07      17413.94       False   \n",
       "4          1    A           1  2010-06-04      17558.09       False   \n",
       "...      ...  ...         ...         ...           ...         ...   \n",
       "10769     39    A          99  2011-12-09        895.00       False   \n",
       "10770     39    A          99  2012-02-03        350.00       False   \n",
       "10771     39    A          99  2012-06-08        450.00       False   \n",
       "10772     39    A          99  2012-07-13          0.06       False   \n",
       "10773     39    A          99  2012-10-05        915.00       False   \n",
       "\n",
       "       temperature_c  fuel_price_usd_per_l  unemployment  \n",
       "0           5.727778              0.679451         8.106  \n",
       "1           8.055556              0.693452         8.106  \n",
       "2          16.816667              0.718284         7.808  \n",
       "3          22.527778              0.748928         7.808  \n",
       "4          27.050000              0.714586         7.808  \n",
       "...              ...                   ...           ...  \n",
       "10769       9.644444              0.834256         7.716  \n",
       "10770      15.938889              0.887619         7.244  \n",
       "10771      27.288889              0.911922         6.989  \n",
       "10772      25.644444              0.860145         6.623  \n",
       "10773      22.250000              0.955511         6.228  \n",
       "\n",
       "[10774 rows x 9 columns]"
      ]
     },
     "execution_count": 24,
     "metadata": {},
     "output_type": "execute_result"
    }
   ],
   "source": [
    "vendas.head()"
   ]
  },
  {
   "cell_type": "markdown",
   "id": "2665dfb8",
   "metadata": {},
   "source": [
    "**Exercício 4 -Imprima os valores desse dataframe**"
   ]
  },
  {
   "cell_type": "code",
   "execution_count": 27,
   "id": "145fc359",
   "metadata": {},
   "outputs": [
    {
     "name": "stdout",
     "output_type": "stream",
     "text": [
      "[[1 'A' 1 ... 5.727777777777779 0.6794508388787476 8.106]\n",
      " [1 'A' 1 ... 8.055555555555555 0.693451964252221 8.106]\n",
      " [1 'A' 1 ... 16.81666666666667 0.718284148876872 7.808]\n",
      " ...\n",
      " [39 'A' 99 ... 27.28888888888889 0.911922354513778 6.989]\n",
      " [39 'A' 99 ... 25.64444444444444 0.8601446078496121 6.622999999999999]\n",
      " [39 'A' 99 ... 22.25 0.955510763695346 6.228]]\n"
     ]
    }
   ],
   "source": [
    "print(vendas.values)"
   ]
  },
  {
   "cell_type": "markdown",
   "id": "2d73fd3f",
   "metadata": {},
   "source": [
    "**Exercício 5 - Imprima as colunas desse dataframe**"
   ]
  },
  {
   "cell_type": "code",
   "execution_count": 38,
   "id": "8214e202",
   "metadata": {},
   "outputs": [
    {
     "name": "stdout",
     "output_type": "stream",
     "text": [
      "Index(['store', 'type', 'department', 'date', 'weekly_sales', 'is_holiday',\n",
      "       'temperature_c', 'fuel_price_usd_per_l', 'unemployment'],\n",
      "      dtype='object')\n"
     ]
    }
   ],
   "source": [
    "print(vendas.columns)"
   ]
  },
  {
   "cell_type": "markdown",
   "id": "219e0eb2",
   "metadata": {},
   "source": [
    "**Exercício 6 - Imprima as linhas desse dataframe**"
   ]
  },
  {
   "cell_type": "code",
   "execution_count": 39,
   "id": "a2ac8ab3",
   "metadata": {},
   "outputs": [
    {
     "name": "stdout",
     "output_type": "stream",
     "text": [
      "RangeIndex(start=0, stop=10774, step=1)\n"
     ]
    }
   ],
   "source": [
    "print(vendas.index)"
   ]
  },
  {
   "cell_type": "markdown",
   "id": "b157a53c",
   "metadata": {},
   "source": [
    "**Exercício 7  - Crie um novo dataframe classificando-o em ordem crescente pela coluna *weekly_sales***"
   ]
  },
  {
   "cell_type": "code",
   "execution_count": 40,
   "id": "0750fba8",
   "metadata": {},
   "outputs": [],
   "source": [
    "vendas_ordenadas = vendas.sort_values('weekly_sales')"
   ]
  },
  {
   "cell_type": "markdown",
   "id": "b7a9f9a6",
   "metadata": {},
   "source": [
    "**Exercício 8  - Veja as primeiras linhas desse novo dataframe:**"
   ]
  },
  {
   "cell_type": "code",
   "execution_count": 41,
   "id": "bf1acc86",
   "metadata": {},
   "outputs": [
    {
     "data": {
      "text/html": [
       "<div>\n",
       "<style scoped>\n",
       "    .dataframe tbody tr th:only-of-type {\n",
       "        vertical-align: middle;\n",
       "    }\n",
       "\n",
       "    .dataframe tbody tr th {\n",
       "        vertical-align: top;\n",
       "    }\n",
       "\n",
       "    .dataframe thead th {\n",
       "        text-align: right;\n",
       "    }\n",
       "</style>\n",
       "<table border=\"1\" class=\"dataframe\">\n",
       "  <thead>\n",
       "    <tr style=\"text-align: right;\">\n",
       "      <th></th>\n",
       "      <th>store</th>\n",
       "      <th>type</th>\n",
       "      <th>department</th>\n",
       "      <th>date</th>\n",
       "      <th>weekly_sales</th>\n",
       "      <th>is_holiday</th>\n",
       "      <th>temperature_c</th>\n",
       "      <th>fuel_price_usd_per_l</th>\n",
       "      <th>unemployment</th>\n",
       "    </tr>\n",
       "  </thead>\n",
       "  <tbody>\n",
       "    <tr>\n",
       "      <th>1420</th>\n",
       "      <td>2</td>\n",
       "      <td>A</td>\n",
       "      <td>47</td>\n",
       "      <td>2010-07-30</td>\n",
       "      <td>-1098.0</td>\n",
       "      <td>False</td>\n",
       "      <td>28.605556</td>\n",
       "      <td>0.697415</td>\n",
       "      <td>8.099</td>\n",
       "    </tr>\n",
       "    <tr>\n",
       "      <th>1422</th>\n",
       "      <td>2</td>\n",
       "      <td>A</td>\n",
       "      <td>47</td>\n",
       "      <td>2010-10-15</td>\n",
       "      <td>-1098.0</td>\n",
       "      <td>False</td>\n",
       "      <td>18.777778</td>\n",
       "      <td>0.718548</td>\n",
       "      <td>8.163</td>\n",
       "    </tr>\n",
       "    <tr>\n",
       "      <th>4115</th>\n",
       "      <td>10</td>\n",
       "      <td>B</td>\n",
       "      <td>47</td>\n",
       "      <td>2010-10-15</td>\n",
       "      <td>-798.0</td>\n",
       "      <td>False</td>\n",
       "      <td>24.155556</td>\n",
       "      <td>0.813650</td>\n",
       "      <td>9.003</td>\n",
       "    </tr>\n",
       "    <tr>\n",
       "      <th>4110</th>\n",
       "      <td>10</td>\n",
       "      <td>B</td>\n",
       "      <td>47</td>\n",
       "      <td>2010-03-05</td>\n",
       "      <td>-798.0</td>\n",
       "      <td>False</td>\n",
       "      <td>13.288889</td>\n",
       "      <td>0.760023</td>\n",
       "      <td>9.765</td>\n",
       "    </tr>\n",
       "    <tr>\n",
       "      <th>517</th>\n",
       "      <td>1</td>\n",
       "      <td>A</td>\n",
       "      <td>47</td>\n",
       "      <td>2010-03-12</td>\n",
       "      <td>-698.0</td>\n",
       "      <td>False</td>\n",
       "      <td>14.327778</td>\n",
       "      <td>0.704547</td>\n",
       "      <td>8.106</td>\n",
       "    </tr>\n",
       "  </tbody>\n",
       "</table>\n",
       "</div>"
      ],
      "text/plain": [
       "      store type  department        date  weekly_sales  is_holiday  \\\n",
       "1420      2    A          47  2010-07-30       -1098.0       False   \n",
       "1422      2    A          47  2010-10-15       -1098.0       False   \n",
       "4115     10    B          47  2010-10-15        -798.0       False   \n",
       "4110     10    B          47  2010-03-05        -798.0       False   \n",
       "517       1    A          47  2010-03-12        -698.0       False   \n",
       "\n",
       "      temperature_c  fuel_price_usd_per_l  unemployment  \n",
       "1420      28.605556              0.697415         8.099  \n",
       "1422      18.777778              0.718548         8.163  \n",
       "4115      24.155556              0.813650         9.003  \n",
       "4110      13.288889              0.760023         9.765  \n",
       "517       14.327778              0.704547         8.106  "
      ]
     },
     "execution_count": 41,
     "metadata": {},
     "output_type": "execute_result"
    }
   ],
   "source": [
    "vendas_ordenadas.head()"
   ]
  },
  {
   "cell_type": "markdown",
   "id": "929b4638",
   "metadata": {},
   "source": [
    "**Exercício 9 - Ordene o dataframe original pela coluna *temperature_c* em ordem decrescente e imprima as primeiras linhas**"
   ]
  },
  {
   "cell_type": "code",
   "execution_count": 44,
   "id": "4a3f6374",
   "metadata": {},
   "outputs": [
    {
     "name": "stdout",
     "output_type": "stream",
     "text": [
      "      store type  department        date  weekly_sales  is_holiday  \\\n",
      "3754     10    B          14  2010-07-02      36506.15       False   \n",
      "4380     10    B          87  2010-07-02      20296.90       False   \n",
      "4356     10    B          83  2010-07-02        268.16       False   \n",
      "4344     10    B          82  2010-07-02      21579.29       False   \n",
      "4332     10    B          81  2010-07-02      11684.87       False   \n",
      "\n",
      "      temperature_c  fuel_price_usd_per_l  unemployment  \n",
      "3754      33.827778              0.786705         9.199  \n",
      "4380      33.827778              0.786705         9.199  \n",
      "4356      33.827778              0.786705         9.199  \n",
      "4344      33.827778              0.786705         9.199  \n",
      "4332      33.827778              0.786705         9.199  \n"
     ]
    }
   ],
   "source": [
    "vendas_ordenadas_temp = vendas.sort_values('temperature_c', ascending = False)\n",
    "print(vendas_ordenadas_temp.head())\n"
   ]
  },
  {
   "cell_type": "markdown",
   "id": "7f469ef8",
   "metadata": {},
   "source": [
    "**Exercício 10 -Selecione somente a  coluna *unemployment* salve com o nome subdf e veja as primeiras linhas**\n"
   ]
  },
  {
   "cell_type": "code",
   "execution_count": 45,
   "id": "07a96f0e",
   "metadata": {},
   "outputs": [
    {
     "name": "stdout",
     "output_type": "stream",
     "text": [
      "0    8.106\n",
      "1    8.106\n",
      "2    7.808\n",
      "3    7.808\n",
      "4    7.808\n",
      "Name: unemployment, dtype: float64\n"
     ]
    }
   ],
   "source": [
    "subdf = vendas['unemployment']\n",
    "\n",
    "\n",
    "print(subdf.head())"
   ]
  },
  {
   "cell_type": "markdown",
   "id": "dd820e46",
   "metadata": {},
   "source": [
    "**Exercício 11 -  Filtre por linhas os valores de weekly_sales forem maiores que 20000 e chame de weekly_sales_20k e imprima as primeiras linhas**  "
   ]
  },
  {
   "cell_type": "code",
   "execution_count": 47,
   "id": "6067a901",
   "metadata": {},
   "outputs": [
    {
     "name": "stdout",
     "output_type": "stream",
     "text": [
      "   store type  department        date  weekly_sales  is_holiday  \\\n",
      "0      1    A           1  2010-02-05      24924.50       False   \n",
      "1      1    A           1  2010-03-05      21827.90       False   \n",
      "2      1    A           1  2010-04-02      57258.43       False   \n",
      "8      1    A           1  2010-10-01      20094.19       False   \n",
      "9      1    A           1  2010-11-05      34238.88       False   \n",
      "\n",
      "   temperature_c  fuel_price_usd_per_l  unemployment  \n",
      "0       5.727778              0.679451         8.106  \n",
      "1       8.055556              0.693452         8.106  \n",
      "2      16.816667              0.718284         7.808  \n",
      "8      22.161111              0.687640         7.838  \n",
      "9      14.855556              0.710359         7.838  \n"
     ]
    }
   ],
   "source": [
    "weekly_sales_20k = vendas [vendas['weekly_sales']> 20000] \n",
    "print(weekly_sales_20k.head())"
   ]
  },
  {
   "cell_type": "code",
   "execution_count": null,
   "id": "59b4e336",
   "metadata": {},
   "outputs": [],
   "source": []
  }
 ],
 "metadata": {
  "kernelspec": {
   "display_name": "Python 3",
   "language": "python",
   "name": "python3"
  },
  "language_info": {
   "codemirror_mode": {
    "name": "ipython",
    "version": 3
   },
   "file_extension": ".py",
   "mimetype": "text/x-python",
   "name": "python",
   "nbconvert_exporter": "python",
   "pygments_lexer": "ipython3",
   "version": "3.8.8"
  }
 },
 "nbformat": 4,
 "nbformat_minor": 5
}
