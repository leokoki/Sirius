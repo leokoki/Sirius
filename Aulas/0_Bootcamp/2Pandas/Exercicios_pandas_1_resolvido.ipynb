{
 "cells": [
  {
   "cell_type": "code",
   "execution_count": null,
   "id": "56a4ad0d",
   "metadata": {},
   "outputs": [],
   "source": []
  },
  {
   "cell_type": "markdown",
   "id": "250ccdda",
   "metadata": {},
   "source": [
    "#### Exercício \n",
    "\n",
    "Muitas vezes os dados que você irá acessar virão no formato de dicionários.\n",
    "\n",
    "**Crie  um DataFrame usando o dicionário abaixo e  use a lista rótulos(também abaixo) como índice.**"
   ]
  },
  {
   "cell_type": "code",
   "execution_count": null,
   "id": "6d2c29d7",
   "metadata": {},
   "outputs": [],
   "source": [
    "import pandas as pd"
   ]
  },
  {
   "cell_type": "code",
   "execution_count": 27,
   "id": "a1a1ef97",
   "metadata": {},
   "outputs": [],
   "source": [
    "exam_data = {'nome': ['Sandra', 'Carlos', 'Regiane', 'Cesar', 'Eliana', 'Marcelio', 'Marcos', 'Leandra', 'Roberto', 'João'],\n",
    "'pontuação': [10, 9, 6.5, 8.7, 9, 6.8, 9.5, 5, 8, 4],\n",
    "'tentativas': [1, 3, 2, 3, 2, 3, 1, 1, 2, 1],\n",
    "'aprovado': ['sim', 'sim', 'não', 'sim', 'sim', 'não', 'sim', 'não', 'sim', 'não']}\n",
    "\n",
    "rotulos = ['a', 'b', 'c', 'd', 'e', 'f', 'g', 'h', 'i', 'j']"
   ]
  },
  {
   "cell_type": "markdown",
   "id": "83e39fc8",
   "metadata": {},
   "source": [
    "**crie o dataframe:**"
   ]
  },
  {
   "cell_type": "code",
   "execution_count": 28,
   "id": "a803f78a",
   "metadata": {},
   "outputs": [],
   "source": [
    "\n",
    "df = pd.DataFrame(exam_data , index=rotulos)\n"
   ]
  },
  {
   "cell_type": "markdown",
   "id": "1f37783e",
   "metadata": {},
   "source": [
    "**visualize algumas linhas da  tabela que você criou**"
   ]
  },
  {
   "cell_type": "code",
   "execution_count": 29,
   "id": "f6804b86",
   "metadata": {},
   "outputs": [
    {
     "data": {
      "text/html": [
       "<div>\n",
       "<style scoped>\n",
       "    .dataframe tbody tr th:only-of-type {\n",
       "        vertical-align: middle;\n",
       "    }\n",
       "\n",
       "    .dataframe tbody tr th {\n",
       "        vertical-align: top;\n",
       "    }\n",
       "\n",
       "    .dataframe thead th {\n",
       "        text-align: right;\n",
       "    }\n",
       "</style>\n",
       "<table border=\"1\" class=\"dataframe\">\n",
       "  <thead>\n",
       "    <tr style=\"text-align: right;\">\n",
       "      <th></th>\n",
       "      <th>nome</th>\n",
       "      <th>pontuação</th>\n",
       "      <th>tentativas</th>\n",
       "      <th>aprovado</th>\n",
       "    </tr>\n",
       "  </thead>\n",
       "  <tbody>\n",
       "    <tr>\n",
       "      <th>a</th>\n",
       "      <td>Sandra</td>\n",
       "      <td>10.0</td>\n",
       "      <td>1</td>\n",
       "      <td>sim</td>\n",
       "    </tr>\n",
       "    <tr>\n",
       "      <th>b</th>\n",
       "      <td>Carlos</td>\n",
       "      <td>9.0</td>\n",
       "      <td>3</td>\n",
       "      <td>sim</td>\n",
       "    </tr>\n",
       "    <tr>\n",
       "      <th>c</th>\n",
       "      <td>Regiane</td>\n",
       "      <td>6.5</td>\n",
       "      <td>2</td>\n",
       "      <td>não</td>\n",
       "    </tr>\n",
       "    <tr>\n",
       "      <th>d</th>\n",
       "      <td>Cesar</td>\n",
       "      <td>8.7</td>\n",
       "      <td>3</td>\n",
       "      <td>sim</td>\n",
       "    </tr>\n",
       "    <tr>\n",
       "      <th>e</th>\n",
       "      <td>Eliana</td>\n",
       "      <td>9.0</td>\n",
       "      <td>2</td>\n",
       "      <td>sim</td>\n",
       "    </tr>\n",
       "  </tbody>\n",
       "</table>\n",
       "</div>"
      ],
      "text/plain": [
       "      nome  pontuação  tentativas aprovado\n",
       "a   Sandra       10.0           1      sim\n",
       "b   Carlos        9.0           3      sim\n",
       "c  Regiane        6.5           2      não\n",
       "d    Cesar        8.7           3      sim\n",
       "e   Eliana        9.0           2      sim"
      ]
     },
     "execution_count": 29,
     "metadata": {},
     "output_type": "execute_result"
    }
   ],
   "source": [
    "\n",
    "df.head()"
   ]
  },
  {
   "cell_type": "markdown",
   "id": "8900799f",
   "metadata": {},
   "source": [
    "**mude o nome da coluna pontuação para notas**"
   ]
  },
  {
   "cell_type": "code",
   "execution_count": 34,
   "id": "41e689b0",
   "metadata": {},
   "outputs": [],
   "source": [
    "df.rename(columns={\"pontuação\": \"notas\"}, inplace = True)"
   ]
  },
  {
   "cell_type": "code",
   "execution_count": 36,
   "id": "ac46f174",
   "metadata": {},
   "outputs": [
    {
     "data": {
      "text/plain": [
       "Index(['nome', 'notas', 'tentativas', 'aprovado'], dtype='object')"
      ]
     },
     "execution_count": 36,
     "metadata": {},
     "output_type": "execute_result"
    }
   ],
   "source": [
    "df.columns"
   ]
  },
  {
   "cell_type": "markdown",
   "id": "0839ca0f",
   "metadata": {},
   "source": [
    "**Imprima informações basicas do dataframe que você criou**"
   ]
  },
  {
   "cell_type": "code",
   "execution_count": 46,
   "id": "20e8a251",
   "metadata": {},
   "outputs": [
    {
     "name": "stdout",
     "output_type": "stream",
     "text": [
      "Informações básicas: \n",
      "<class 'pandas.core.frame.DataFrame'>\n",
      "Index: 10 entries, a to j\n",
      "Data columns (total 4 columns):\n",
      " #   Column      Non-Null Count  Dtype  \n",
      "---  ------      --------------  -----  \n",
      " 0   nome        10 non-null     object \n",
      " 1   notas       10 non-null     float64\n",
      " 2   tentativas  10 non-null     int64  \n",
      " 3   aprovado    10 non-null     object \n",
      "dtypes: float64(1), int64(1), object(2)\n",
      "memory usage: 700.0+ bytes\n"
     ]
    }
   ],
   "source": [
    "print('Informações básicas: ')\n",
    "df.info()"
   ]
  },
  {
   "cell_type": "markdown",
   "id": "30cc959c",
   "metadata": {},
   "source": [
    "**Imprima as colunas do seu dataframe**\n"
   ]
  },
  {
   "cell_type": "code",
   "execution_count": 47,
   "id": "1d5229fa",
   "metadata": {},
   "outputs": [
    {
     "name": "stdout",
     "output_type": "stream",
     "text": [
      "Index(['nome', 'notas', 'tentativas', 'aprovado'], dtype='object')\n"
     ]
    }
   ],
   "source": [
    "print(df.columns)"
   ]
  },
  {
   "cell_type": "code",
   "execution_count": null,
   "id": "d73ca6b3",
   "metadata": {},
   "outputs": [],
   "source": []
  }
 ],
 "metadata": {
  "kernelspec": {
   "display_name": "Python 3",
   "language": "python",
   "name": "python3"
  },
  "language_info": {
   "codemirror_mode": {
    "name": "ipython",
    "version": 3
   },
   "file_extension": ".py",
   "mimetype": "text/x-python",
   "name": "python",
   "nbconvert_exporter": "python",
   "pygments_lexer": "ipython3",
   "version": "3.8.8"
  }
 },
 "nbformat": 4,
 "nbformat_minor": 5
}
