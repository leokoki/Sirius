{
  "cells": [
    {
      "cell_type": "markdown",
      "id": "48c084d7",
      "metadata": {
        "id": "48c084d7"
      },
      "source": [
        "##### Introdução"
      ]
    },
    {
      "cell_type": "markdown",
      "id": "025060d1",
      "metadata": {
        "id": "025060d1"
      },
      "source": [
        "Já conhecemos o pandas e um pouco do seu poder para analisar dados! Agora vamos fazer alguns calculos estatísticos usando essa ferramenta já no ritmo de despedida e também como uma  prévia do que esta por vir. Afinal você está crescendo e sua jornada de Introdução ao Python está chegando ao fim e a Estatística já está batendo a porta e dando boas vindas!!"
      ]
    },
    {
      "cell_type": "markdown",
      "id": "92351feb",
      "metadata": {
        "id": "92351feb"
      },
      "source": [
        "##### Estatísticas\n",
        "Estatísticas resumo, para que servem? Adivinhe? - elas \"resumem\" muitos números!!!. Por exemplo, média, mediana, mínimo, máximo e desvio padrão são estatísticas resumidas. O cálculo de estatísticas resumidas permitem que você tenha uma noção melhor de seus dados, mesmo que você tenha milhares ou milhões!!"
      ]
    },
    {
      "cell_type": "markdown",
      "id": "564c22c9",
      "metadata": {
        "id": "564c22c9"
      },
      "source": [
        "##### O conjunto de dados\n",
        "A Walt Disney Studios já produziu mais de 600 filmes desde seu filme de estreia, Branca de Neve e os Sete Anões, em 1937. Vamos, explorar um conjunto de dados de filmes da Disney !! Esses dados foram compilados por <a href=\"https://data.world/kgarrett/disney-character-success-00-16\">Kelly Garrett</a>. Os dados contêm 579 filmes da Disney com seis características: título do filme, data de lançamento, gênero, classificação MPAA, bilheteria bruta  e bilheteria ajustada pela inflação. </p>"
      ]
    },
    {
      "cell_type": "markdown",
      "id": "af2ea7e4",
      "metadata": {
        "id": "af2ea7e4"
      },
      "source": []
    },
    {
      "cell_type": "markdown",
      "id": "51f2b192",
      "metadata": {
        "id": "51f2b192"
      },
      "source": [
        "1 -Importe o  dataset disney_movies_total_gross.csv e salvar com o nome dados."
      ]
    },
    {
      "cell_type": "code",
      "execution_count": null,
      "id": "2750f558",
      "metadata": {
        "id": "2750f558"
      },
      "outputs": [],
      "source": [
        "import pandas as pd\n",
        "# Leia o arquivo  \n",
        "dados = pd.read_csv('disney_movies_total_gross.csv', parse_dates =['release_date'])"
      ]
    },
    {
      "cell_type": "markdown",
      "id": "bb864f60",
      "metadata": {
        "id": "bb864f60"
      },
      "source": []
    },
    {
      "cell_type": "code",
      "execution_count": null,
      "id": "748b642e",
      "metadata": {
        "id": "748b642e"
      },
      "outputs": [],
      "source": []
    },
    {
      "cell_type": "markdown",
      "id": "b230e93c",
      "metadata": {
        "id": "b230e93c"
      },
      "source": [
        "2 -  Imprima as primeiras linhas desse dataset"
      ]
    },
    {
      "cell_type": "code",
      "execution_count": null,
      "id": "59ce51cc",
      "metadata": {
        "id": "59ce51cc",
        "outputId": "01af2e43-a8a3-4807-e44c-1abdc329f0bd"
      },
      "outputs": [
        {
          "data": {
            "text/html": [
              "<div>\n",
              "<style scoped>\n",
              "    .dataframe tbody tr th:only-of-type {\n",
              "        vertical-align: middle;\n",
              "    }\n",
              "\n",
              "    .dataframe tbody tr th {\n",
              "        vertical-align: top;\n",
              "    }\n",
              "\n",
              "    .dataframe thead th {\n",
              "        text-align: right;\n",
              "    }\n",
              "</style>\n",
              "<table border=\"1\" class=\"dataframe\">\n",
              "  <thead>\n",
              "    <tr style=\"text-align: right;\">\n",
              "      <th></th>\n",
              "      <th>tit_do_filme</th>\n",
              "      <th>dt_lancamento</th>\n",
              "      <th>genero</th>\n",
              "      <th>classificacao_mpaa</th>\n",
              "      <th>bilheteria_bruta</th>\n",
              "      <th>bilheteria_ajustada_inflacao</th>\n",
              "    </tr>\n",
              "  </thead>\n",
              "  <tbody>\n",
              "    <tr>\n",
              "      <th>0</th>\n",
              "      <td>Snow White and the Seven Dwarfs</td>\n",
              "      <td>1937-12-21</td>\n",
              "      <td>Musical</td>\n",
              "      <td>G</td>\n",
              "      <td>184925485</td>\n",
              "      <td>5228953251</td>\n",
              "    </tr>\n",
              "    <tr>\n",
              "      <th>1</th>\n",
              "      <td>Pinocchio</td>\n",
              "      <td>1940-02-09</td>\n",
              "      <td>Adventure</td>\n",
              "      <td>G</td>\n",
              "      <td>84300000</td>\n",
              "      <td>2188229052</td>\n",
              "    </tr>\n",
              "    <tr>\n",
              "      <th>2</th>\n",
              "      <td>Fantasia</td>\n",
              "      <td>1940-11-13</td>\n",
              "      <td>Musical</td>\n",
              "      <td>G</td>\n",
              "      <td>83320000</td>\n",
              "      <td>2187090808</td>\n",
              "    </tr>\n",
              "    <tr>\n",
              "      <th>3</th>\n",
              "      <td>Song of the South</td>\n",
              "      <td>1946-11-12</td>\n",
              "      <td>Adventure</td>\n",
              "      <td>G</td>\n",
              "      <td>65000000</td>\n",
              "      <td>1078510579</td>\n",
              "    </tr>\n",
              "    <tr>\n",
              "      <th>4</th>\n",
              "      <td>Cinderella</td>\n",
              "      <td>1950-02-15</td>\n",
              "      <td>Drama</td>\n",
              "      <td>G</td>\n",
              "      <td>85000000</td>\n",
              "      <td>920608730</td>\n",
              "    </tr>\n",
              "  </tbody>\n",
              "</table>\n",
              "</div>"
            ],
            "text/plain": [
              "                      tit_do_filme dt_lancamento     genero  \\\n",
              "0  Snow White and the Seven Dwarfs    1937-12-21    Musical   \n",
              "1                        Pinocchio    1940-02-09  Adventure   \n",
              "2                         Fantasia    1940-11-13    Musical   \n",
              "3                Song of the South    1946-11-12  Adventure   \n",
              "4                       Cinderella    1950-02-15      Drama   \n",
              "\n",
              "  classificacao_mpaa  bilheteria_bruta  bilheteria_ajustada_inflacao  \n",
              "0                  G         184925485                    5228953251  \n",
              "1                  G          84300000                    2188229052  \n",
              "2                  G          83320000                    2187090808  \n",
              "3                  G          65000000                    1078510579  \n",
              "4                  G          85000000                     920608730  "
            ]
          },
          "execution_count": 10,
          "metadata": {},
          "output_type": "execute_result"
        }
      ],
      "source": [
        "dados.head()"
      ]
    },
    {
      "cell_type": "markdown",
      "id": "eab3247c",
      "metadata": {
        "id": "eab3247c"
      },
      "source": [
        "Obs.: Motion Picture Association of America (MPAA) - é uma associação que tem por objetivo original garantir a viabilidade da indústria cinematográfica norte-americana. Além disso, a MPA estabeleceu diretrizes para o conteúdo de filmes que resultaram na criação do Código de Produção em 1930. \n",
        "Por exemplo, a classificação de filmes segundo essa associação é:"
      ]
    },
    {
      "cell_type": "markdown",
      "id": "b8ad1e28",
      "metadata": {
        "id": "b8ad1e28"
      },
      "source": [
        "![wikipedia](mpaa_rating.png)\n",
        "\n",
        "fonte:https://pt.wikipedia.org/wiki/Motion_Picture_Association"
      ]
    },
    {
      "cell_type": "markdown",
      "id": "d52ae9ee",
      "metadata": {
        "id": "d52ae9ee"
      },
      "source": [
        "Agora, antes de mais nada vamos renomear as colunas para ficar mais fácil o entendimento?"
      ]
    },
    {
      "cell_type": "code",
      "execution_count": null,
      "id": "2a938571",
      "metadata": {
        "id": "2a938571"
      },
      "outputs": [],
      "source": [
        "dados.columns = ['tit_do_filme','dt_lancamento','genero','classificacao_mpaa','bilheteria_bruta','bilheteria_ajustada_inflacao']"
      ]
    },
    {
      "cell_type": "markdown",
      "id": "17fce58e",
      "metadata": {
        "id": "17fce58e"
      },
      "source": [
        "3 - Veja o dataset agora:"
      ]
    },
    {
      "cell_type": "code",
      "execution_count": null,
      "id": "4c510b9c",
      "metadata": {
        "id": "4c510b9c",
        "outputId": "8fbe705a-23c1-446e-91e3-aacbc2bb5e68"
      },
      "outputs": [
        {
          "data": {
            "text/html": [
              "<div>\n",
              "<style scoped>\n",
              "    .dataframe tbody tr th:only-of-type {\n",
              "        vertical-align: middle;\n",
              "    }\n",
              "\n",
              "    .dataframe tbody tr th {\n",
              "        vertical-align: top;\n",
              "    }\n",
              "\n",
              "    .dataframe thead th {\n",
              "        text-align: right;\n",
              "    }\n",
              "</style>\n",
              "<table border=\"1\" class=\"dataframe\">\n",
              "  <thead>\n",
              "    <tr style=\"text-align: right;\">\n",
              "      <th></th>\n",
              "      <th>tit_do_filme</th>\n",
              "      <th>dt_lancamento</th>\n",
              "      <th>genero</th>\n",
              "      <th>classificacao_mpaa</th>\n",
              "      <th>bilheteria_bruta</th>\n",
              "      <th>bilheteria_ajustada_inflacao</th>\n",
              "    </tr>\n",
              "  </thead>\n",
              "  <tbody>\n",
              "    <tr>\n",
              "      <th>0</th>\n",
              "      <td>Snow White and the Seven Dwarfs</td>\n",
              "      <td>1937-12-21</td>\n",
              "      <td>Musical</td>\n",
              "      <td>G</td>\n",
              "      <td>184925485</td>\n",
              "      <td>5228953251</td>\n",
              "    </tr>\n",
              "    <tr>\n",
              "      <th>1</th>\n",
              "      <td>Pinocchio</td>\n",
              "      <td>1940-02-09</td>\n",
              "      <td>Adventure</td>\n",
              "      <td>G</td>\n",
              "      <td>84300000</td>\n",
              "      <td>2188229052</td>\n",
              "    </tr>\n",
              "    <tr>\n",
              "      <th>2</th>\n",
              "      <td>Fantasia</td>\n",
              "      <td>1940-11-13</td>\n",
              "      <td>Musical</td>\n",
              "      <td>G</td>\n",
              "      <td>83320000</td>\n",
              "      <td>2187090808</td>\n",
              "    </tr>\n",
              "    <tr>\n",
              "      <th>3</th>\n",
              "      <td>Song of the South</td>\n",
              "      <td>1946-11-12</td>\n",
              "      <td>Adventure</td>\n",
              "      <td>G</td>\n",
              "      <td>65000000</td>\n",
              "      <td>1078510579</td>\n",
              "    </tr>\n",
              "    <tr>\n",
              "      <th>4</th>\n",
              "      <td>Cinderella</td>\n",
              "      <td>1950-02-15</td>\n",
              "      <td>Drama</td>\n",
              "      <td>G</td>\n",
              "      <td>85000000</td>\n",
              "      <td>920608730</td>\n",
              "    </tr>\n",
              "  </tbody>\n",
              "</table>\n",
              "</div>"
            ],
            "text/plain": [
              "                      tit_do_filme dt_lancamento     genero  \\\n",
              "0  Snow White and the Seven Dwarfs    1937-12-21    Musical   \n",
              "1                        Pinocchio    1940-02-09  Adventure   \n",
              "2                         Fantasia    1940-11-13    Musical   \n",
              "3                Song of the South    1946-11-12  Adventure   \n",
              "4                       Cinderella    1950-02-15      Drama   \n",
              "\n",
              "  classificacao_mpaa  bilheteria_bruta  bilheteria_ajustada_inflacao  \n",
              "0                  G         184925485                    5228953251  \n",
              "1                  G          84300000                    2188229052  \n",
              "2                  G          83320000                    2187090808  \n",
              "3                  G          65000000                    1078510579  \n",
              "4                  G          85000000                     920608730  "
            ]
          },
          "execution_count": 12,
          "metadata": {},
          "output_type": "execute_result"
        }
      ],
      "source": [
        "dados.head()"
      ]
    },
    {
      "cell_type": "markdown",
      "id": "39ddad3f",
      "metadata": {
        "id": "39ddad3f"
      },
      "source": []
    },
    {
      "cell_type": "markdown",
      "id": "dbcc6abc",
      "metadata": {
        "id": "dbcc6abc"
      },
      "source": [
        "4 -Imprima informações básicas sobre o DataFrame"
      ]
    },
    {
      "cell_type": "code",
      "execution_count": null,
      "id": "2947b71b",
      "metadata": {
        "id": "2947b71b",
        "outputId": "22b50f3e-4964-433d-9eef-6779b38762c0"
      },
      "outputs": [
        {
          "name": "stdout",
          "output_type": "stream",
          "text": [
            "<class 'pandas.core.frame.DataFrame'>\n",
            "RangeIndex: 579 entries, 0 to 578\n",
            "Data columns (total 6 columns):\n",
            " #   Column                        Non-Null Count  Dtype         \n",
            "---  ------                        --------------  -----         \n",
            " 0   tit_do_filme                  579 non-null    object        \n",
            " 1   dt_lancamento                 579 non-null    datetime64[ns]\n",
            " 2   genero                        562 non-null    object        \n",
            " 3   classificacao_mpaa            523 non-null    object        \n",
            " 4   bilheteria_bruta              579 non-null    int64         \n",
            " 5   bilheteria_ajustada_inflacao  579 non-null    int64         \n",
            "dtypes: datetime64[ns](1), int64(2), object(3)\n",
            "memory usage: 27.3+ KB\n"
          ]
        }
      ],
      "source": [
        "dados.info()"
      ]
    },
    {
      "cell_type": "markdown",
      "id": "99cf10a8",
      "metadata": {
        "id": "99cf10a8"
      },
      "source": [
        "5 - Calcule a média da bilheteria ajustada"
      ]
    },
    {
      "cell_type": "code",
      "execution_count": null,
      "id": "911d11c6",
      "metadata": {
        "id": "911d11c6",
        "outputId": "4177a0e5-1a82-4ff1-de9a-12343f4f49d8"
      },
      "outputs": [
        {
          "name": "stdout",
          "output_type": "stream",
          "text": [
            "118762523.31088082\n"
          ]
        }
      ],
      "source": [
        "print(dados['bilheteria_ajustada_inflacao'].mean())"
      ]
    },
    {
      "cell_type": "markdown",
      "id": "80f0ce0c",
      "metadata": {
        "id": "80f0ce0c"
      },
      "source": [
        "6 - Calcule a mediana da bilheterias ajustada"
      ]
    },
    {
      "cell_type": "code",
      "execution_count": null,
      "id": "bdf6342f",
      "metadata": {
        "id": "bdf6342f",
        "outputId": "a8e96f2d-6cf4-45e4-8706-56a6fc3eaf8f"
      },
      "outputs": [
        {
          "name": "stdout",
          "output_type": "stream",
          "text": [
            "55159783.0\n"
          ]
        }
      ],
      "source": [
        "print(dados['bilheteria_ajustada_inflacao'].median())"
      ]
    },
    {
      "cell_type": "markdown",
      "id": "1ddca842",
      "metadata": {
        "id": "1ddca842"
      },
      "source": [
        "7 - Encontre as datas máximas e minimas de lançamentos de filmes nesse dataset"
      ]
    },
    {
      "cell_type": "code",
      "execution_count": null,
      "id": "951ebec7",
      "metadata": {
        "id": "951ebec7",
        "outputId": "804cb30c-4f34-4f71-8eeb-3cc346e2620c"
      },
      "outputs": [
        {
          "name": "stdout",
          "output_type": "stream",
          "text": [
            "2016-12-16 00:00:00\n",
            "1937-12-21 00:00:00\n"
          ]
        }
      ],
      "source": [
        "print(dados['dt_lancamento'].max())\n",
        "print(dados['dt_lancamento'].min())"
      ]
    },
    {
      "cell_type": "markdown",
      "id": "c2c74ae8",
      "metadata": {
        "id": "c2c74ae8"
      },
      "source": [
        "8 - Qual filme tem maior bilheteria_ajustada_inflacao ?"
      ]
    },
    {
      "cell_type": "code",
      "execution_count": null,
      "id": "840584dd",
      "metadata": {
        "id": "840584dd",
        "outputId": "c57f5271-bca6-4c43-86d2-e2b5a36ee15e"
      },
      "outputs": [
        {
          "data": {
            "text/html": [
              "<div>\n",
              "<style scoped>\n",
              "    .dataframe tbody tr th:only-of-type {\n",
              "        vertical-align: middle;\n",
              "    }\n",
              "\n",
              "    .dataframe tbody tr th {\n",
              "        vertical-align: top;\n",
              "    }\n",
              "\n",
              "    .dataframe thead th {\n",
              "        text-align: right;\n",
              "    }\n",
              "</style>\n",
              "<table border=\"1\" class=\"dataframe\">\n",
              "  <thead>\n",
              "    <tr style=\"text-align: right;\">\n",
              "      <th></th>\n",
              "      <th>tit_do_filme</th>\n",
              "      <th>dt_lancamento</th>\n",
              "      <th>genero</th>\n",
              "      <th>classificacao_mpaa</th>\n",
              "      <th>bilheteria_bruta</th>\n",
              "      <th>bilheteria_ajustada_inflacao</th>\n",
              "    </tr>\n",
              "  </thead>\n",
              "  <tbody>\n",
              "    <tr>\n",
              "      <th>0</th>\n",
              "      <td>Snow White and the Seven Dwarfs</td>\n",
              "      <td>1937-12-21</td>\n",
              "      <td>Musical</td>\n",
              "      <td>G</td>\n",
              "      <td>184925485</td>\n",
              "      <td>5228953251</td>\n",
              "    </tr>\n",
              "  </tbody>\n",
              "</table>\n",
              "</div>"
            ],
            "text/plain": [
              "                      tit_do_filme dt_lancamento   genero classificacao_mpaa  \\\n",
              "0  Snow White and the Seven Dwarfs    1937-12-21  Musical                  G   \n",
              "\n",
              "   bilheteria_bruta  bilheteria_ajustada_inflacao  \n",
              "0         184925485                    5228953251  "
            ]
          },
          "execution_count": 17,
          "metadata": {},
          "output_type": "execute_result"
        }
      ],
      "source": [
        "dados[dados['bilheteria_ajustada_inflacao'] ==dados['bilheteria_ajustada_inflacao'].max() ]"
      ]
    },
    {
      "cell_type": "markdown",
      "id": "e60ba8ea",
      "metadata": {
        "id": "e60ba8ea"
      },
      "source": []
    },
    {
      "cell_type": "code",
      "execution_count": null,
      "id": "d90a31bc",
      "metadata": {
        "id": "d90a31bc"
      },
      "outputs": [],
      "source": []
    },
    {
      "cell_type": "markdown",
      "id": "4eb6a2c1",
      "metadata": {
        "id": "4eb6a2c1"
      },
      "source": [
        "9 - Ordene os dados por dt_lancamento e chame de data_ordenada"
      ]
    },
    {
      "cell_type": "code",
      "execution_count": null,
      "id": "9c8ae3bf",
      "metadata": {
        "id": "9c8ae3bf",
        "outputId": "d0af38f0-e318-40fa-dccd-139c86ad44aa"
      },
      "outputs": [
        {
          "data": {
            "text/html": [
              "<div>\n",
              "<style scoped>\n",
              "    .dataframe tbody tr th:only-of-type {\n",
              "        vertical-align: middle;\n",
              "    }\n",
              "\n",
              "    .dataframe tbody tr th {\n",
              "        vertical-align: top;\n",
              "    }\n",
              "\n",
              "    .dataframe thead th {\n",
              "        text-align: right;\n",
              "    }\n",
              "</style>\n",
              "<table border=\"1\" class=\"dataframe\">\n",
              "  <thead>\n",
              "    <tr style=\"text-align: right;\">\n",
              "      <th></th>\n",
              "      <th>tit_do_filme</th>\n",
              "      <th>dt_lancamento</th>\n",
              "      <th>genero</th>\n",
              "      <th>classificacao_mpaa</th>\n",
              "      <th>bilheteria_bruta</th>\n",
              "      <th>bilheteria_ajustada_inflacao</th>\n",
              "    </tr>\n",
              "  </thead>\n",
              "  <tbody>\n",
              "    <tr>\n",
              "      <th>0</th>\n",
              "      <td>Snow White and the Seven Dwarfs</td>\n",
              "      <td>1937-12-21</td>\n",
              "      <td>Musical</td>\n",
              "      <td>G</td>\n",
              "      <td>184925485</td>\n",
              "      <td>5228953251</td>\n",
              "    </tr>\n",
              "    <tr>\n",
              "      <th>1</th>\n",
              "      <td>Pinocchio</td>\n",
              "      <td>1940-02-09</td>\n",
              "      <td>Adventure</td>\n",
              "      <td>G</td>\n",
              "      <td>84300000</td>\n",
              "      <td>2188229052</td>\n",
              "    </tr>\n",
              "    <tr>\n",
              "      <th>2</th>\n",
              "      <td>Fantasia</td>\n",
              "      <td>1940-11-13</td>\n",
              "      <td>Musical</td>\n",
              "      <td>G</td>\n",
              "      <td>83320000</td>\n",
              "      <td>2187090808</td>\n",
              "    </tr>\n",
              "    <tr>\n",
              "      <th>3</th>\n",
              "      <td>Song of the South</td>\n",
              "      <td>1946-11-12</td>\n",
              "      <td>Adventure</td>\n",
              "      <td>G</td>\n",
              "      <td>65000000</td>\n",
              "      <td>1078510579</td>\n",
              "    </tr>\n",
              "    <tr>\n",
              "      <th>4</th>\n",
              "      <td>Cinderella</td>\n",
              "      <td>1950-02-15</td>\n",
              "      <td>Drama</td>\n",
              "      <td>G</td>\n",
              "      <td>85000000</td>\n",
              "      <td>920608730</td>\n",
              "    </tr>\n",
              "    <tr>\n",
              "      <th>...</th>\n",
              "      <td>...</td>\n",
              "      <td>...</td>\n",
              "      <td>...</td>\n",
              "      <td>...</td>\n",
              "      <td>...</td>\n",
              "      <td>...</td>\n",
              "    </tr>\n",
              "    <tr>\n",
              "      <th>574</th>\n",
              "      <td>The Light Between Oceans</td>\n",
              "      <td>2016-09-02</td>\n",
              "      <td>Drama</td>\n",
              "      <td>PG-13</td>\n",
              "      <td>12545979</td>\n",
              "      <td>12545979</td>\n",
              "    </tr>\n",
              "    <tr>\n",
              "      <th>575</th>\n",
              "      <td>Queen of Katwe</td>\n",
              "      <td>2016-09-23</td>\n",
              "      <td>Drama</td>\n",
              "      <td>PG</td>\n",
              "      <td>8874389</td>\n",
              "      <td>8874389</td>\n",
              "    </tr>\n",
              "    <tr>\n",
              "      <th>576</th>\n",
              "      <td>Doctor Strange</td>\n",
              "      <td>2016-11-04</td>\n",
              "      <td>Adventure</td>\n",
              "      <td>PG-13</td>\n",
              "      <td>232532923</td>\n",
              "      <td>232532923</td>\n",
              "    </tr>\n",
              "    <tr>\n",
              "      <th>577</th>\n",
              "      <td>Moana</td>\n",
              "      <td>2016-11-23</td>\n",
              "      <td>Adventure</td>\n",
              "      <td>PG</td>\n",
              "      <td>246082029</td>\n",
              "      <td>246082029</td>\n",
              "    </tr>\n",
              "    <tr>\n",
              "      <th>578</th>\n",
              "      <td>Rogue One: A Star Wars Story</td>\n",
              "      <td>2016-12-16</td>\n",
              "      <td>Adventure</td>\n",
              "      <td>PG-13</td>\n",
              "      <td>529483936</td>\n",
              "      <td>529483936</td>\n",
              "    </tr>\n",
              "  </tbody>\n",
              "</table>\n",
              "<p>579 rows × 6 columns</p>\n",
              "</div>"
            ],
            "text/plain": [
              "                        tit_do_filme dt_lancamento     genero  \\\n",
              "0    Snow White and the Seven Dwarfs    1937-12-21    Musical   \n",
              "1                          Pinocchio    1940-02-09  Adventure   \n",
              "2                           Fantasia    1940-11-13    Musical   \n",
              "3                  Song of the South    1946-11-12  Adventure   \n",
              "4                         Cinderella    1950-02-15      Drama   \n",
              "..                               ...           ...        ...   \n",
              "574         The Light Between Oceans    2016-09-02      Drama   \n",
              "575                   Queen of Katwe    2016-09-23      Drama   \n",
              "576                   Doctor Strange    2016-11-04  Adventure   \n",
              "577                            Moana    2016-11-23  Adventure   \n",
              "578     Rogue One: A Star Wars Story    2016-12-16  Adventure   \n",
              "\n",
              "    classificacao_mpaa  bilheteria_bruta  bilheteria_ajustada_inflacao  \n",
              "0                    G         184925485                    5228953251  \n",
              "1                    G          84300000                    2188229052  \n",
              "2                    G          83320000                    2187090808  \n",
              "3                    G          65000000                    1078510579  \n",
              "4                    G          85000000                     920608730  \n",
              "..                 ...               ...                           ...  \n",
              "574              PG-13          12545979                      12545979  \n",
              "575                 PG           8874389                       8874389  \n",
              "576              PG-13         232532923                     232532923  \n",
              "577                 PG         246082029                     246082029  \n",
              "578              PG-13         529483936                     529483936  \n",
              "\n",
              "[579 rows x 6 columns]"
            ]
          },
          "execution_count": 18,
          "metadata": {},
          "output_type": "execute_result"
        }
      ],
      "source": [
        "#ordem por dt_lancamento\n",
        "data_ordenada = dados.sort_values('dt_lancamento', ascending=True)\n",
        "data_ordenada"
      ]
    },
    {
      "cell_type": "markdown",
      "id": "83cdf73f",
      "metadata": {
        "id": "83cdf73f"
      },
      "source": [
        "10- Obtenha a soma cumulativa da bilheteria_ajustada_inflacao,adicione ao dataset com o nome de bilheteria_milionaria"
      ]
    },
    {
      "cell_type": "code",
      "execution_count": null,
      "id": "689b7837",
      "metadata": {
        "id": "689b7837"
      },
      "outputs": [],
      "source": [
        " dados['bilheteria_milionaria'] = dados['bilheteria_ajustada_inflacao'].cumsum()"
      ]
    },
    {
      "cell_type": "markdown",
      "id": "e0c7ffc8",
      "metadata": {
        "id": "e0c7ffc8"
      },
      "source": [
        "11 - Veja a coluna que você criou"
      ]
    },
    {
      "cell_type": "code",
      "execution_count": null,
      "id": "533171d5",
      "metadata": {
        "id": "533171d5",
        "outputId": "651c5f21-b1e0-46a5-c0d6-c1ce2b922a47"
      },
      "outputs": [
        {
          "data": {
            "text/plain": [
              "0       5228953251\n",
              "1       7417182303\n",
              "2       9604273111\n",
              "3      10682783690\n",
              "4      11603392420\n",
              "          ...     \n",
              "574    67746527720\n",
              "575    67755402109\n",
              "576    67987935032\n",
              "577    68234017061\n",
              "578    68763500997\n",
              "Name: bilheteria_milionaria, Length: 579, dtype: int64"
            ]
          },
          "execution_count": 20,
          "metadata": {},
          "output_type": "execute_result"
        }
      ],
      "source": [
        " dados['bilheteria_milionaria']"
      ]
    },
    {
      "cell_type": "markdown",
      "id": "875fb027",
      "metadata": {
        "id": "875fb027"
      },
      "source": [
        "12 - Selecione os filmes de aventura e atribua a uma variável chamada filmes_aventura"
      ]
    },
    {
      "cell_type": "code",
      "execution_count": null,
      "id": "38bbaae5",
      "metadata": {
        "id": "38bbaae5"
      },
      "outputs": [],
      "source": [
        "filmes_aventura = dados[dados['genero']=='Adventure']"
      ]
    },
    {
      "cell_type": "markdown",
      "id": "8816a9c3",
      "metadata": {
        "id": "8816a9c3"
      },
      "source": [
        "13 - Veja as primeiras linha desse novo dataset:"
      ]
    },
    {
      "cell_type": "code",
      "execution_count": null,
      "id": "719759d1",
      "metadata": {
        "id": "719759d1",
        "outputId": "12b77210-1617-47d4-f5a0-a5c6ad3b3877"
      },
      "outputs": [
        {
          "data": {
            "text/html": [
              "<div>\n",
              "<style scoped>\n",
              "    .dataframe tbody tr th:only-of-type {\n",
              "        vertical-align: middle;\n",
              "    }\n",
              "\n",
              "    .dataframe tbody tr th {\n",
              "        vertical-align: top;\n",
              "    }\n",
              "\n",
              "    .dataframe thead th {\n",
              "        text-align: right;\n",
              "    }\n",
              "</style>\n",
              "<table border=\"1\" class=\"dataframe\">\n",
              "  <thead>\n",
              "    <tr style=\"text-align: right;\">\n",
              "      <th></th>\n",
              "      <th>tit_do_filme</th>\n",
              "      <th>dt_lancamento</th>\n",
              "      <th>genero</th>\n",
              "      <th>classificacao_mpaa</th>\n",
              "      <th>bilheteria_bruta</th>\n",
              "      <th>bilheteria_ajustada_inflacao</th>\n",
              "      <th>bilheteria_milionaria</th>\n",
              "    </tr>\n",
              "  </thead>\n",
              "  <tbody>\n",
              "    <tr>\n",
              "      <th>1</th>\n",
              "      <td>Pinocchio</td>\n",
              "      <td>1940-02-09</td>\n",
              "      <td>Adventure</td>\n",
              "      <td>G</td>\n",
              "      <td>84300000</td>\n",
              "      <td>2188229052</td>\n",
              "      <td>7417182303</td>\n",
              "    </tr>\n",
              "    <tr>\n",
              "      <th>3</th>\n",
              "      <td>Song of the South</td>\n",
              "      <td>1946-11-12</td>\n",
              "      <td>Adventure</td>\n",
              "      <td>G</td>\n",
              "      <td>65000000</td>\n",
              "      <td>1078510579</td>\n",
              "      <td>10682783690</td>\n",
              "    </tr>\n",
              "    <tr>\n",
              "      <th>5</th>\n",
              "      <td>20,000 Leagues Under the Sea</td>\n",
              "      <td>1954-12-23</td>\n",
              "      <td>Adventure</td>\n",
              "      <td>NaN</td>\n",
              "      <td>28200000</td>\n",
              "      <td>528279994</td>\n",
              "      <td>12131672414</td>\n",
              "    </tr>\n",
              "    <tr>\n",
              "      <th>12</th>\n",
              "      <td>The Sword in the Stone</td>\n",
              "      <td>1963-12-25</td>\n",
              "      <td>Adventure</td>\n",
              "      <td>NaN</td>\n",
              "      <td>22182353</td>\n",
              "      <td>153870834</td>\n",
              "      <td>15450472960</td>\n",
              "    </tr>\n",
              "    <tr>\n",
              "      <th>21</th>\n",
              "      <td>The Rescuers</td>\n",
              "      <td>1977-06-22</td>\n",
              "      <td>Adventure</td>\n",
              "      <td>NaN</td>\n",
              "      <td>48775599</td>\n",
              "      <td>159743914</td>\n",
              "      <td>17215424200</td>\n",
              "    </tr>\n",
              "  </tbody>\n",
              "</table>\n",
              "</div>"
            ],
            "text/plain": [
              "                    tit_do_filme dt_lancamento     genero classificacao_mpaa  \\\n",
              "1                      Pinocchio    1940-02-09  Adventure                  G   \n",
              "3              Song of the South    1946-11-12  Adventure                  G   \n",
              "5   20,000 Leagues Under the Sea    1954-12-23  Adventure                NaN   \n",
              "12        The Sword in the Stone    1963-12-25  Adventure                NaN   \n",
              "21                  The Rescuers    1977-06-22  Adventure                NaN   \n",
              "\n",
              "    bilheteria_bruta  bilheteria_ajustada_inflacao  bilheteria_milionaria  \n",
              "1           84300000                    2188229052             7417182303  \n",
              "3           65000000                    1078510579            10682783690  \n",
              "5           28200000                     528279994            12131672414  \n",
              "12          22182353                     153870834            15450472960  \n",
              "21          48775599                     159743914            17215424200  "
            ]
          },
          "execution_count": 22,
          "metadata": {},
          "output_type": "execute_result"
        }
      ],
      "source": [
        "filmes_aventura.head()"
      ]
    },
    {
      "cell_type": "markdown",
      "id": "58b724d2",
      "metadata": {
        "id": "58b724d2"
      },
      "source": [
        "14 - Conte o número de filmes por genero e ordene"
      ]
    },
    {
      "cell_type": "code",
      "execution_count": null,
      "id": "9f35f2dd",
      "metadata": {
        "id": "9f35f2dd",
        "outputId": "eb0cfeb3-b5ea-4166-d24d-4dc43cd5cb86"
      },
      "outputs": [
        {
          "name": "stdout",
          "output_type": "stream",
          "text": [
            "Comedy                 182\n",
            "Adventure              129\n",
            "Drama                  114\n",
            "Action                  40\n",
            "Thriller/Suspense       24\n",
            "Romantic Comedy         23\n",
            "Musical                 16\n",
            "Documentary             16\n",
            "Western                  7\n",
            "Horror                   6\n",
            "Black Comedy             3\n",
            "Concert/Performance      2\n",
            "Name: genero, dtype: int64\n"
          ]
        }
      ],
      "source": [
        "conta_genero = dados['genero'].value_counts(sort=True)\n",
        "print(conta_genero)"
      ]
    },
    {
      "cell_type": "markdown",
      "id": "5acb96d9",
      "metadata": {
        "id": "5acb96d9"
      },
      "source": [
        "15 - Calcule agora a proporção de filmes por genero e ordene"
      ]
    },
    {
      "cell_type": "code",
      "execution_count": null,
      "id": "934f5164",
      "metadata": {
        "id": "934f5164",
        "outputId": "4f86a02d-da6e-43db-a395-0936e7cc5300"
      },
      "outputs": [
        {
          "name": "stdout",
          "output_type": "stream",
          "text": [
            "Comedy                 0.323843\n",
            "Adventure              0.229537\n",
            "Drama                  0.202847\n",
            "Action                 0.071174\n",
            "Thriller/Suspense      0.042705\n",
            "Romantic Comedy        0.040925\n",
            "Musical                0.028470\n",
            "Documentary            0.028470\n",
            "Western                0.012456\n",
            "Horror                 0.010676\n",
            "Black Comedy           0.005338\n",
            "Concert/Performance    0.003559\n",
            "Name: genero, dtype: float64\n"
          ]
        }
      ],
      "source": [
        "conta_genero = dados['genero'].value_counts(normalize=True)\n",
        "print(conta_genero)"
      ]
    },
    {
      "cell_type": "markdown",
      "id": "c0e64ed2",
      "metadata": {
        "id": "c0e64ed2"
      },
      "source": [
        "Estatísticas resumidas agrupadas"
      ]
    },
    {
      "cell_type": "markdown",
      "id": "8ce11db4",
      "metadata": {
        "id": "8ce11db4"
      },
      "source": [
        "16 - Calcule o total da \"bilheteria_bruta\""
      ]
    },
    {
      "cell_type": "code",
      "execution_count": null,
      "id": "55dbb07e",
      "metadata": {
        "id": "55dbb07e",
        "outputId": "c9397668-e94a-480c-f286-3a11326ba22c"
      },
      "outputs": [
        {
          "data": {
            "text/plain": [
              "37462335553"
            ]
          },
          "execution_count": 25,
          "metadata": {},
          "output_type": "execute_result"
        }
      ],
      "source": [
        "bilheteria_bruta = dados['bilheteria_bruta'].sum()\n",
        "bilheteria_bruta"
      ]
    },
    {
      "cell_type": "markdown",
      "id": "a35facfb",
      "metadata": {
        "id": "a35facfb"
      },
      "source": [
        "17 - Visualize os tipos de generos que tem nesse dataset:"
      ]
    },
    {
      "cell_type": "code",
      "execution_count": null,
      "id": "1a6152ca",
      "metadata": {
        "id": "1a6152ca",
        "outputId": "c160e486-3813-4b2b-bc04-7c97328ab430"
      },
      "outputs": [
        {
          "data": {
            "text/plain": [
              "array(['Musical', 'Adventure', 'Drama', 'Comedy', nan, 'Action', 'Horror',\n",
              "       'Romantic Comedy', 'Thriller/Suspense', 'Western', 'Black Comedy',\n",
              "       'Documentary', 'Concert/Performance'], dtype=object)"
            ]
          },
          "execution_count": 26,
          "metadata": {},
          "output_type": "execute_result"
        }
      ],
      "source": [
        "dados.genero.unique()"
      ]
    },
    {
      "cell_type": "markdown",
      "id": "47955f3b",
      "metadata": {
        "id": "47955f3b"
      },
      "source": [
        "18 - Calcule o total da bilheteria_bruta pelo genero 'Drama'"
      ]
    },
    {
      "cell_type": "code",
      "execution_count": null,
      "id": "504703e4",
      "metadata": {
        "id": "504703e4",
        "outputId": "6dccd502-0b83-4fb8-e0a7-275d72f48e1d"
      },
      "outputs": [
        {
          "data": {
            "text/plain": [
              "4106972970"
            ]
          },
          "execution_count": 27,
          "metadata": {},
          "output_type": "execute_result"
        }
      ],
      "source": [
        "drama = dados[dados['genero']=='Drama']['bilheteria_bruta'].sum()\n",
        "drama"
      ]
    },
    {
      "cell_type": "markdown",
      "id": "2671365c",
      "metadata": {
        "id": "2671365c"
      },
      "source": [
        "19 - Calcule o total da bilheteria_bruta pelo genero Comedia 'Comedy'"
      ]
    },
    {
      "cell_type": "code",
      "execution_count": null,
      "id": "b06d5fcd",
      "metadata": {
        "id": "b06d5fcd",
        "outputId": "ac235360-3ac5-4cea-f1f8-e2d8c9d72c5b"
      },
      "outputs": [
        {
          "data": {
            "text/plain": [
              "8119619678"
            ]
          },
          "execution_count": 28,
          "metadata": {},
          "output_type": "execute_result"
        }
      ],
      "source": [
        "comedia = dados[dados['genero']=='Comedy']['bilheteria_bruta'].sum()\n",
        "comedia"
      ]
    },
    {
      "cell_type": "markdown",
      "id": "f3073292",
      "metadata": {
        "id": "f3073292"
      },
      "source": [
        "20 - Calcule o total da bilheteria_bruta pelo genero Ação 'Action'"
      ]
    },
    {
      "cell_type": "code",
      "execution_count": null,
      "id": "fc908d7a",
      "metadata": {
        "id": "fc908d7a",
        "outputId": "2965d102-eeda-42e9-a277-fa42bc666890"
      },
      "outputs": [
        {
          "data": {
            "text/plain": [
              "4184563282"
            ]
          },
          "execution_count": 29,
          "metadata": {},
          "output_type": "execute_result"
        }
      ],
      "source": [
        "acao = dados[dados['genero']=='Action']['bilheteria_bruta'].sum()\n",
        "acao"
      ]
    },
    {
      "cell_type": "markdown",
      "id": "13fd0acf",
      "metadata": {
        "id": "13fd0acf"
      },
      "source": [
        "21 -  Obtenha proporção do bilheteria_bruta para os três generos acima."
      ]
    },
    {
      "cell_type": "code",
      "execution_count": null,
      "id": "408343b4",
      "metadata": {
        "id": "408343b4",
        "outputId": "d341e0d1-8ce1-4c93-f066-3c223eb443e6"
      },
      "outputs": [
        {
          "name": "stdout",
          "output_type": "stream",
          "text": [
            "[0.10962939 0.21674088 0.11170054]\n"
          ]
        }
      ],
      "source": [
        "proporcao = [drama, comedia, acao] / bilheteria_bruta\n",
        "print(proporcao)"
      ]
    },
    {
      "cell_type": "markdown",
      "id": "def6832b",
      "metadata": {
        "id": "def6832b"
      },
      "source": [
        "22 - Importe numpy com o alias np"
      ]
    },
    {
      "cell_type": "code",
      "execution_count": null,
      "id": "55f563e8",
      "metadata": {
        "id": "55f563e8"
      },
      "outputs": [],
      "source": [
        "import numpy as np"
      ]
    },
    {
      "cell_type": "markdown",
      "id": "70537d5b",
      "metadata": {
        "id": "70537d5b"
      },
      "source": [
        "23 - Para cada genero de filme, agregue a bilheteria_bruta obtendo min, max, média e mediana e imprima o resultado\n",
        "\n",
        "Dica: use numpy para as estatísticas"
      ]
    },
    {
      "cell_type": "code",
      "execution_count": null,
      "id": "fe3088e8",
      "metadata": {
        "id": "fe3088e8",
        "outputId": "64b427b8-7fb8-4888-b87b-81a355ea9e8b"
      },
      "outputs": [
        {
          "data": {
            "text/html": [
              "<div>\n",
              "<style scoped>\n",
              "    .dataframe tbody tr th:only-of-type {\n",
              "        vertical-align: middle;\n",
              "    }\n",
              "\n",
              "    .dataframe tbody tr th {\n",
              "        vertical-align: top;\n",
              "    }\n",
              "\n",
              "    .dataframe thead th {\n",
              "        text-align: right;\n",
              "    }\n",
              "</style>\n",
              "<table border=\"1\" class=\"dataframe\">\n",
              "  <thead>\n",
              "    <tr style=\"text-align: right;\">\n",
              "      <th></th>\n",
              "      <th>amin</th>\n",
              "      <th>amax</th>\n",
              "      <th>mean</th>\n",
              "      <th>median</th>\n",
              "    </tr>\n",
              "    <tr>\n",
              "      <th>genero</th>\n",
              "      <th></th>\n",
              "      <th></th>\n",
              "      <th></th>\n",
              "      <th></th>\n",
              "    </tr>\n",
              "  </thead>\n",
              "  <tbody>\n",
              "    <tr>\n",
              "      <th>Action</th>\n",
              "      <td>0</td>\n",
              "      <td>623279547</td>\n",
              "      <td>1.046141e+08</td>\n",
              "      <td>43315244.5</td>\n",
              "    </tr>\n",
              "    <tr>\n",
              "      <th>Adventure</th>\n",
              "      <td>2815</td>\n",
              "      <td>936662225</td>\n",
              "      <td>1.270471e+08</td>\n",
              "      <td>65000000.0</td>\n",
              "    </tr>\n",
              "    <tr>\n",
              "      <th>Black Comedy</th>\n",
              "      <td>17105219</td>\n",
              "      <td>52353636</td>\n",
              "      <td>3.251440e+07</td>\n",
              "      <td>28084357.0</td>\n",
              "    </tr>\n",
              "    <tr>\n",
              "      <th>Comedy</th>\n",
              "      <td>45779</td>\n",
              "      <td>244082982</td>\n",
              "      <td>4.461329e+07</td>\n",
              "      <td>26923500.5</td>\n",
              "    </tr>\n",
              "    <tr>\n",
              "      <th>Concert/Performance</th>\n",
              "      <td>38174685</td>\n",
              "      <td>65281781</td>\n",
              "      <td>5.172823e+07</td>\n",
              "      <td>51728233.0</td>\n",
              "    </tr>\n",
              "    <tr>\n",
              "      <th>Documentary</th>\n",
              "      <td>20521</td>\n",
              "      <td>32011576</td>\n",
              "      <td>1.129285e+07</td>\n",
              "      <td>9688331.0</td>\n",
              "    </tr>\n",
              "    <tr>\n",
              "      <th>Drama</th>\n",
              "      <td>0</td>\n",
              "      <td>201151353</td>\n",
              "      <td>3.602608e+07</td>\n",
              "      <td>19730097.0</td>\n",
              "    </tr>\n",
              "    <tr>\n",
              "      <th>Horror</th>\n",
              "      <td>4877567</td>\n",
              "      <td>26570463</td>\n",
              "      <td>1.451148e+07</td>\n",
              "      <td>13439137.5</td>\n",
              "    </tr>\n",
              "    <tr>\n",
              "      <th>Musical</th>\n",
              "      <td>5632086</td>\n",
              "      <td>218951625</td>\n",
              "      <td>7.233026e+07</td>\n",
              "      <td>53041787.5</td>\n",
              "    </tr>\n",
              "    <tr>\n",
              "      <th>Romantic Comedy</th>\n",
              "      <td>468240</td>\n",
              "      <td>178406268</td>\n",
              "      <td>5.009595e+07</td>\n",
              "      <td>32680633.0</td>\n",
              "    </tr>\n",
              "    <tr>\n",
              "      <th>Thriller/Suspense</th>\n",
              "      <td>2154540</td>\n",
              "      <td>293506292</td>\n",
              "      <td>5.861694e+07</td>\n",
              "      <td>28153827.0</td>\n",
              "    </tr>\n",
              "    <tr>\n",
              "      <th>Western</th>\n",
              "      <td>8247627</td>\n",
              "      <td>89302115</td>\n",
              "      <td>5.128735e+07</td>\n",
              "      <td>56932305.0</td>\n",
              "    </tr>\n",
              "  </tbody>\n",
              "</table>\n",
              "</div>"
            ],
            "text/plain": [
              "                         amin       amax          mean      median\n",
              "genero                                                            \n",
              "Action                      0  623279547  1.046141e+08  43315244.5\n",
              "Adventure                2815  936662225  1.270471e+08  65000000.0\n",
              "Black Comedy         17105219   52353636  3.251440e+07  28084357.0\n",
              "Comedy                  45779  244082982  4.461329e+07  26923500.5\n",
              "Concert/Performance  38174685   65281781  5.172823e+07  51728233.0\n",
              "Documentary             20521   32011576  1.129285e+07   9688331.0\n",
              "Drama                       0  201151353  3.602608e+07  19730097.0\n",
              "Horror                4877567   26570463  1.451148e+07  13439137.5\n",
              "Musical               5632086  218951625  7.233026e+07  53041787.5\n",
              "Romantic Comedy        468240  178406268  5.009595e+07  32680633.0\n",
              "Thriller/Suspense     2154540  293506292  5.861694e+07  28153827.0\n",
              "Western               8247627   89302115  5.128735e+07  56932305.0"
            ]
          },
          "execution_count": 32,
          "metadata": {},
          "output_type": "execute_result"
        }
      ],
      "source": [
        "estat_total_bilheteria_bruta = dados.groupby('genero')['bilheteria_bruta'].agg([np.min, np.max, np.mean, np.median])\n",
        "estat_total_bilheteria_bruta"
      ]
    },
    {
      "cell_type": "markdown",
      "id": "3fdc9959",
      "metadata": {
        "id": "3fdc9959"
      },
      "source": [
        "24 - Para cada genero de filme, agregue bilheteria_bruta e bilheteria_ajustada_inflacao: obtenha o minimo, maximo, média e mediana"
      ]
    },
    {
      "cell_type": "code",
      "execution_count": null,
      "id": "1fb8b150",
      "metadata": {
        "id": "1fb8b150",
        "outputId": "54b0f6ec-83f3-4e3b-dc41-94724019b848"
      },
      "outputs": [
        {
          "data": {
            "text/html": [
              "<div>\n",
              "<style scoped>\n",
              "    .dataframe tbody tr th:only-of-type {\n",
              "        vertical-align: middle;\n",
              "    }\n",
              "\n",
              "    .dataframe tbody tr th {\n",
              "        vertical-align: top;\n",
              "    }\n",
              "\n",
              "    .dataframe thead tr th {\n",
              "        text-align: left;\n",
              "    }\n",
              "\n",
              "    .dataframe thead tr:last-of-type th {\n",
              "        text-align: right;\n",
              "    }\n",
              "</style>\n",
              "<table border=\"1\" class=\"dataframe\">\n",
              "  <thead>\n",
              "    <tr>\n",
              "      <th></th>\n",
              "      <th colspan=\"4\" halign=\"left\">bilheteria_bruta</th>\n",
              "      <th colspan=\"4\" halign=\"left\">bilheteria_ajustada_inflacao</th>\n",
              "    </tr>\n",
              "    <tr>\n",
              "      <th></th>\n",
              "      <th>amin</th>\n",
              "      <th>amax</th>\n",
              "      <th>mean</th>\n",
              "      <th>median</th>\n",
              "      <th>amin</th>\n",
              "      <th>amax</th>\n",
              "      <th>mean</th>\n",
              "      <th>median</th>\n",
              "    </tr>\n",
              "    <tr>\n",
              "      <th>genero</th>\n",
              "      <th></th>\n",
              "      <th></th>\n",
              "      <th></th>\n",
              "      <th></th>\n",
              "      <th></th>\n",
              "      <th></th>\n",
              "      <th></th>\n",
              "      <th></th>\n",
              "    </tr>\n",
              "  </thead>\n",
              "  <tbody>\n",
              "    <tr>\n",
              "      <th>Action</th>\n",
              "      <td>0</td>\n",
              "      <td>623279547</td>\n",
              "      <td>1.046141e+08</td>\n",
              "      <td>43315244.5</td>\n",
              "      <td>0</td>\n",
              "      <td>660081224</td>\n",
              "      <td>1.374734e+08</td>\n",
              "      <td>69012064.5</td>\n",
              "    </tr>\n",
              "    <tr>\n",
              "      <th>Adventure</th>\n",
              "      <td>2815</td>\n",
              "      <td>936662225</td>\n",
              "      <td>1.270471e+08</td>\n",
              "      <td>65000000.0</td>\n",
              "      <td>2984</td>\n",
              "      <td>2188229052</td>\n",
              "      <td>1.903974e+08</td>\n",
              "      <td>102254492.0</td>\n",
              "    </tr>\n",
              "    <tr>\n",
              "      <th>Black Comedy</th>\n",
              "      <td>17105219</td>\n",
              "      <td>52353636</td>\n",
              "      <td>3.251440e+07</td>\n",
              "      <td>28084357.0</td>\n",
              "      <td>28392518</td>\n",
              "      <td>76758193</td>\n",
              "      <td>5.224349e+07</td>\n",
              "      <td>51579764.0</td>\n",
              "    </tr>\n",
              "    <tr>\n",
              "      <th>Comedy</th>\n",
              "      <td>45779</td>\n",
              "      <td>244082982</td>\n",
              "      <td>4.461329e+07</td>\n",
              "      <td>26923500.5</td>\n",
              "      <td>82277</td>\n",
              "      <td>1362870985</td>\n",
              "      <td>8.466773e+07</td>\n",
              "      <td>51195217.0</td>\n",
              "    </tr>\n",
              "    <tr>\n",
              "      <th>Concert/Performance</th>\n",
              "      <td>38174685</td>\n",
              "      <td>65281781</td>\n",
              "      <td>5.172823e+07</td>\n",
              "      <td>51728233.0</td>\n",
              "      <td>38174685</td>\n",
              "      <td>76646993</td>\n",
              "      <td>5.741084e+07</td>\n",
              "      <td>57410839.0</td>\n",
              "    </tr>\n",
              "    <tr>\n",
              "      <th>Documentary</th>\n",
              "      <td>20521</td>\n",
              "      <td>32011576</td>\n",
              "      <td>1.129285e+07</td>\n",
              "      <td>9688331.0</td>\n",
              "      <td>23064</td>\n",
              "      <td>35981010</td>\n",
              "      <td>1.271803e+07</td>\n",
              "      <td>12344483.5</td>\n",
              "    </tr>\n",
              "    <tr>\n",
              "      <th>Drama</th>\n",
              "      <td>0</td>\n",
              "      <td>201151353</td>\n",
              "      <td>3.602608e+07</td>\n",
              "      <td>19730097.0</td>\n",
              "      <td>0</td>\n",
              "      <td>1236035515</td>\n",
              "      <td>7.189302e+07</td>\n",
              "      <td>39325794.0</td>\n",
              "    </tr>\n",
              "    <tr>\n",
              "      <th>Horror</th>\n",
              "      <td>4877567</td>\n",
              "      <td>26570463</td>\n",
              "      <td>1.451148e+07</td>\n",
              "      <td>13439137.5</td>\n",
              "      <td>9907922</td>\n",
              "      <td>48546161</td>\n",
              "      <td>2.341385e+07</td>\n",
              "      <td>18589709.5</td>\n",
              "    </tr>\n",
              "    <tr>\n",
              "      <th>Musical</th>\n",
              "      <td>5632086</td>\n",
              "      <td>218951625</td>\n",
              "      <td>7.233026e+07</td>\n",
              "      <td>53041787.5</td>\n",
              "      <td>11468231</td>\n",
              "      <td>5228953251</td>\n",
              "      <td>6.035979e+08</td>\n",
              "      <td>103167587.5</td>\n",
              "    </tr>\n",
              "    <tr>\n",
              "      <th>Romantic Comedy</th>\n",
              "      <td>468240</td>\n",
              "      <td>178406268</td>\n",
              "      <td>5.009595e+07</td>\n",
              "      <td>32680633.0</td>\n",
              "      <td>907414</td>\n",
              "      <td>356389765</td>\n",
              "      <td>7.777708e+07</td>\n",
              "      <td>57925202.0</td>\n",
              "    </tr>\n",
              "    <tr>\n",
              "      <th>Thriller/Suspense</th>\n",
              "      <td>2154540</td>\n",
              "      <td>293506292</td>\n",
              "      <td>5.861694e+07</td>\n",
              "      <td>28153827.0</td>\n",
              "      <td>3957025</td>\n",
              "      <td>485424724</td>\n",
              "      <td>8.965379e+07</td>\n",
              "      <td>51804588.0</td>\n",
              "    </tr>\n",
              "    <tr>\n",
              "      <th>Western</th>\n",
              "      <td>8247627</td>\n",
              "      <td>89302115</td>\n",
              "      <td>5.128735e+07</td>\n",
              "      <td>56932305.0</td>\n",
              "      <td>15983331</td>\n",
              "      <td>115781734</td>\n",
              "      <td>7.381571e+07</td>\n",
              "      <td>89042541.0</td>\n",
              "    </tr>\n",
              "  </tbody>\n",
              "</table>\n",
              "</div>"
            ],
            "text/plain": [
              "                    bilheteria_bruta                                       \\\n",
              "                                amin       amax          mean      median   \n",
              "genero                                                                      \n",
              "Action                             0  623279547  1.046141e+08  43315244.5   \n",
              "Adventure                       2815  936662225  1.270471e+08  65000000.0   \n",
              "Black Comedy                17105219   52353636  3.251440e+07  28084357.0   \n",
              "Comedy                         45779  244082982  4.461329e+07  26923500.5   \n",
              "Concert/Performance         38174685   65281781  5.172823e+07  51728233.0   \n",
              "Documentary                    20521   32011576  1.129285e+07   9688331.0   \n",
              "Drama                              0  201151353  3.602608e+07  19730097.0   \n",
              "Horror                       4877567   26570463  1.451148e+07  13439137.5   \n",
              "Musical                      5632086  218951625  7.233026e+07  53041787.5   \n",
              "Romantic Comedy               468240  178406268  5.009595e+07  32680633.0   \n",
              "Thriller/Suspense            2154540  293506292  5.861694e+07  28153827.0   \n",
              "Western                      8247627   89302115  5.128735e+07  56932305.0   \n",
              "\n",
              "                    bilheteria_ajustada_inflacao                            \\\n",
              "                                            amin        amax          mean   \n",
              "genero                                                                       \n",
              "Action                                         0   660081224  1.374734e+08   \n",
              "Adventure                                   2984  2188229052  1.903974e+08   \n",
              "Black Comedy                            28392518    76758193  5.224349e+07   \n",
              "Comedy                                     82277  1362870985  8.466773e+07   \n",
              "Concert/Performance                     38174685    76646993  5.741084e+07   \n",
              "Documentary                                23064    35981010  1.271803e+07   \n",
              "Drama                                          0  1236035515  7.189302e+07   \n",
              "Horror                                   9907922    48546161  2.341385e+07   \n",
              "Musical                                 11468231  5228953251  6.035979e+08   \n",
              "Romantic Comedy                           907414   356389765  7.777708e+07   \n",
              "Thriller/Suspense                        3957025   485424724  8.965379e+07   \n",
              "Western                                 15983331   115781734  7.381571e+07   \n",
              "\n",
              "                                  \n",
              "                          median  \n",
              "genero                            \n",
              "Action                69012064.5  \n",
              "Adventure            102254492.0  \n",
              "Black Comedy          51579764.0  \n",
              "Comedy                51195217.0  \n",
              "Concert/Performance   57410839.0  \n",
              "Documentary           12344483.5  \n",
              "Drama                 39325794.0  \n",
              "Horror                18589709.5  \n",
              "Musical              103167587.5  \n",
              "Romantic Comedy       57925202.0  \n",
              "Thriller/Suspense     51804588.0  \n",
              "Western               89042541.0  "
            ]
          },
          "execution_count": 33,
          "metadata": {},
          "output_type": "execute_result"
        }
      ],
      "source": [
        "estat_total_bruto = dados.groupby('genero')[['bilheteria_bruta', 'bilheteria_ajustada_inflacao']].agg([np.min, np.max, np.mean, np.median])\n",
        "estat_total_bruto"
      ]
    },
    {
      "cell_type": "markdown",
      "id": "fbebf915",
      "metadata": {
        "id": "fbebf915"
      },
      "source": [
        "Está na hora de fazermos um pouco de gráficos. Não existe análise de dados sem visualização!!"
      ]
    },
    {
      "cell_type": "code",
      "execution_count": null,
      "id": "e5c18af4",
      "metadata": {
        "id": "e5c18af4"
      },
      "outputs": [],
      "source": []
    },
    {
      "cell_type": "markdown",
      "id": "cc1f85d1",
      "metadata": {
        "id": "cc1f85d1"
      },
      "source": []
    },
    {
      "cell_type": "code",
      "execution_count": null,
      "id": "31d99f5a",
      "metadata": {
        "id": "31d99f5a"
      },
      "outputs": [],
      "source": [
        "import seaborn as sns\n",
        "sns.set()"
      ]
    },
    {
      "cell_type": "markdown",
      "id": "0bdd6de2",
      "metadata": {
        "id": "0bdd6de2"
      },
      "source": [
        "25 - Some a bilheteria_bruta por genero"
      ]
    },
    {
      "cell_type": "code",
      "execution_count": null,
      "id": "49d0c034",
      "metadata": {
        "id": "49d0c034"
      },
      "outputs": [],
      "source": [
        "soma_genero =dados.groupby('genero')['bilheteria_bruta'].sum()\n"
      ]
    },
    {
      "cell_type": "markdown",
      "id": "ce14137d",
      "metadata": {
        "id": "ce14137d"
      },
      "source": [
        "26 - Agora sim faça um gráfico de barra!"
      ]
    },
    {
      "cell_type": "code",
      "execution_count": null,
      "id": "d07655f7",
      "metadata": {
        "id": "d07655f7",
        "outputId": "7c31a855-b21d-483e-f26d-6ba005edbd00"
      },
      "outputs": [
        {
          "data": {
            "text/plain": [
              "Text(0.5, 1.0, 'Bilheteria Bruta por genero')"
            ]
          },
          "execution_count": 40,
          "metadata": {},
          "output_type": "execute_result"
        },
        {
          "data": {
            "image/png": "[encoded data removed]",
            "text/plain": [
              "<Figure size 432x288 with 1 Axes>"
            ]
          },
          "metadata": {},
          "output_type": "display_data"
        }
      ],
      "source": [
        "\n",
        "soma_genero.plot.bar().set_title('Bilheteria Bruta por genero')"
      ]
    },
    {
      "cell_type": "markdown",
      "id": "f4db205c",
      "metadata": {
        "id": "f4db205c"
      },
      "source": [
        "27 - Importe o seaborn com o apelido sns"
      ]
    },
    {
      "cell_type": "code",
      "execution_count": null,
      "id": "c9bf4215",
      "metadata": {
        "id": "c9bf4215"
      },
      "outputs": [],
      "source": [
        "import seaborn as sns"
      ]
    },
    {
      "cell_type": "markdown",
      "id": "2bda7f9f",
      "metadata": {
        "id": "2bda7f9f"
      },
      "source": [
        "28 -Faça um boxplot comparando a bilheteria_ajustada_inflacao dos filmes de ação e comédia\n"
      ]
    },
    {
      "cell_type": "code",
      "execution_count": null,
      "id": "05cb1c96",
      "metadata": {
        "id": "05cb1c96",
        "outputId": "baf18fc9-ab78-494c-a814-e0b48fb800d6"
      },
      "outputs": [
        {
          "data": {
            "text/html": [
              "<div>\n",
              "<style scoped>\n",
              "    .dataframe tbody tr th:only-of-type {\n",
              "        vertical-align: middle;\n",
              "    }\n",
              "\n",
              "    .dataframe tbody tr th {\n",
              "        vertical-align: top;\n",
              "    }\n",
              "\n",
              "    .dataframe thead th {\n",
              "        text-align: right;\n",
              "    }\n",
              "</style>\n",
              "<table border=\"1\" class=\"dataframe\">\n",
              "  <thead>\n",
              "    <tr style=\"text-align: right;\">\n",
              "      <th></th>\n",
              "      <th>tit_do_filme</th>\n",
              "      <th>dt_lancamento</th>\n",
              "      <th>genero</th>\n",
              "      <th>classificacao_mpaa</th>\n",
              "      <th>bilheteria_bruta</th>\n",
              "      <th>bilheteria_ajustada_inflacao</th>\n",
              "      <th>bilheteria_milionaria</th>\n",
              "    </tr>\n",
              "  </thead>\n",
              "  <tbody>\n",
              "    <tr>\n",
              "      <th>8</th>\n",
              "      <td>101 Dalmatians</td>\n",
              "      <td>1961-01-25</td>\n",
              "      <td>Comedy</td>\n",
              "      <td>G</td>\n",
              "      <td>153000000</td>\n",
              "      <td>1362870985</td>\n",
              "      <td>14752084746</td>\n",
              "    </tr>\n",
              "    <tr>\n",
              "      <th>9</th>\n",
              "      <td>The Absent Minded Professor</td>\n",
              "      <td>1961-03-16</td>\n",
              "      <td>Comedy</td>\n",
              "      <td>NaN</td>\n",
              "      <td>25381407</td>\n",
              "      <td>310094574</td>\n",
              "      <td>15062179320</td>\n",
              "    </tr>\n",
              "    <tr>\n",
              "      <th>11</th>\n",
              "      <td>Bon Voyage!</td>\n",
              "      <td>1962-05-17</td>\n",
              "      <td>Comedy</td>\n",
              "      <td>Not Rated</td>\n",
              "      <td>9230769</td>\n",
              "      <td>109581646</td>\n",
              "      <td>15296602126</td>\n",
              "    </tr>\n",
              "    <tr>\n",
              "      <th>14</th>\n",
              "      <td>Blackbeard's Ghost</td>\n",
              "      <td>1968-02-08</td>\n",
              "      <td>Comedy</td>\n",
              "      <td>NaN</td>\n",
              "      <td>21540050</td>\n",
              "      <td>138612686</td>\n",
              "      <td>16378697992</td>\n",
              "    </tr>\n",
              "    <tr>\n",
              "      <th>16</th>\n",
              "      <td>The Boatniks</td>\n",
              "      <td>1970-07-01</td>\n",
              "      <td>Comedy</td>\n",
              "      <td>NaN</td>\n",
              "      <td>18607492</td>\n",
              "      <td>101200742</td>\n",
              "      <td>16735060233</td>\n",
              "    </tr>\n",
              "    <tr>\n",
              "      <th>...</th>\n",
              "      <td>...</td>\n",
              "      <td>...</td>\n",
              "      <td>...</td>\n",
              "      <td>...</td>\n",
              "      <td>...</td>\n",
              "      <td>...</td>\n",
              "      <td>...</td>\n",
              "    </tr>\n",
              "    <tr>\n",
              "      <th>544</th>\n",
              "      <td>Captain America: The Winter Soldier</td>\n",
              "      <td>2014-04-04</td>\n",
              "      <td>Action</td>\n",
              "      <td>PG-13</td>\n",
              "      <td>259746958</td>\n",
              "      <td>268013076</td>\n",
              "      <td>62199429563</td>\n",
              "    </tr>\n",
              "    <tr>\n",
              "      <th>551</th>\n",
              "      <td>Alexander and the Terrible, Horrible,…</td>\n",
              "      <td>2014-10-10</td>\n",
              "      <td>Comedy</td>\n",
              "      <td>PG</td>\n",
              "      <td>66954149</td>\n",
              "      <td>69055550</td>\n",
              "      <td>63034301737</td>\n",
              "    </tr>\n",
              "    <tr>\n",
              "      <th>558</th>\n",
              "      <td>Avengers: Age of Ultron</td>\n",
              "      <td>2015-05-01</td>\n",
              "      <td>Action</td>\n",
              "      <td>PG-13</td>\n",
              "      <td>459005868</td>\n",
              "      <td>459005868</td>\n",
              "      <td>64127944597</td>\n",
              "    </tr>\n",
              "    <tr>\n",
              "      <th>561</th>\n",
              "      <td>Ant-Man</td>\n",
              "      <td>2015-07-17</td>\n",
              "      <td>Action</td>\n",
              "      <td>PG-13</td>\n",
              "      <td>180202163</td>\n",
              "      <td>180202163</td>\n",
              "      <td>64758044793</td>\n",
              "    </tr>\n",
              "    <tr>\n",
              "      <th>569</th>\n",
              "      <td>Captain America: Civil War</td>\n",
              "      <td>2016-05-06</td>\n",
              "      <td>Action</td>\n",
              "      <td>PG-13</td>\n",
              "      <td>408084349</td>\n",
              "      <td>408084349</td>\n",
              "      <td>67038926878</td>\n",
              "    </tr>\n",
              "  </tbody>\n",
              "</table>\n",
              "<p>222 rows × 7 columns</p>\n",
              "</div>"
            ],
            "text/plain": [
              "                               tit_do_filme dt_lancamento  genero  \\\n",
              "8                            101 Dalmatians    1961-01-25  Comedy   \n",
              "9               The Absent Minded Professor    1961-03-16  Comedy   \n",
              "11                              Bon Voyage!    1962-05-17  Comedy   \n",
              "14                       Blackbeard's Ghost    1968-02-08  Comedy   \n",
              "16                             The Boatniks    1970-07-01  Comedy   \n",
              "..                                      ...           ...     ...   \n",
              "544     Captain America: The Winter Soldier    2014-04-04  Action   \n",
              "551  Alexander and the Terrible, Horrible,…    2014-10-10  Comedy   \n",
              "558                 Avengers: Age of Ultron    2015-05-01  Action   \n",
              "561                                 Ant-Man    2015-07-17  Action   \n",
              "569              Captain America: Civil War    2016-05-06  Action   \n",
              "\n",
              "    classificacao_mpaa  bilheteria_bruta  bilheteria_ajustada_inflacao  \\\n",
              "8                    G         153000000                    1362870985   \n",
              "9                  NaN          25381407                     310094574   \n",
              "11           Not Rated           9230769                     109581646   \n",
              "14                 NaN          21540050                     138612686   \n",
              "16                 NaN          18607492                     101200742   \n",
              "..                 ...               ...                           ...   \n",
              "544              PG-13         259746958                     268013076   \n",
              "551                 PG          66954149                      69055550   \n",
              "558              PG-13         459005868                     459005868   \n",
              "561              PG-13         180202163                     180202163   \n",
              "569              PG-13         408084349                     408084349   \n",
              "\n",
              "     bilheteria_milionaria  \n",
              "8              14752084746  \n",
              "9              15062179320  \n",
              "11             15296602126  \n",
              "14             16378697992  \n",
              "16             16735060233  \n",
              "..                     ...  \n",
              "544            62199429563  \n",
              "551            63034301737  \n",
              "558            64127944597  \n",
              "561            64758044793  \n",
              "569            67038926878  \n",
              "\n",
              "[222 rows x 7 columns]"
            ]
          },
          "execution_count": 42,
          "metadata": {},
          "output_type": "execute_result"
        }
      ],
      "source": [
        "acao_comedia = dados[dados.genero.isin(['Action','Comedy'])]\n",
        "acao_comedia"
      ]
    },
    {
      "cell_type": "code",
      "execution_count": null,
      "id": "61e1f626",
      "metadata": {
        "id": "61e1f626",
        "outputId": "187e3eb5-ce3c-4aa4-9206-90d3feb746d3"
      },
      "outputs": [
        {
          "data": {
            "image/png": "[encoded data removed]",
            "text/plain": [
              "<Figure size 432x288 with 1 Axes>"
            ]
          },
          "metadata": {},
          "output_type": "display_data"
        }
      ],
      "source": [
        "sns.boxplot(x=\"genero\",\n",
        "                y=\"bilheteria_ajustada_inflacao\",\n",
        "                data=acao_comedia);"
      ]
    },
    {
      "cell_type": "code",
      "execution_count": null,
      "id": "c420ae3d",
      "metadata": {
        "id": "c420ae3d"
      },
      "outputs": [],
      "source": []
    }
  ],
  "metadata": {
    "colab": {
      "provenance": []
    },
    "hide_input": false,
    "kernelspec": {
      "display_name": "Python 3 (ipykernel)",
      "language": "python",
      "name": "python3"
    },
    "language_info": {
      "codemirror_mode": {
        "name": "ipython",
        "version": 3
      },
      "file_extension": ".py",
      "mimetype": "text/x-python",
      "name": "python",
      "nbconvert_exporter": "python",
      "pygments_lexer": "ipython3",
      "version": "3.9.7"
    }
  },
  "nbformat": 4,
  "nbformat_minor": 5
}
