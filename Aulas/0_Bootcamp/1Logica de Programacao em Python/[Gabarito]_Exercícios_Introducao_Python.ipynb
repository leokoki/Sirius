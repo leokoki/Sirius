{
  "cells": [
    {
      "cell_type": "markdown",
      "metadata": {
        "id": "W6TJJ9VHQKUH"
      },
      "source": [
        "# Exercícios de Lógica de Programação em Python"
      ]
    },
    {
      "cell_type": "markdown",
      "metadata": {
        "id": "Ibj7Joj9QdwL"
      },
      "source": [
        "## Exercício 1 (Aquecimento): Vamos criar uma calculadora (simples) com as operações soma, subtração, multiplicação, divisão.\n",
        "\n",
        "Dica: crie funções para tarefas específicas como, por exemplo, uma função `soma(a,b)`, uma função `subtracao(a,b)`, ... e depois use estas funções para criar a função `calculadora()`.\n",
        "\n",
        "Lembre-se de que não se pode dividir por zero."
      ]
    },
    {
      "cell_type": "code",
      "execution_count": null,
      "metadata": {
        "id": "0ER-YTL8QEWm"
      },
      "outputs": [],
      "source": [
        "def soma(a,b):\n",
        "  print(a+b)\n",
        "\n",
        "def subtracao(a,b):\n",
        "  print(a-b)\n",
        "\n",
        "def multiplicacao(a,b):\n",
        "  print(a*b)\n",
        "\n",
        "def divisao(a,b):\n",
        "  if b == 0:\n",
        "    return(\"Não se pode dividir por zero!\")\n",
        "  else:\n",
        "    print(a/b)"
      ]
    },
    {
      "cell_type": "code",
      "execution_count": null,
      "metadata": {
        "id": "qENPYxkQQSuc"
      },
      "outputs": [],
      "source": [
        "def calculadora():\n",
        "  i = 0\n",
        "  while i == 0:\n",
        "    j = float(input('''Escolha o número da operação a ser realizada:\n",
        "    1) soma\n",
        "    2) subtração\n",
        "    3) multiplicação\n",
        "    4) divisão\n",
        "    5) encerrar calculadora\\n'''))\n",
        "\n",
        "    if j == 5:\n",
        "      \n",
        "      break\n",
        "\n",
        "    a = float(input(\"Digite o primeiro valor: \"))\n",
        "    b = float(input(\"Digite o segundo valor: \"))\n",
        "\n",
        "    if j == 1:\n",
        "      print(\"\\nEscolhida a operação de soma\")\n",
        "      soma(a,b)\n",
        "    elif j == 2:\n",
        "      print(\"\\nEscolhida a operação de subtração\")\n",
        "      subtracao(a,b)\n",
        "    elif j == 3:\n",
        "      print(\"\\nEscolhida a operação de multiplicação\")\n",
        "      multiplicacao(a,b)\n",
        "    elif j == 4:\n",
        "      print(\"\\nEscolhida a operação de divisão\")\n",
        "      divisao(a,b)\n",
        "    else:\n",
        "      print(\"\\nEscolha uma operação válida\")\n",
        "  print(\"Encerrando calculadora\")\n",
        " "
      ]
    },
    {
      "cell_type": "code",
      "execution_count": null,
      "metadata": {
        "colab": {
          "base_uri": "https://localhost:8080/"
        },
        "id": "q1CPFs1bQSe7",
        "outputId": "c9bf5845-f3fd-4147-ad64-19ab9fac07ae"
      },
      "outputs": [
        {
          "name": "stdout",
          "output_type": "stream",
          "text": [
            "Escolha o número da operação a ser realizada:\n",
            "    1) soma\n",
            "    2) subtração\n",
            "    3) multiplicação\n",
            "    4) divisão\n",
            "    5) encerrar calculadora\n",
            "1\n",
            "Digite o primeiro valor: 2\n",
            "Digite o segundo valor: 3\n",
            "\n",
            "Escolhida a operação de soma\n",
            "5.0\n"
          ]
        }
      ],
      "source": [
        "calculadora()"
      ]
    },
    {
      "cell_type": "markdown",
      "metadata": {
        "id": "QQZ2bBqeYOmu"
      },
      "source": [
        "### Exercício 2: Em um curso da Sirius temos alunos dos mais variados perfis, tendo diferentes faixas etárias, morando em diferentes estados do Brasil e que tiraram diferentes notas. Essas informações estão em diferentes listas, uma somente com os nomes, outras somente com as notas, outra com a idades e outro com os estados de residência.\n",
        "\n",
        "Com base nisso crie funções que ajudem a responder as perguntas considerando os dados a seguir."
      ]
    },
    {
      "cell_type": "code",
      "execution_count": null,
      "metadata": {
        "colab": {
          "background_save": true
        },
        "id": "_jyuP-rnQSdt"
      },
      "outputs": [],
      "source": [
        "# dados\n",
        "nomes = ['João', 'José', 'Fernando', 'Rafaela', 'Kleber', 'Laercio', 'Carlos','Paula','Adriana','Walkyria','Guilherme','Gustavo','Gabriel', 'Mayara', 'Ana', 'Daniela', 'Rafael', 'Daiane', 'Maria', 'Mateus', 'Monique', 'Brian', 'Henrique', 'Alberto', 'Mônica', 'Bruce', 'Simone']\n",
        "notas = [8,7,6,9,3,8,7,5,9,1,4,5,8,4,9,7,5,6,2,7,4,5,8,7,9,10,5]\n",
        "idades = [25,17,56,32,27,31,48,24,41,50,29,22,30,31,28,52,27,33,35,36,38,26,29,35,38,41,46]\n",
        "estados = ['PR','SP','SP','MG','RJ','MG','PB','AM','SC','MS','SP','MG','AM','RO','MG','BA','MG','ES','CE','MG','PA','PI','PE','MG','RR','MG','SE']"
      ]
    },
    {
      "cell_type": "markdown",
      "metadata": {
        "id": "4RcD29Dqcjnt"
      },
      "source": [
        "#### 1) Crie uma função que seleciona o nome de todas as pessoas que residem em um determinado estado. Por exemplo, a função `alunos_por_estado(nomes, estados, 'SP')` deve retornar todos os nomes dos alunos que moram em São Paulo."
      ]
    },
    {
      "cell_type": "code",
      "execution_count": null,
      "metadata": {
        "id": "6_1P-Pkqcj74"
      },
      "outputs": [],
      "source": [
        "def alunos_por_estado(lista_nomes, lista_estados, estado):\n",
        "  nomes = []\n",
        "  estados = []\n",
        "  for i in range(len(lista_estados)):\n",
        "    if lista_estados[i] == estado:\n",
        "      nomes.append(lista_nomes[i])\n",
        "      estados.append(lista_estados[i])\n",
        "  return nomes, estados"
      ]
    },
    {
      "cell_type": "code",
      "execution_count": null,
      "metadata": {
        "colab": {
          "base_uri": "https://localhost:8080/"
        },
        "id": "Yq_1GCeAgthx",
        "outputId": "55eb4fcf-2cc3-4a48-e90e-6b3097cef673"
      },
      "outputs": [
        {
          "data": {
            "text/plain": [
              "(['José', 'Fernando', 'Guilherme'], ['SP', 'SP', 'SP'])"
            ]
          },
          "execution_count": 35,
          "metadata": {},
          "output_type": "execute_result"
        }
      ],
      "source": [
        "alunos_por_estado(nomes, estados, 'SP')"
      ]
    },
    {
      "cell_type": "markdown",
      "metadata": {
        "id": "WMMMrm-uc3wz"
      },
      "source": [
        "#### 2) Crie uma função que calcula quantas pessoas foram aprovadas por estado, considerando média 6. Por exemplo, a função `quant_aprov_estado(estados, notas, 'SP')` deve retornar quantos alunos foram aprovados no estado de São Paulo."
      ]
    },
    {
      "cell_type": "code",
      "execution_count": null,
      "metadata": {
        "id": "aHJtbdGVc73x"
      },
      "outputs": [],
      "source": [
        "def quant_aprov_estado(lista_estados, lista_notas, estado):\n",
        "  cont = 0\n",
        "  for i in range(len(lista_estados)):\n",
        "    if (lista_estados[i] == estado) & (lista_notas[i] >= 6):\n",
        "      cont += 1\n",
        "  print(f'Há {cont} aprovados no estado {estado}')"
      ]
    },
    {
      "cell_type": "code",
      "execution_count": null,
      "metadata": {
        "colab": {
          "base_uri": "https://localhost:8080/"
        },
        "id": "L_guJdqRhXdY",
        "outputId": "9cd5c8d2-55a2-4860-f5da-59bc6d097b2e"
      },
      "outputs": [
        {
          "name": "stdout",
          "output_type": "stream",
          "text": [
            "Há 2 aprovados no estado SP\n"
          ]
        }
      ],
      "source": [
        "quant_aprov_estado(estados, notas, 'SP')"
      ]
    },
    {
      "cell_type": "markdown",
      "metadata": {
        "id": "H2rxUkYdikLQ"
      },
      "source": [
        "#### 3) Crie uma função que calcula quantos alunos há por estado. Por exemplo, a função `alunos_por_estado(estados)` deve retornar uma mensagem dizendo quantos alunos há em cada estado."
      ]
    },
    {
      "cell_type": "code",
      "execution_count": null,
      "metadata": {
        "id": "GOvbE5uUhbjX"
      },
      "outputs": [],
      "source": [
        "def alunos_por_estado(lista_estados):\n",
        "  estados_sem_rep = list(set(lista_estados))\n",
        "  print(estados_sem_rep)\n",
        "  for estado in estados_sem_rep:\n",
        "    cont = 0\n",
        "    for i in range(len(lista_estados)):\n",
        "      if lista_estados[i] == estado:\n",
        "        cont += 1\n",
        "    print(f'No estado {estado} há {cont} alunos')"
      ]
    },
    {
      "cell_type": "code",
      "execution_count": null,
      "metadata": {
        "colab": {
          "base_uri": "https://localhost:8080/"
        },
        "id": "6ZNGGaVlkuqa",
        "outputId": "0889ad74-b918-409d-da35-dc668d179245"
      },
      "outputs": [
        {
          "name": "stdout",
          "output_type": "stream",
          "text": [
            "No estado SC há 1 alunos\n",
            "No estado RO há 1 alunos\n",
            "No estado BA há 1 alunos\n",
            "No estado MS há 1 alunos\n",
            "No estado SP há 3 alunos\n",
            "No estado PB há 1 alunos\n",
            "No estado PE há 1 alunos\n",
            "No estado MG há 8 alunos\n",
            "No estado RR há 1 alunos\n",
            "No estado AM há 2 alunos\n",
            "No estado PR há 1 alunos\n",
            "No estado CE há 1 alunos\n",
            "No estado PA há 1 alunos\n",
            "No estado PI há 1 alunos\n",
            "No estado SE há 1 alunos\n",
            "No estado RJ há 1 alunos\n",
            "No estado ES há 1 alunos\n"
          ]
        }
      ],
      "source": [
        "alunos_por_estado(estados)"
      ]
    },
    {
      "cell_type": "code",
      "execution_count": null,
      "metadata": {
        "id": "c-82ZP3NiqTP"
      },
      "outputs": [],
      "source": [
        "for estado in estados_sem_rep:\n",
        "    cont = 0"
      ]
    },
    {
      "cell_type": "markdown",
      "metadata": {
        "id": "roX11LBBkEgr"
      },
      "source": [
        "#### 4) Crie uma função que calcula a média das notas dos alunos de um determinado estado. Por exemplo, a função `media_por_estado(notas, estados, 'SP')` deve retornar a média das notas do alunos (com duas casas decimais) do estado de São Paulo."
      ]
    },
    {
      "cell_type": "code",
      "execution_count": null,
      "metadata": {
        "id": "JVEZlfqjkE6M"
      },
      "outputs": [],
      "source": [
        "def media_por_estado(lista_notas, lista_estados, estado):\n",
        "  notas_estado = []\n",
        "  for i in range(len(lista_estados)):\n",
        "    if lista_estados[i] == estado:\n",
        "      notas_estado.append(lista_notas[i])\n",
        "\n",
        "  media = sum(notas_estado) / len(notas_estado)\n",
        "  print(f'A média das notas dos alunos do estado {estado} foi de {round(media, 2)}')"
      ]
    },
    {
      "cell_type": "code",
      "execution_count": null,
      "metadata": {
        "colab": {
          "base_uri": "https://localhost:8080/"
        },
        "id": "ybvRcKHTmono",
        "outputId": "f988d8ab-786e-4d41-ff07-cc55981d4b90"
      },
      "outputs": [
        {
          "name": "stdout",
          "output_type": "stream",
          "text": [
            "A média das notas dos alunos do estado SP foi de 5.67\n"
          ]
        }
      ],
      "source": [
        "media_por_estado(notas, estados, 'SP')"
      ]
    },
    {
      "cell_type": "markdown",
      "metadata": {
        "id": "53LQI5JvnjjL"
      },
      "source": [
        "#### 5) Crie uma função que calcula a média das idades dos alunos aprovados (considerando media 6) de um determinado estado. Por exemplo, a função `media_idade_aprov_por_estado(notas, estados, idades, 'SP')` deve retornar a média das idades do alunos (com duas casas decimais) aprovados que residem no estado de São Paulo."
      ]
    },
    {
      "cell_type": "code",
      "execution_count": null,
      "metadata": {
        "id": "wCJTqBFemsDG"
      },
      "outputs": [],
      "source": [
        "def media_idade_aprov_por_estado(lista_notas, lista_estados, lista_idades, estado):\n",
        "  idades_aprovados = []\n",
        "  for i in range(len(lista_estados)):\n",
        "    if (lista_estados[i] == estado) & (lista_notas[i] >= 6):\n",
        "      idades_aprovados.append(lista_idades[i])\n",
        "\n",
        "  media_idades = round( sum(idades_aprovados) / len(idades_aprovados), 2)\n",
        "\n",
        "  print(f'A média de idade dos alunos aprovados do estado de {estado} é {media_idades}')"
      ]
    },
    {
      "cell_type": "code",
      "execution_count": null,
      "metadata": {
        "colab": {
          "base_uri": "https://localhost:8080/"
        },
        "id": "RVqtGN_ToqNc",
        "outputId": "1899de05-38f8-4b12-e9b7-763e84bb380c"
      },
      "outputs": [
        {
          "name": "stdout",
          "output_type": "stream",
          "text": [
            "A média de idade dos alunos aprovados do estado de SP é 36.5\n"
          ]
        }
      ],
      "source": [
        "media_idade_aprov_por_estado(notas, estados, idades, 'SP')"
      ]
    },
    {
      "cell_type": "code",
      "execution_count": null,
      "metadata": {
        "id": "0z3gQmECou36"
      },
      "outputs": [],
      "source": []
    }
  ],
  "metadata": {
    "colab": {
      "provenance": []
    },
    "kernelspec": {
      "display_name": "Python 3",
      "name": "python3"
    },
    "language_info": {
      "name": "python"
    }
  },
  "nbformat": 4,
  "nbformat_minor": 0
}