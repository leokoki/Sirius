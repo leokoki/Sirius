{
 "cells": [
  {
   "cell_type": "code",
   "execution_count": 75,
   "metadata": {},
   "outputs": [],
   "source": [
    "import pandas as pd\n",
    "import seaborn as sns\n",
    "import matplotlib.pyplot as plt"
   ]
  },
  {
   "attachments": {},
   "cell_type": "markdown",
   "metadata": {
    "id": "1elqh9NCRFHn"
   },
   "source": [
    "# Exercícios\n",
    "\n",
    "Vamos trabalhar com dados proveniente de duas fontes diferentes. Considere os dados do Índice de Desenvolvimento da Educação Básica (Ideb) disponíveis em [Ideb](https://basedosdados.org/dataset/br-inep-ideb?bdm_table=municipio) e os dados sobre Produto Interno Bruto (PIB) disponíveis em [PIB](https://basedosdados.org/dataset/br-ibge-pib?bdm_table=municipio).\n",
    "\n",
    "No conjunto de dados `ideb.csv` vamos selecionar as colunas `ano`, `id_municipio`, `nota_saeb_matematica`, `nota_saeb_lingua_portuguesa` e `ideb` provenientes dos dados do Ideb, e as colunas `pib` e `impostos_liquidos` do `pib.csv`."
   ]
  },
  {
   "cell_type": "code",
   "execution_count": 35,
   "metadata": {
    "id": "qCxjFmTODpga"
   },
   "outputs": [],
   "source": [
    "# seu código\n",
    "ideb = pd.read_csv('ideb.csv',usecols=['ano','id_municipio','nota_saeb_matematica','nota_saeb_lingua_portuguesa','ideb'])\n",
    "pib = pd.read_csv('pib.csv',usecols=['ano','id_municipio','pib','impostos_liquidos'])"
   ]
  },
  {
   "attachments": {},
   "cell_type": "markdown",
   "metadata": {
    "id": "F9vcvtHWMxf6"
   },
   "source": [
    "### Atividade 1: Selecione apenas as colunas `ano`, `id_municipio`, `nota_saeb_matematica`, `nota_saeb_lingua_portuguesa` e `ideb` provenientes dos dados do Ideb, apenas para o ano de 2019 e agrupado por município."
   ]
  },
  {
   "cell_type": "code",
   "execution_count": 36,
   "metadata": {
    "id": "BzOHzcDgDpe7"
   },
   "outputs": [
    {
     "data": {
      "text/html": [
       "<div>\n",
       "<style scoped>\n",
       "    .dataframe tbody tr th:only-of-type {\n",
       "        vertical-align: middle;\n",
       "    }\n",
       "\n",
       "    .dataframe tbody tr th {\n",
       "        vertical-align: top;\n",
       "    }\n",
       "\n",
       "    .dataframe thead th {\n",
       "        text-align: right;\n",
       "    }\n",
       "</style>\n",
       "<table border=\"1\" class=\"dataframe\">\n",
       "  <thead>\n",
       "    <tr style=\"text-align: right;\">\n",
       "      <th></th>\n",
       "      <th>ano</th>\n",
       "      <th>id_municipio</th>\n",
       "      <th>nota_saeb_matematica</th>\n",
       "      <th>nota_saeb_lingua_portuguesa</th>\n",
       "      <th>ideb</th>\n",
       "    </tr>\n",
       "  </thead>\n",
       "  <tbody>\n",
       "    <tr>\n",
       "      <th>0</th>\n",
       "      <td>2005</td>\n",
       "      <td>1200302</td>\n",
       "      <td>167.8</td>\n",
       "      <td>165.6</td>\n",
       "      <td>2.3</td>\n",
       "    </tr>\n",
       "    <tr>\n",
       "      <th>1</th>\n",
       "      <td>2005</td>\n",
       "      <td>1200328</td>\n",
       "      <td>151.8</td>\n",
       "      <td>149.6</td>\n",
       "      <td>1.8</td>\n",
       "    </tr>\n",
       "  </tbody>\n",
       "</table>\n",
       "</div>"
      ],
      "text/plain": [
       "    ano  id_municipio  nota_saeb_matematica  nota_saeb_lingua_portuguesa  ideb\n",
       "0  2005       1200302                 167.8                        165.6   2.3\n",
       "1  2005       1200328                 151.8                        149.6   1.8"
      ]
     },
     "execution_count": 36,
     "metadata": {},
     "output_type": "execute_result"
    }
   ],
   "source": [
    "# seu código\n",
    "ideb.head(2)"
   ]
  },
  {
   "cell_type": "code",
   "execution_count": 37,
   "metadata": {
    "id": "r0Rfc6cpwwRN"
   },
   "outputs": [
    {
     "data": {
      "text/html": [
       "<div>\n",
       "<style scoped>\n",
       "    .dataframe tbody tr th:only-of-type {\n",
       "        vertical-align: middle;\n",
       "    }\n",
       "\n",
       "    .dataframe tbody tr th {\n",
       "        vertical-align: top;\n",
       "    }\n",
       "\n",
       "    .dataframe thead th {\n",
       "        text-align: right;\n",
       "    }\n",
       "</style>\n",
       "<table border=\"1\" class=\"dataframe\">\n",
       "  <thead>\n",
       "    <tr style=\"text-align: right;\">\n",
       "      <th></th>\n",
       "      <th>ano</th>\n",
       "      <th>id_municipio</th>\n",
       "      <th>nota_saeb_matematica</th>\n",
       "      <th>nota_saeb_lingua_portuguesa</th>\n",
       "      <th>ideb</th>\n",
       "    </tr>\n",
       "  </thead>\n",
       "  <tbody>\n",
       "    <tr>\n",
       "      <th>8947</th>\n",
       "      <td>2019</td>\n",
       "      <td>1200104</td>\n",
       "      <td>288.92</td>\n",
       "      <td>263.10</td>\n",
       "      <td>8.1</td>\n",
       "    </tr>\n",
       "    <tr>\n",
       "      <th>8948</th>\n",
       "      <td>2019</td>\n",
       "      <td>1200104</td>\n",
       "      <td>254.78</td>\n",
       "      <td>231.63</td>\n",
       "      <td>6.8</td>\n",
       "    </tr>\n",
       "  </tbody>\n",
       "</table>\n",
       "</div>"
      ],
      "text/plain": [
       "       ano  id_municipio  nota_saeb_matematica  nota_saeb_lingua_portuguesa  \\\n",
       "8947  2019       1200104                288.92                       263.10   \n",
       "8948  2019       1200104                254.78                       231.63   \n",
       "\n",
       "      ideb  \n",
       "8947   8.1  \n",
       "8948   6.8  "
      ]
     },
     "execution_count": 37,
     "metadata": {},
     "output_type": "execute_result"
    }
   ],
   "source": [
    "# seu código\n",
    "ideb = ideb[ideb.ano == 2019]\n",
    "ideb.head(2)"
   ]
  },
  {
   "cell_type": "code",
   "execution_count": 38,
   "metadata": {},
   "outputs": [
    {
     "data": {
      "text/html": [
       "<div>\n",
       "<style scoped>\n",
       "    .dataframe tbody tr th:only-of-type {\n",
       "        vertical-align: middle;\n",
       "    }\n",
       "\n",
       "    .dataframe tbody tr th {\n",
       "        vertical-align: top;\n",
       "    }\n",
       "\n",
       "    .dataframe thead th {\n",
       "        text-align: right;\n",
       "    }\n",
       "</style>\n",
       "<table border=\"1\" class=\"dataframe\">\n",
       "  <thead>\n",
       "    <tr style=\"text-align: right;\">\n",
       "      <th></th>\n",
       "      <th>id_municipio</th>\n",
       "      <th>ano</th>\n",
       "      <th>nota_saeb_matematica</th>\n",
       "      <th>nota_saeb_lingua_portuguesa</th>\n",
       "      <th>ideb</th>\n",
       "    </tr>\n",
       "  </thead>\n",
       "  <tbody>\n",
       "    <tr>\n",
       "      <th>0</th>\n",
       "      <td>1100015</td>\n",
       "      <td>2019</td>\n",
       "      <td>253.28375</td>\n",
       "      <td>242.24625</td>\n",
       "      <td>5.0500</td>\n",
       "    </tr>\n",
       "    <tr>\n",
       "      <th>1</th>\n",
       "      <td>1100023</td>\n",
       "      <td>2019</td>\n",
       "      <td>248.22375</td>\n",
       "      <td>243.61875</td>\n",
       "      <td>4.7625</td>\n",
       "    </tr>\n",
       "  </tbody>\n",
       "</table>\n",
       "</div>"
      ],
      "text/plain": [
       "   id_municipio   ano  nota_saeb_matematica  nota_saeb_lingua_portuguesa  \\\n",
       "0       1100015  2019             253.28375                    242.24625   \n",
       "1       1100023  2019             248.22375                    243.61875   \n",
       "\n",
       "     ideb  \n",
       "0  5.0500  \n",
       "1  4.7625  "
      ]
     },
     "execution_count": 38,
     "metadata": {},
     "output_type": "execute_result"
    }
   ],
   "source": [
    "ideb_gp = ideb.groupby(by=['id_municipio','ano']).agg(\n",
    "    {\n",
    "        'nota_saeb_matematica':'mean',\n",
    "        'nota_saeb_lingua_portuguesa':'mean',\n",
    "        'ideb':'mean'\n",
    "    }\n",
    ")\n",
    "ideb_gp = ideb_gp.reset_index()\n",
    "ideb_gp.head(2)"
   ]
  },
  {
   "attachments": {},
   "cell_type": "markdown",
   "metadata": {
    "id": "8c2RtmDeM7el"
   },
   "source": [
    "### Atividade 2: Selecione as colunas `ano`, `id_municipio`, `pib` e `impostos_liquidos` dos dados do PIB, para o ano de 2019 e agrupado por município."
   ]
  },
  {
   "cell_type": "code",
   "execution_count": 39,
   "metadata": {
    "id": "C_NLOBINySFh"
   },
   "outputs": [
    {
     "data": {
      "text/html": [
       "<div>\n",
       "<style scoped>\n",
       "    .dataframe tbody tr th:only-of-type {\n",
       "        vertical-align: middle;\n",
       "    }\n",
       "\n",
       "    .dataframe tbody tr th {\n",
       "        vertical-align: top;\n",
       "    }\n",
       "\n",
       "    .dataframe thead th {\n",
       "        text-align: right;\n",
       "    }\n",
       "</style>\n",
       "<table border=\"1\" class=\"dataframe\">\n",
       "  <thead>\n",
       "    <tr style=\"text-align: right;\">\n",
       "      <th></th>\n",
       "      <th>ano</th>\n",
       "      <th>id_municipio</th>\n",
       "      <th>pib</th>\n",
       "      <th>impostos_liquidos</th>\n",
       "    </tr>\n",
       "  </thead>\n",
       "  <tbody>\n",
       "    <tr>\n",
       "      <th>94616</th>\n",
       "      <td>2019</td>\n",
       "      <td>1100015</td>\n",
       "      <td>495628767</td>\n",
       "      <td>29350985</td>\n",
       "    </tr>\n",
       "    <tr>\n",
       "      <th>94617</th>\n",
       "      <td>2019</td>\n",
       "      <td>1100023</td>\n",
       "      <td>2578829725</td>\n",
       "      <td>284397627</td>\n",
       "    </tr>\n",
       "  </tbody>\n",
       "</table>\n",
       "</div>"
      ],
      "text/plain": [
       "        ano  id_municipio         pib  impostos_liquidos\n",
       "94616  2019       1100015   495628767           29350985\n",
       "94617  2019       1100023  2578829725          284397627"
      ]
     },
     "execution_count": 39,
     "metadata": {},
     "output_type": "execute_result"
    }
   ],
   "source": [
    "# seu código\n",
    "pib = pib[pib.ano == 2019]\n",
    "pib.head(2)"
   ]
  },
  {
   "cell_type": "code",
   "execution_count": 43,
   "metadata": {},
   "outputs": [
    {
     "data": {
      "text/html": [
       "<div>\n",
       "<style scoped>\n",
       "    .dataframe tbody tr th:only-of-type {\n",
       "        vertical-align: middle;\n",
       "    }\n",
       "\n",
       "    .dataframe tbody tr th {\n",
       "        vertical-align: top;\n",
       "    }\n",
       "\n",
       "    .dataframe thead th {\n",
       "        text-align: right;\n",
       "    }\n",
       "</style>\n",
       "<table border=\"1\" class=\"dataframe\">\n",
       "  <thead>\n",
       "    <tr style=\"text-align: right;\">\n",
       "      <th></th>\n",
       "      <th>id_municipio</th>\n",
       "      <th>ano</th>\n",
       "      <th>pib</th>\n",
       "      <th>impostos_liquidos</th>\n",
       "    </tr>\n",
       "  </thead>\n",
       "  <tbody>\n",
       "    <tr>\n",
       "      <th>0</th>\n",
       "      <td>1100015</td>\n",
       "      <td>2019</td>\n",
       "      <td>4.956288e+08</td>\n",
       "      <td>29350985.0</td>\n",
       "    </tr>\n",
       "    <tr>\n",
       "      <th>1</th>\n",
       "      <td>1100023</td>\n",
       "      <td>2019</td>\n",
       "      <td>2.578830e+09</td>\n",
       "      <td>284397627.0</td>\n",
       "    </tr>\n",
       "  </tbody>\n",
       "</table>\n",
       "</div>"
      ],
      "text/plain": [
       "   id_municipio   ano           pib  impostos_liquidos\n",
       "0       1100015  2019  4.956288e+08         29350985.0\n",
       "1       1100023  2019  2.578830e+09        284397627.0"
      ]
     },
     "execution_count": 43,
     "metadata": {},
     "output_type": "execute_result"
    }
   ],
   "source": [
    "pib_gp = pib.groupby(by=['id_municipio','ano']).agg(\n",
    "    {\n",
    "        'pib':'mean',\n",
    "        'impostos_liquidos':'mean'\n",
    "    }\n",
    ").reset_index()\n",
    "pib_gp.head(2)"
   ]
  },
  {
   "attachments": {},
   "cell_type": "markdown",
   "metadata": {
    "id": "975TK3C4NCnW"
   },
   "source": [
    "### Atividade 3: Vamos juntar os dois DataFrames em um único. Para isso, vamos \"unir\" os dois dataframes pela variável `id_municipio`."
   ]
  },
  {
   "cell_type": "code",
   "execution_count": 46,
   "metadata": {
    "id": "vd1O5m-sNDB_"
   },
   "outputs": [
    {
     "data": {
      "text/html": [
       "<div>\n",
       "<style scoped>\n",
       "    .dataframe tbody tr th:only-of-type {\n",
       "        vertical-align: middle;\n",
       "    }\n",
       "\n",
       "    .dataframe tbody tr th {\n",
       "        vertical-align: top;\n",
       "    }\n",
       "\n",
       "    .dataframe thead th {\n",
       "        text-align: right;\n",
       "    }\n",
       "</style>\n",
       "<table border=\"1\" class=\"dataframe\">\n",
       "  <thead>\n",
       "    <tr style=\"text-align: right;\">\n",
       "      <th></th>\n",
       "      <th>id_municipio</th>\n",
       "      <th>ano</th>\n",
       "      <th>nota_saeb_matematica</th>\n",
       "      <th>nota_saeb_lingua_portuguesa</th>\n",
       "      <th>ideb</th>\n",
       "      <th>pib</th>\n",
       "      <th>impostos_liquidos</th>\n",
       "    </tr>\n",
       "  </thead>\n",
       "  <tbody>\n",
       "    <tr>\n",
       "      <th>0</th>\n",
       "      <td>1100015</td>\n",
       "      <td>2019</td>\n",
       "      <td>253.28375</td>\n",
       "      <td>242.24625</td>\n",
       "      <td>5.0500</td>\n",
       "      <td>4.956288e+08</td>\n",
       "      <td>29350985.0</td>\n",
       "    </tr>\n",
       "    <tr>\n",
       "      <th>1</th>\n",
       "      <td>1100023</td>\n",
       "      <td>2019</td>\n",
       "      <td>248.22375</td>\n",
       "      <td>243.61875</td>\n",
       "      <td>4.7625</td>\n",
       "      <td>2.578830e+09</td>\n",
       "      <td>284397627.0</td>\n",
       "    </tr>\n",
       "  </tbody>\n",
       "</table>\n",
       "</div>"
      ],
      "text/plain": [
       "   id_municipio   ano  nota_saeb_matematica  nota_saeb_lingua_portuguesa  \\\n",
       "0       1100015  2019             253.28375                    242.24625   \n",
       "1       1100023  2019             248.22375                    243.61875   \n",
       "\n",
       "     ideb           pib  impostos_liquidos  \n",
       "0  5.0500  4.956288e+08         29350985.0  \n",
       "1  4.7625  2.578830e+09        284397627.0  "
      ]
     },
     "execution_count": 46,
     "metadata": {},
     "output_type": "execute_result"
    }
   ],
   "source": [
    "# seu código\n",
    "df = pd.merge(left=ideb_gp,right=pib_gp,how='left',left_on=['id_municipio','ano'],right_on=['id_municipio','ano'])\n",
    "df.head(2)"
   ]
  },
  {
   "attachments": {},
   "cell_type": "markdown",
   "metadata": {
    "id": "HE-6aEa2NUD0"
   },
   "source": [
    "### Atividade 4:  Verifique se há dados faltantes, além disso verifique se há alguma coluna irrelevante. Se houver, descarte-a."
   ]
  },
  {
   "cell_type": "code",
   "execution_count": 47,
   "metadata": {
    "id": "8mr_6th80PS0"
   },
   "outputs": [
    {
     "name": "stdout",
     "output_type": "stream",
     "text": [
      "<class 'pandas.core.frame.DataFrame'>\n",
      "Int64Index: 5570 entries, 0 to 5569\n",
      "Data columns (total 7 columns):\n",
      " #   Column                       Non-Null Count  Dtype  \n",
      "---  ------                       --------------  -----  \n",
      " 0   id_municipio                 5570 non-null   int64  \n",
      " 1   ano                          5570 non-null   int64  \n",
      " 2   nota_saeb_matematica         5549 non-null   float64\n",
      " 3   nota_saeb_lingua_portuguesa  5549 non-null   float64\n",
      " 4   ideb                         5549 non-null   float64\n",
      " 5   pib                          5570 non-null   float64\n",
      " 6   impostos_liquidos            5570 non-null   float64\n",
      "dtypes: float64(5), int64(2)\n",
      "memory usage: 348.1 KB\n"
     ]
    }
   ],
   "source": [
    "# seu código\n",
    "df.info()"
   ]
  },
  {
   "cell_type": "code",
   "execution_count": 51,
   "metadata": {
    "id": "1hUfLB5HNUuh"
   },
   "outputs": [
    {
     "data": {
      "text/html": [
       "<div>\n",
       "<style scoped>\n",
       "    .dataframe tbody tr th:only-of-type {\n",
       "        vertical-align: middle;\n",
       "    }\n",
       "\n",
       "    .dataframe tbody tr th {\n",
       "        vertical-align: top;\n",
       "    }\n",
       "\n",
       "    .dataframe thead th {\n",
       "        text-align: right;\n",
       "    }\n",
       "</style>\n",
       "<table border=\"1\" class=\"dataframe\">\n",
       "  <thead>\n",
       "    <tr style=\"text-align: right;\">\n",
       "      <th></th>\n",
       "      <th>id_municipio</th>\n",
       "      <th>ano</th>\n",
       "      <th>nota_saeb_matematica</th>\n",
       "      <th>nota_saeb_lingua_portuguesa</th>\n",
       "      <th>ideb</th>\n",
       "      <th>pib</th>\n",
       "      <th>impostos_liquidos</th>\n",
       "    </tr>\n",
       "  </thead>\n",
       "  <tbody>\n",
       "    <tr>\n",
       "      <th>833</th>\n",
       "      <td>2208601</td>\n",
       "      <td>2019</td>\n",
       "      <td>NaN</td>\n",
       "      <td>NaN</td>\n",
       "      <td>NaN</td>\n",
       "      <td>25170709.0</td>\n",
       "      <td>1165094.0</td>\n",
       "    </tr>\n",
       "    <tr>\n",
       "      <th>2052</th>\n",
       "      <td>2918902</td>\n",
       "      <td>2019</td>\n",
       "      <td>NaN</td>\n",
       "      <td>NaN</td>\n",
       "      <td>NaN</td>\n",
       "      <td>71455084.0</td>\n",
       "      <td>2660487.0</td>\n",
       "    </tr>\n",
       "    <tr>\n",
       "      <th>3026</th>\n",
       "      <td>3166600</td>\n",
       "      <td>2019</td>\n",
       "      <td>NaN</td>\n",
       "      <td>NaN</td>\n",
       "      <td>NaN</td>\n",
       "      <td>19107326.0</td>\n",
       "      <td>575566.0</td>\n",
       "    </tr>\n",
       "    <tr>\n",
       "      <th>3891</th>\n",
       "      <td>3555703</td>\n",
       "      <td>2019</td>\n",
       "      <td>NaN</td>\n",
       "      <td>NaN</td>\n",
       "      <td>NaN</td>\n",
       "      <td>44829500.0</td>\n",
       "      <td>1198001.0</td>\n",
       "    </tr>\n",
       "    <tr>\n",
       "      <th>4340</th>\n",
       "      <td>4202081</td>\n",
       "      <td>2019</td>\n",
       "      <td>NaN</td>\n",
       "      <td>NaN</td>\n",
       "      <td>NaN</td>\n",
       "      <td>79440521.0</td>\n",
       "      <td>4064546.0</td>\n",
       "    </tr>\n",
       "  </tbody>\n",
       "</table>\n",
       "</div>"
      ],
      "text/plain": [
       "      id_municipio   ano  nota_saeb_matematica  nota_saeb_lingua_portuguesa  \\\n",
       "833        2208601  2019                   NaN                          NaN   \n",
       "2052       2918902  2019                   NaN                          NaN   \n",
       "3026       3166600  2019                   NaN                          NaN   \n",
       "3891       3555703  2019                   NaN                          NaN   \n",
       "4340       4202081  2019                   NaN                          NaN   \n",
       "\n",
       "      ideb         pib  impostos_liquidos  \n",
       "833    NaN  25170709.0          1165094.0  \n",
       "2052   NaN  71455084.0          2660487.0  \n",
       "3026   NaN  19107326.0           575566.0  \n",
       "3891   NaN  44829500.0          1198001.0  \n",
       "4340   NaN  79440521.0          4064546.0  "
      ]
     },
     "execution_count": 51,
     "metadata": {},
     "output_type": "execute_result"
    }
   ],
   "source": [
    "# seu código\n",
    "df[df.nota_saeb_matematica.isnull()].head()"
   ]
  },
  {
   "cell_type": "code",
   "execution_count": 52,
   "metadata": {},
   "outputs": [],
   "source": [
    "df.drop(columns=['ano'],inplace=True)"
   ]
  },
  {
   "cell_type": "code",
   "execution_count": 63,
   "metadata": {},
   "outputs": [],
   "source": [
    "df.dropna(inplace=True)"
   ]
  },
  {
   "attachments": {},
   "cell_type": "markdown",
   "metadata": {
    "id": "H0ji0L1iJxpJ"
   },
   "source": [
    "### Atividade 5: Quais são os tipos das variáveis do DataFrame?"
   ]
  },
  {
   "cell_type": "code",
   "execution_count": 54,
   "metadata": {},
   "outputs": [
    {
     "data": {
      "text/plain": [
       "id_municipio                     int64\n",
       "nota_saeb_matematica           float64\n",
       "nota_saeb_lingua_portuguesa    float64\n",
       "ideb                           float64\n",
       "pib                            float64\n",
       "impostos_liquidos              float64\n",
       "dtype: object"
      ]
     },
     "execution_count": 54,
     "metadata": {},
     "output_type": "execute_result"
    }
   ],
   "source": [
    "df.dtypes"
   ]
  },
  {
   "attachments": {},
   "cell_type": "markdown",
   "metadata": {},
   "source": [
    "id_municipio : variável qualitativa nominal \\\n",
    "nota_saeb_matematica : variável quantitativas contínua \\\n",
    "nota_saeb_lingua_portuguesa : variável quantitativas contínua \\\n",
    "ideb : variável quantitativas contínua \\\n",
    "pib : variável quantitativas contínua \\\n",
    "impostos_liquidos : variável quantitativas contínua \n",
    "\n"
   ]
  },
  {
   "attachments": {},
   "cell_type": "markdown",
   "metadata": {
    "id": "ZxygkdJ0Km-b"
   },
   "source": [
    "### Atividade 6: Observando as variáveis envolvidas, você acha que deve existir alguma correlação entre quais delas?\n",
    "\n",
    "Será que municípios com alta nota no Ideb possuem um PIB alto?"
   ]
  },
  {
   "cell_type": "code",
   "execution_count": 60,
   "metadata": {},
   "outputs": [
    {
     "data": {
      "text/html": [
       "<div>\n",
       "<style scoped>\n",
       "    .dataframe tbody tr th:only-of-type {\n",
       "        vertical-align: middle;\n",
       "    }\n",
       "\n",
       "    .dataframe tbody tr th {\n",
       "        vertical-align: top;\n",
       "    }\n",
       "\n",
       "    .dataframe thead th {\n",
       "        text-align: right;\n",
       "    }\n",
       "</style>\n",
       "<table border=\"1\" class=\"dataframe\">\n",
       "  <thead>\n",
       "    <tr style=\"text-align: right;\">\n",
       "      <th></th>\n",
       "      <th>id_municipio</th>\n",
       "      <th>nota_saeb_matematica</th>\n",
       "      <th>nota_saeb_lingua_portuguesa</th>\n",
       "      <th>ideb</th>\n",
       "      <th>pib</th>\n",
       "      <th>impostos_liquidos</th>\n",
       "    </tr>\n",
       "  </thead>\n",
       "  <tbody>\n",
       "    <tr>\n",
       "      <th>count</th>\n",
       "      <td>5.570000e+03</td>\n",
       "      <td>5549.000000</td>\n",
       "      <td>5549.000000</td>\n",
       "      <td>5549.000000</td>\n",
       "      <td>5.570000e+03</td>\n",
       "      <td>5.570000e+03</td>\n",
       "    </tr>\n",
       "    <tr>\n",
       "      <th>mean</th>\n",
       "      <td>3.253591e+06</td>\n",
       "      <td>249.177030</td>\n",
       "      <td>242.390443</td>\n",
       "      <td>4.859137</td>\n",
       "      <td>1.326594e+09</td>\n",
       "      <td>1.853585e+08</td>\n",
       "    </tr>\n",
       "    <tr>\n",
       "      <th>std</th>\n",
       "      <td>9.849103e+05</td>\n",
       "      <td>19.982548</td>\n",
       "      <td>18.284378</td>\n",
       "      <td>0.742613</td>\n",
       "      <td>1.269654e+10</td>\n",
       "      <td>2.268786e+09</td>\n",
       "    </tr>\n",
       "    <tr>\n",
       "      <th>min</th>\n",
       "      <td>1.100015e+06</td>\n",
       "      <td>172.770000</td>\n",
       "      <td>157.670000</td>\n",
       "      <td>2.300000</td>\n",
       "      <td>1.551527e+07</td>\n",
       "      <td>3.475460e+05</td>\n",
       "    </tr>\n",
       "    <tr>\n",
       "      <th>25%</th>\n",
       "      <td>2.512126e+06</td>\n",
       "      <td>235.068333</td>\n",
       "      <td>230.206667</td>\n",
       "      <td>4.300000</td>\n",
       "      <td>8.758645e+07</td>\n",
       "      <td>3.830038e+06</td>\n",
       "    </tr>\n",
       "    <tr>\n",
       "      <th>50%</th>\n",
       "      <td>3.146280e+06</td>\n",
       "      <td>250.691429</td>\n",
       "      <td>244.280000</td>\n",
       "      <td>4.933333</td>\n",
       "      <td>1.909707e+08</td>\n",
       "      <td>1.093398e+07</td>\n",
       "    </tr>\n",
       "    <tr>\n",
       "      <th>75%</th>\n",
       "      <td>4.119190e+06</td>\n",
       "      <td>263.570000</td>\n",
       "      <td>255.812857</td>\n",
       "      <td>5.416667</td>\n",
       "      <td>5.101007e+08</td>\n",
       "      <td>4.032577e+07</td>\n",
       "    </tr>\n",
       "    <tr>\n",
       "      <th>max</th>\n",
       "      <td>5.300108e+06</td>\n",
       "      <td>329.200000</td>\n",
       "      <td>316.610000</td>\n",
       "      <td>7.650000</td>\n",
       "      <td>7.638060e+11</td>\n",
       "      <td>1.324779e+11</td>\n",
       "    </tr>\n",
       "  </tbody>\n",
       "</table>\n",
       "</div>"
      ],
      "text/plain": [
       "       id_municipio  nota_saeb_matematica  nota_saeb_lingua_portuguesa  \\\n",
       "count  5.570000e+03           5549.000000                  5549.000000   \n",
       "mean   3.253591e+06            249.177030                   242.390443   \n",
       "std    9.849103e+05             19.982548                    18.284378   \n",
       "min    1.100015e+06            172.770000                   157.670000   \n",
       "25%    2.512126e+06            235.068333                   230.206667   \n",
       "50%    3.146280e+06            250.691429                   244.280000   \n",
       "75%    4.119190e+06            263.570000                   255.812857   \n",
       "max    5.300108e+06            329.200000                   316.610000   \n",
       "\n",
       "              ideb           pib  impostos_liquidos  \n",
       "count  5549.000000  5.570000e+03       5.570000e+03  \n",
       "mean      4.859137  1.326594e+09       1.853585e+08  \n",
       "std       0.742613  1.269654e+10       2.268786e+09  \n",
       "min       2.300000  1.551527e+07       3.475460e+05  \n",
       "25%       4.300000  8.758645e+07       3.830038e+06  \n",
       "50%       4.933333  1.909707e+08       1.093398e+07  \n",
       "75%       5.416667  5.101007e+08       4.032577e+07  \n",
       "max       7.650000  7.638060e+11       1.324779e+11  "
      ]
     },
     "execution_count": 60,
     "metadata": {},
     "output_type": "execute_result"
    }
   ],
   "source": [
    "df.describe()"
   ]
  },
  {
   "cell_type": "code",
   "execution_count": 65,
   "metadata": {
    "id": "qo9-6JSVDpZb"
   },
   "outputs": [
    {
     "data": {
      "text/plain": [
       "<AxesSubplot: xlabel='ideb', ylabel='pib'>"
      ]
     },
     "execution_count": 65,
     "metadata": {},
     "output_type": "execute_result"
    },
    {
     "data": {
      "image/png": "[encoded data removed]",
      "text/plain": [
       "<Figure size 432x288 with 1 Axes>"
      ]
     },
     "metadata": {
      "needs_background": "light"
     },
     "output_type": "display_data"
    }
   ],
   "source": [
    "# seu código\n",
    "sns.scatterplot(data=df,x='ideb',y='pib')"
   ]
  },
  {
   "cell_type": "code",
   "execution_count": 67,
   "metadata": {},
   "outputs": [
    {
     "data": {
      "text/html": [
       "<div>\n",
       "<style scoped>\n",
       "    .dataframe tbody tr th:only-of-type {\n",
       "        vertical-align: middle;\n",
       "    }\n",
       "\n",
       "    .dataframe tbody tr th {\n",
       "        vertical-align: top;\n",
       "    }\n",
       "\n",
       "    .dataframe thead th {\n",
       "        text-align: right;\n",
       "    }\n",
       "</style>\n",
       "<table border=\"1\" class=\"dataframe\">\n",
       "  <thead>\n",
       "    <tr style=\"text-align: right;\">\n",
       "      <th></th>\n",
       "      <th>ideb</th>\n",
       "      <th>pib</th>\n",
       "    </tr>\n",
       "  </thead>\n",
       "  <tbody>\n",
       "    <tr>\n",
       "      <th>ideb</th>\n",
       "      <td>1.000000</td>\n",
       "      <td>0.037105</td>\n",
       "    </tr>\n",
       "    <tr>\n",
       "      <th>pib</th>\n",
       "      <td>0.037105</td>\n",
       "      <td>1.000000</td>\n",
       "    </tr>\n",
       "  </tbody>\n",
       "</table>\n",
       "</div>"
      ],
      "text/plain": [
       "          ideb       pib\n",
       "ideb  1.000000  0.037105\n",
       "pib   0.037105  1.000000"
      ]
     },
     "execution_count": 67,
     "metadata": {},
     "output_type": "execute_result"
    }
   ],
   "source": [
    "df[['ideb','pib']].corr()"
   ]
  },
  {
   "attachments": {},
   "cell_type": "markdown",
   "metadata": {},
   "source": [
    "Há uma correlação baixa de cerca de 3% positiva."
   ]
  },
  {
   "attachments": {},
   "cell_type": "markdown",
   "metadata": {
    "id": "r_KVO0YX1eDC"
   },
   "source": [
    "### O que significa a correlação das variáveis `id_municipio` e `ideb`?\n",
    "\n",
    "É um calculo que não faz sentido, dados que id_municipio é uma variável categórica e o ideb uma variável contínua."
   ]
  },
  {
   "attachments": {},
   "cell_type": "markdown",
   "metadata": {
    "id": "TLIDVErL1zYB"
   },
   "source": [
    "### Atividade 7: Vamos importar os dados de [Estatística de Segurança Pública do Rio de Janeiro](https://basedosdados.org/dataset/br-isp-estatisticas-seguranca?bdm_table=taxa_evolucao_mensal_uf) e procurar por correlações entre algumas das colunas."
   ]
  },
  {
   "cell_type": "code",
   "execution_count": 70,
   "metadata": {
    "id": "jy-j--QKDpVJ"
   },
   "outputs": [
    {
     "data": {
      "text/html": [
       "<div>\n",
       "<style scoped>\n",
       "    .dataframe tbody tr th:only-of-type {\n",
       "        vertical-align: middle;\n",
       "    }\n",
       "\n",
       "    .dataframe tbody tr th {\n",
       "        vertical-align: top;\n",
       "    }\n",
       "\n",
       "    .dataframe thead th {\n",
       "        text-align: right;\n",
       "    }\n",
       "</style>\n",
       "<table border=\"1\" class=\"dataframe\">\n",
       "  <thead>\n",
       "    <tr style=\"text-align: right;\">\n",
       "      <th></th>\n",
       "      <th>ano</th>\n",
       "      <th>mes</th>\n",
       "      <th>mes_ano</th>\n",
       "      <th>hom_doloso</th>\n",
       "      <th>lesao_corp_morte</th>\n",
       "      <th>latrocinio</th>\n",
       "      <th>cvli</th>\n",
       "      <th>hom_por_interv_policial</th>\n",
       "      <th>letalidade_violenta</th>\n",
       "      <th>tentat_hom</th>\n",
       "      <th>...</th>\n",
       "      <th>cmp</th>\n",
       "      <th>cmba</th>\n",
       "      <th>ameaca</th>\n",
       "      <th>pessoas_desaparecidas</th>\n",
       "      <th>encontro_cadaver</th>\n",
       "      <th>encontro_ossada</th>\n",
       "      <th>pol_militares_mortos_serv</th>\n",
       "      <th>pol_civis_mortos_serv</th>\n",
       "      <th>registro_ocorrencias</th>\n",
       "      <th>fase</th>\n",
       "    </tr>\n",
       "  </thead>\n",
       "  <tbody>\n",
       "    <tr>\n",
       "      <th>0</th>\n",
       "      <td>2003</td>\n",
       "      <td>1</td>\n",
       "      <td>2003m01</td>\n",
       "      <td>4.01</td>\n",
       "      <td>0.04</td>\n",
       "      <td>0.14</td>\n",
       "      <td>4.19</td>\n",
       "      <td>0.61</td>\n",
       "      <td>4.80</td>\n",
       "      <td>2.48</td>\n",
       "      <td>...</td>\n",
       "      <td>NaN</td>\n",
       "      <td>NaN</td>\n",
       "      <td>41.71</td>\n",
       "      <td>2.78</td>\n",
       "      <td>0.98</td>\n",
       "      <td>0.02</td>\n",
       "      <td>NaN</td>\n",
       "      <td>NaN</td>\n",
       "      <td>304.90</td>\n",
       "      <td>3.0</td>\n",
       "    </tr>\n",
       "    <tr>\n",
       "      <th>1</th>\n",
       "      <td>2003</td>\n",
       "      <td>2</td>\n",
       "      <td>2003m02</td>\n",
       "      <td>3.97</td>\n",
       "      <td>0.03</td>\n",
       "      <td>0.08</td>\n",
       "      <td>4.08</td>\n",
       "      <td>0.76</td>\n",
       "      <td>4.83</td>\n",
       "      <td>2.46</td>\n",
       "      <td>...</td>\n",
       "      <td>NaN</td>\n",
       "      <td>NaN</td>\n",
       "      <td>41.16</td>\n",
       "      <td>2.89</td>\n",
       "      <td>1.27</td>\n",
       "      <td>0.03</td>\n",
       "      <td>NaN</td>\n",
       "      <td>NaN</td>\n",
       "      <td>309.05</td>\n",
       "      <td>3.0</td>\n",
       "    </tr>\n",
       "  </tbody>\n",
       "</table>\n",
       "<p>2 rows × 57 columns</p>\n",
       "</div>"
      ],
      "text/plain": [
       "    ano  mes  mes_ano  hom_doloso  lesao_corp_morte  latrocinio  cvli  \\\n",
       "0  2003    1  2003m01        4.01              0.04        0.14  4.19   \n",
       "1  2003    2  2003m02        3.97              0.03        0.08  4.08   \n",
       "\n",
       "   hom_por_interv_policial  letalidade_violenta  tentat_hom  ...  cmp  cmba  \\\n",
       "0                     0.61                 4.80        2.48  ...  NaN   NaN   \n",
       "1                     0.76                 4.83        2.46  ...  NaN   NaN   \n",
       "\n",
       "   ameaca  pessoas_desaparecidas  encontro_cadaver  encontro_ossada  \\\n",
       "0   41.71                   2.78              0.98             0.02   \n",
       "1   41.16                   2.89              1.27             0.03   \n",
       "\n",
       "   pol_militares_mortos_serv  pol_civis_mortos_serv  registro_ocorrencias  \\\n",
       "0                        NaN                    NaN                304.90   \n",
       "1                        NaN                    NaN                309.05   \n",
       "\n",
       "   fase  \n",
       "0   3.0  \n",
       "1   3.0  \n",
       "\n",
       "[2 rows x 57 columns]"
      ]
     },
     "execution_count": 70,
     "metadata": {},
     "output_type": "execute_result"
    }
   ],
   "source": [
    "# seu código\n",
    "seg_rj = pd.read_csv('seg_rj.csv')\n",
    "seg_rj.head(2)"
   ]
  },
  {
   "cell_type": "code",
   "execution_count": 78,
   "metadata": {},
   "outputs": [
    {
     "name": "stderr",
     "output_type": "stream",
     "text": [
      "C:\\Users\\leolk\\AppData\\Local\\Temp\\ipykernel_3388\\3406754978.py:2: FutureWarning: The default value of numeric_only in DataFrame.corr is deprecated. In a future version, it will default to False. Select only valid columns or specify the value of numeric_only to silence this warning.\n",
      "  ax = sns.heatmap(seg_rj.corr(), vmin=-1, vmax=1, annot=False);\n"
     ]
    },
    {
     "data": {
      "image/png": "[encoded data removed]",
      "text/plain": [
       "<Figure size 2160x1080 with 2 Axes>"
      ]
     },
     "metadata": {
      "needs_background": "light"
     },
     "output_type": "display_data"
    }
   ],
   "source": [
    "plt.figure(figsize=(30,15))\n",
    "ax = sns.heatmap(seg_rj.corr(), vmin=-1, vmax=1, annot=False);\n",
    "plt.show()"
   ]
  },
  {
   "attachments": {},
   "cell_type": "markdown",
   "metadata": {
    "id": "mgMs8ch0336b"
   },
   "source": [
    "### Atividade 8: Selecione os dados apenas para o ano de 2020 e apenas as colunas `mês`, `hom_doloso, lesao_corp_morte, latrocinio, cvli, hom_por_interv_policial`, e `trafico_drogas`"
   ]
  },
  {
   "cell_type": "code",
   "execution_count": 81,
   "metadata": {
    "id": "JHPo5OMi3vr_"
   },
   "outputs": [],
   "source": [
    "# seu código\n",
    "seg_rj = seg_rj.loc[seg_rj.ano==2020,['mes','hom_doloso', 'lesao_corp_morte', 'latrocinio', 'cvli', 'hom_por_interv_policial','trafico_drogas']]"
   ]
  },
  {
   "cell_type": "code",
   "execution_count": 84,
   "metadata": {
    "id": "fkGuyyX8DpTq"
   },
   "outputs": [
    {
     "data": {
      "image/png": "[encoded data removed]",
      "text/plain": [
       "<Figure size 360x360 with 2 Axes>"
      ]
     },
     "metadata": {
      "needs_background": "light"
     },
     "output_type": "display_data"
    }
   ],
   "source": [
    "# seu código\n",
    "plt.figure(figsize=(5,5))\n",
    "ax = sns.heatmap(seg_rj.corr(), vmin=-1, vmax=1, annot=True);\n",
    "plt.show()"
   ]
  },
  {
   "cell_type": "code",
   "execution_count": null,
   "metadata": {
    "id": "fCQVi0ScMzpR"
   },
   "outputs": [],
   "source": [
    "# seu código"
   ]
  }
 ],
 "metadata": {
  "colab": {
   "provenance": []
  },
  "kernelspec": {
   "display_name": "Python 3 (ipykernel)",
   "language": "python",
   "name": "python3"
  },
  "language_info": {
   "codemirror_mode": {
    "name": "ipython",
    "version": 3
   },
   "file_extension": ".py",
   "mimetype": "text/x-python",
   "name": "python",
   "nbconvert_exporter": "python",
   "pygments_lexer": "ipython3",
   "version": "3.9.12"
  },
  "latex_envs": {
   "LaTeX_envs_menu_present": true,
   "autoclose": true,
   "autocomplete": true,
   "bibliofile": "biblio.bib",
   "cite_by": "apalike",
   "current_citInitial": 1,
   "eqLabelWithNumbers": true,
   "eqNumInitial": 1,
   "hotkeys": {
    "equation": "Ctrl-E",
    "itemize": "Ctrl-I"
   },
   "labels_anchors": false,
   "latex_user_defs": false,
   "report_style_numbering": false,
   "user_envs_cfg": false
  },
  "toc": {
   "base_numbering": 1,
   "nav_menu": {},
   "number_sections": true,
   "sideBar": true,
   "skip_h1_title": false,
   "title_cell": "Table of Contents",
   "title_sidebar": "Contents",
   "toc_cell": false,
   "toc_position": {},
   "toc_section_display": true,
   "toc_window_display": false
  }
 },
 "nbformat": 4,
 "nbformat_minor": 1
}
