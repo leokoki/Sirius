{
  "cells": [
    {
      "cell_type": "markdown",
      "metadata": {
        "id": "PrHeSbKAew7h"
      },
      "source": [
        "# DoE | Análise de Resultados de Experimentos Fatoriais com Python\n",
        "\n",
        "Nesta atividade, vamos analisar resultados de experimentos fatoriais. Iniciaremos por uma análise mais simples e manuale e avançaremos com o uso da ANOVA.\n",
        "\n",
        "Vamos utilizar o dataset adaptado CAKE [cake.csv](https://drive.google.com/file/d/1rKsiVTj82Mtr_Mi_SPXwXFr71d32C3HV/view?usp=drive_link)."
      ]
    },
    {
      "cell_type": "code",
      "execution_count": 59,
      "metadata": {},
      "outputs": [],
      "source": [
        "# seu código\n",
        "import pandas as pd\n",
        "import statsmodels.api as sm\n",
        "from statsmodels.formula.api import ols\n",
        "from scipy.stats import t\n",
        "import seaborn as sns"
      ]
    },
    {
      "cell_type": "code",
      "execution_count": 39,
      "metadata": {},
      "outputs": [],
      "source": [
        "class color:\n",
        "   PURPLE = '\\033[95m'\n",
        "   CYAN = '\\033[96m'\n",
        "   DARKCYAN = '\\033[36m'\n",
        "   BLUE = '\\033[94m'\n",
        "   GREEN = '\\033[92m'\n",
        "   YELLOW = '\\033[93m'\n",
        "   RED = '\\033[91m'\n",
        "   BOLD = '\\033[1m'\n",
        "   UNDERLINE = '\\033[4m'\n",
        "   END = '\\033[0m'"
      ]
    },
    {
      "cell_type": "markdown",
      "metadata": {
        "id": "pcbyf3DUfm9i"
      },
      "source": [
        "# Atividade 0 - Baixe e Importe o Dataset\n",
        "Importe o arquivo como dataframe do Pandas"
      ]
    },
    {
      "cell_type": "code",
      "execution_count": 40,
      "metadata": {
        "id": "BC2AJvuFCwp7"
      },
      "outputs": [
        {
          "data": {
            "text/html": [
              "<div>\n",
              "<style scoped>\n",
              "    .dataframe tbody tr th:only-of-type {\n",
              "        vertical-align: middle;\n",
              "    }\n",
              "\n",
              "    .dataframe tbody tr th {\n",
              "        vertical-align: top;\n",
              "    }\n",
              "\n",
              "    .dataframe thead th {\n",
              "        text-align: right;\n",
              "    }\n",
              "</style>\n",
              "<table border=\"1\" class=\"dataframe\">\n",
              "  <thead>\n",
              "    <tr style=\"text-align: right;\">\n",
              "      <th></th>\n",
              "      <th>FLOUR</th>\n",
              "      <th>EGGS</th>\n",
              "      <th>TASTE</th>\n",
              "    </tr>\n",
              "  </thead>\n",
              "  <tbody>\n",
              "    <tr>\n",
              "      <th>0</th>\n",
              "      <td>-1</td>\n",
              "      <td>-1</td>\n",
              "      <td>3.625</td>\n",
              "    </tr>\n",
              "    <tr>\n",
              "      <th>1</th>\n",
              "      <td>-1</td>\n",
              "      <td>-1</td>\n",
              "      <td>2.600</td>\n",
              "    </tr>\n",
              "    <tr>\n",
              "      <th>2</th>\n",
              "      <td>-1</td>\n",
              "      <td>1</td>\n",
              "      <td>5.250</td>\n",
              "    </tr>\n",
              "    <tr>\n",
              "      <th>3</th>\n",
              "      <td>-1</td>\n",
              "      <td>1</td>\n",
              "      <td>4.700</td>\n",
              "    </tr>\n",
              "    <tr>\n",
              "      <th>4</th>\n",
              "      <td>1</td>\n",
              "      <td>-1</td>\n",
              "      <td>3.775</td>\n",
              "    </tr>\n",
              "  </tbody>\n",
              "</table>\n",
              "</div>"
            ],
            "text/plain": [
              "   FLOUR  EGGS  TASTE\n",
              "0     -1    -1  3.625\n",
              "1     -1    -1  2.600\n",
              "2     -1     1  5.250\n",
              "3     -1     1  4.700\n",
              "4      1    -1  3.775"
            ]
          },
          "execution_count": 40,
          "metadata": {},
          "output_type": "execute_result"
        }
      ],
      "source": [
        "# seu código\n",
        "df = pd.read_csv('cake.csv')\n",
        "df.head()"
      ]
    },
    {
      "cell_type": "markdown",
      "metadata": {
        "id": "N7fwciNegBsN"
      },
      "source": [
        "# Atividade 1 (Opcional) - Plote os experimentos presentes na Tabela\n",
        "Sugestão: utilize a ferramenta `PairGrid` do Seaborn"
      ]
    },
    {
      "cell_type": "code",
      "execution_count": 41,
      "metadata": {
        "id": "7nZRd8kmC_Rn"
      },
      "outputs": [
        {
          "data": {
            "text/plain": [
              "<seaborn.axisgrid.PairGrid at 0x27a78b12650>"
            ]
          },
          "execution_count": 41,
          "metadata": {},
          "output_type": "execute_result"
        },
        {
          "data": {
            "image/png": "[encoded data removed]",
            "text/plain": [
              "<Figure size 750x750 with 9 Axes>"
            ]
          },
          "metadata": {},
          "output_type": "display_data"
        }
      ],
      "source": [
        "# seu código\n",
        "g = sns.PairGrid(df)\n",
        "g.map(sns.scatterplot)"
      ]
    },
    {
      "cell_type": "markdown",
      "metadata": {
        "id": "O4zKtE7qgTK3"
      },
      "source": [
        "# Atividade 2 - Divida o dataframe e calcule os efeitos do primeiro fator"
      ]
    },
    {
      "cell_type": "code",
      "execution_count": 42,
      "metadata": {
        "id": "yiUUrfqKEvGh"
      },
      "outputs": [],
      "source": [
        "# FLOUR A\n",
        "flour_a = df[df.FLOUR==1]['TASTE'].mean()\n",
        "\n",
        "# FLOUR B\n",
        "flour_b = df[df.FLOUR==-1]['TASTE'].mean()"
      ]
    },
    {
      "cell_type": "code",
      "execution_count": 43,
      "metadata": {
        "id": "bkpfstunigid"
      },
      "outputs": [
        {
          "name": "stdout",
          "output_type": "stream",
          "text": [
            "\u001b[93mEfeito do FLOUR: \u001b[0m\u001b[95m0.42\u001b[0m\n"
          ]
        }
      ],
      "source": [
        "efeito_flour = abs(flour_a-flour_b)\n",
        "print(f'{color.YELLOW}Efeito do FLOUR: {color.END}{color.PURPLE}{efeito_flour:.2f}{color.END}')"
      ]
    },
    {
      "cell_type": "markdown",
      "metadata": {
        "id": "aqBMn0-fgghf"
      },
      "source": [
        "# Atividade 2 - Divida o dataframe e calcule os efeitos do segundo fator"
      ]
    },
    {
      "cell_type": "code",
      "execution_count": 44,
      "metadata": {
        "id": "5PZ2YZcXFgXR"
      },
      "outputs": [],
      "source": [
        "# EGGS A\n",
        "eggs_a = df[df.EGGS==1]['TASTE'].mean()\n",
        "\n",
        "# EGGS B\n",
        "eggs_b = df[df.EGGS==-1]['TASTE'].mean()"
      ]
    },
    {
      "cell_type": "code",
      "execution_count": 45,
      "metadata": {
        "id": "96yL49eMGWOU"
      },
      "outputs": [
        {
          "name": "stdout",
          "output_type": "stream",
          "text": [
            "\u001b[93mEfeito do EGGS:  \u001b[0m\u001b[95m1.77\u001b[0m\n"
          ]
        }
      ],
      "source": [
        "# seu código\n",
        "efeito_eggs = abs(eggs_a-eggs_b)\n",
        "\n",
        "print(f'{color.YELLOW}Efeito do EGGS:  {color.END}{color.PURPLE}{efeito_eggs:.2f}{color.END}')\n"
      ]
    },
    {
      "cell_type": "markdown",
      "metadata": {
        "id": "i79UyWW8ikRr"
      },
      "source": [
        "# Atividade 3 - Calcule o Efeito combinado\n",
        "Dica: Esse efeito é obtido a partir das Diagonais"
      ]
    },
    {
      "cell_type": "code",
      "execution_count": 46,
      "metadata": {
        "id": "VS98_aD8JN7z"
      },
      "outputs": [
        {
          "name": "stdout",
          "output_type": "stream",
          "text": [
            "\u001b[93mEfeito Combinado Diagonal Ascendente:  \u001b[0m\u001b[95m4.21\u001b[0m\n"
          ]
        }
      ],
      "source": [
        "# seu código\n",
        "flour_eggs_AA = df[(df.EGGS==1)&(df.FLOUR==1)]['TASTE'].mean()\n",
        "flour_eggs_BB = df[(df.EGGS==-1)&(df.FLOUR==-1)]['TASTE'].mean()\n",
        "flour_eggs_asc = (flour_eggs_AA + flour_eggs_BB)/2\n",
        "\n",
        "print(f'{color.YELLOW}Efeito Combinado Diagonal Ascendente:  {color.END}{color.PURPLE}{flour_eggs_asc:.2f}{color.END}')\n"
      ]
    },
    {
      "cell_type": "code",
      "execution_count": 47,
      "metadata": {},
      "outputs": [
        {
          "name": "stdout",
          "output_type": "stream",
          "text": [
            "\u001b[93mEfeito Combinado Diagonal Descendente:  \u001b[0m\u001b[95m4.30\u001b[0m\n"
          ]
        }
      ],
      "source": [
        "# seu código\n",
        "flour_eggs_AA = df[(df.EGGS==1)&(df.FLOUR==-1)]['TASTE'].mean()\n",
        "flour_eggs_BB = df[(df.EGGS==-1)&(df.FLOUR==1)]['TASTE'].mean()\n",
        "flour_eggs_desc = (flour_eggs_AA + flour_eggs_BB)/2\n",
        "\n",
        "print(f'{color.YELLOW}Efeito Combinado Diagonal Descendente:  {color.END}{color.PURPLE}{flour_eggs_desc:.2f}{color.END}')\n"
      ]
    },
    {
      "cell_type": "code",
      "execution_count": 48,
      "metadata": {},
      "outputs": [
        {
          "name": "stdout",
          "output_type": "stream",
          "text": [
            "\u001b[93mEfeito Combinado:  \u001b[0m\u001b[95m0.09\u001b[0m\n"
          ]
        }
      ],
      "source": [
        "# seu código\n",
        "efeito_combinado = abs(flour_eggs_desc - flour_eggs_asc)\n",
        "\n",
        "print(f'{color.YELLOW}Efeito Combinado:  {color.END}{color.PURPLE}{efeito_combinado:.2f}{color.END}')\n"
      ]
    },
    {
      "cell_type": "markdown",
      "metadata": {
        "id": "FuVw1IpHjElI"
      },
      "source": [
        "# Atividade 4 - Crie um Modelo de Efeitos Fixos e faça a Análise Estatística"
      ]
    },
    {
      "cell_type": "markdown",
      "metadata": {
        "id": "XB3YViYWjwZ2"
      },
      "source": [
        "**Análise Estatística do Modelo de Efeitos Fixos (Fixed Effects Model)**\n",
        "\n",
        "O modelo de efeitos fixos assume que os níveis de cada fator são fixos e pré-determinados. Isso significa que o objetivo do experimento é avaliar o efeito dos diferentes níveis dos fatores, em vez de fazer inferências sobre uma população mais ampla.\n",
        "\n",
        "A análise estatística do modelo de efeitos fixos envolve a construção de um modelo matemático que relaciona os níveis dos fatores com as variáveis de resposta. Normalmente, utiliza-se a regressão linear para estabelecer essa relação."
      ]
    },
    {
      "cell_type": "markdown",
      "metadata": {
        "id": "y6XR-Ff6j8uJ"
      },
      "source": [
        "Atividade 4.1: Crie o Modelo\\\n",
        "Sugestão: utilize o OLS (Ordinary Least Squares / Mínimos Quadrados Ordinários)"
      ]
    },
    {
      "cell_type": "code",
      "execution_count": 49,
      "metadata": {},
      "outputs": [
        {
          "data": {
            "text/plain": [
              "Index(['FLOUR', 'EGGS', 'TASTE'], dtype='object')"
            ]
          },
          "execution_count": 49,
          "metadata": {},
          "output_type": "execute_result"
        }
      ],
      "source": [
        "df.columns"
      ]
    },
    {
      "cell_type": "code",
      "execution_count": 53,
      "metadata": {
        "id": "yWw8HC2MO_19"
      },
      "outputs": [],
      "source": [
        "# seu código\n",
        "funcao = 'TASTE ~ FLOUR + EGGS + FLOUR*EGGS'\n",
        "\n",
        "modelo = ols(funcao,df).fit()"
      ]
    },
    {
      "cell_type": "code",
      "execution_count": 54,
      "metadata": {
        "id": "_qyWa2kMP1Hw"
      },
      "outputs": [
        {
          "name": "stderr",
          "output_type": "stream",
          "text": [
            "c:\\Users\\leolk\\AppData\\Local\\Programs\\Python\\Python311\\Lib\\site-packages\\scipy\\stats\\_stats_py.py:1772: UserWarning: kurtosistest only valid for n>=20 ... continuing anyway, n=8\n",
            "  warnings.warn(\"kurtosistest only valid for n>=20 ... continuing \"\n"
          ]
        },
        {
          "data": {
            "text/html": [
              "<table class=\"simpletable\">\n",
              "<caption>OLS Regression Results</caption>\n",
              "<tr>\n",
              "  <th>Dep. Variable:</th>          <td>TASTE</td>      <th>  R-squared:         </th> <td>   0.873</td>\n",
              "</tr>\n",
              "<tr>\n",
              "  <th>Model:</th>                   <td>OLS</td>       <th>  Adj. R-squared:    </th> <td>   0.777</td>\n",
              "</tr>\n",
              "<tr>\n",
              "  <th>Method:</th>             <td>Least Squares</td>  <th>  F-statistic:       </th> <td>   9.139</td>\n",
              "</tr>\n",
              "<tr>\n",
              "  <th>Date:</th>             <td>Tue, 10 Oct 2023</td> <th>  Prob (F-statistic):</th>  <td>0.0291</td> \n",
              "</tr>\n",
              "<tr>\n",
              "  <th>Time:</th>                 <td>00:35:16</td>     <th>  Log-Likelihood:    </th> <td> -2.8977</td>\n",
              "</tr>\n",
              "<tr>\n",
              "  <th>No. Observations:</th>      <td>     8</td>      <th>  AIC:               </th> <td>   13.80</td>\n",
              "</tr>\n",
              "<tr>\n",
              "  <th>Df Residuals:</th>          <td>     4</td>      <th>  BIC:               </th> <td>   14.11</td>\n",
              "</tr>\n",
              "<tr>\n",
              "  <th>Df Model:</th>              <td>     3</td>      <th>                     </th>     <td> </td>   \n",
              "</tr>\n",
              "<tr>\n",
              "  <th>Covariance Type:</th>      <td>nonrobust</td>    <th>                     </th>     <td> </td>   \n",
              "</tr>\n",
              "</table>\n",
              "<table class=\"simpletable\">\n",
              "<tr>\n",
              "       <td></td>         <th>coef</th>     <th>std err</th>      <th>t</th>      <th>P>|t|</th>  <th>[0.025</th>    <th>0.975]</th>  \n",
              "</tr>\n",
              "<tr>\n",
              "  <th>Intercept</th>  <td>    4.2531</td> <td>    0.174</td> <td>   24.472</td> <td> 0.000</td> <td>    3.771</td> <td>    4.736</td>\n",
              "</tr>\n",
              "<tr>\n",
              "  <th>FLOUR</th>      <td>    0.2094</td> <td>    0.174</td> <td>    1.205</td> <td> 0.295</td> <td>   -0.273</td> <td>    0.692</td>\n",
              "</tr>\n",
              "<tr>\n",
              "  <th>EGGS</th>       <td>    0.8844</td> <td>    0.174</td> <td>    5.089</td> <td> 0.007</td> <td>    0.402</td> <td>    1.367</td>\n",
              "</tr>\n",
              "<tr>\n",
              "  <th>FLOUR:EGGS</th> <td>   -0.0469</td> <td>    0.174</td> <td>   -0.270</td> <td> 0.801</td> <td>   -0.529</td> <td>    0.436</td>\n",
              "</tr>\n",
              "</table>\n",
              "<table class=\"simpletable\">\n",
              "<tr>\n",
              "  <th>Omnibus:</th>       <td> 1.701</td> <th>  Durbin-Watson:     </th> <td>   3.087</td>\n",
              "</tr>\n",
              "<tr>\n",
              "  <th>Prob(Omnibus):</th> <td> 0.427</td> <th>  Jarque-Bera (JB):  </th> <td>   0.706</td>\n",
              "</tr>\n",
              "<tr>\n",
              "  <th>Skew:</th>          <td> 0.000</td> <th>  Prob(JB):          </th> <td>   0.703</td>\n",
              "</tr>\n",
              "<tr>\n",
              "  <th>Kurtosis:</th>      <td> 1.545</td> <th>  Cond. No.          </th> <td>    1.00</td>\n",
              "</tr>\n",
              "</table><br/><br/>Notes:<br/>[1] Standard Errors assume that the covariance matrix of the errors is correctly specified."
            ],
            "text/plain": [
              "<class 'statsmodels.iolib.summary.Summary'>\n",
              "\"\"\"\n",
              "                            OLS Regression Results                            \n",
              "==============================================================================\n",
              "Dep. Variable:                  TASTE   R-squared:                       0.873\n",
              "Model:                            OLS   Adj. R-squared:                  0.777\n",
              "Method:                 Least Squares   F-statistic:                     9.139\n",
              "Date:                Tue, 10 Oct 2023   Prob (F-statistic):             0.0291\n",
              "Time:                        00:35:16   Log-Likelihood:                -2.8977\n",
              "No. Observations:                   8   AIC:                             13.80\n",
              "Df Residuals:                       4   BIC:                             14.11\n",
              "Df Model:                           3                                         \n",
              "Covariance Type:            nonrobust                                         \n",
              "==============================================================================\n",
              "                 coef    std err          t      P>|t|      [0.025      0.975]\n",
              "------------------------------------------------------------------------------\n",
              "Intercept      4.2531      0.174     24.472      0.000       3.771       4.736\n",
              "FLOUR          0.2094      0.174      1.205      0.295      -0.273       0.692\n",
              "EGGS           0.8844      0.174      5.089      0.007       0.402       1.367\n",
              "FLOUR:EGGS    -0.0469      0.174     -0.270      0.801      -0.529       0.436\n",
              "==============================================================================\n",
              "Omnibus:                        1.701   Durbin-Watson:                   3.087\n",
              "Prob(Omnibus):                  0.427   Jarque-Bera (JB):                0.706\n",
              "Skew:                           0.000   Prob(JB):                        0.703\n",
              "Kurtosis:                       1.545   Cond. No.                         1.00\n",
              "==============================================================================\n",
              "\n",
              "Notes:\n",
              "[1] Standard Errors assume that the covariance matrix of the errors is correctly specified.\n",
              "\"\"\""
            ]
          },
          "execution_count": 54,
          "metadata": {},
          "output_type": "execute_result"
        }
      ],
      "source": [
        "modelo.summary()"
      ]
    },
    {
      "cell_type": "markdown",
      "metadata": {
        "id": "MdgbRDEylrQH"
      },
      "source": [
        "Atividade 4.2 - Faça a Análise Estatística do Modelo Utilizando ANOVA"
      ]
    },
    {
      "cell_type": "code",
      "execution_count": 56,
      "metadata": {
        "id": "J6KZmTsalqmk"
      },
      "outputs": [
        {
          "data": {
            "text/html": [
              "<div>\n",
              "<style scoped>\n",
              "    .dataframe tbody tr th:only-of-type {\n",
              "        vertical-align: middle;\n",
              "    }\n",
              "\n",
              "    .dataframe tbody tr th {\n",
              "        vertical-align: top;\n",
              "    }\n",
              "\n",
              "    .dataframe thead th {\n",
              "        text-align: right;\n",
              "    }\n",
              "</style>\n",
              "<table border=\"1\" class=\"dataframe\">\n",
              "  <thead>\n",
              "    <tr style=\"text-align: right;\">\n",
              "      <th></th>\n",
              "      <th>df</th>\n",
              "      <th>sum_sq</th>\n",
              "      <th>mean_sq</th>\n",
              "      <th>F</th>\n",
              "      <th>PR(&gt;F)</th>\n",
              "    </tr>\n",
              "  </thead>\n",
              "  <tbody>\n",
              "    <tr>\n",
              "      <th>FLOUR</th>\n",
              "      <td>1.0</td>\n",
              "      <td>0.350703</td>\n",
              "      <td>0.350703</td>\n",
              "      <td>1.451342</td>\n",
              "      <td>0.294716</td>\n",
              "    </tr>\n",
              "    <tr>\n",
              "      <th>EGGS</th>\n",
              "      <td>1.0</td>\n",
              "      <td>6.256953</td>\n",
              "      <td>6.256953</td>\n",
              "      <td>25.893631</td>\n",
              "      <td>0.007038</td>\n",
              "    </tr>\n",
              "    <tr>\n",
              "      <th>FLOUR:EGGS</th>\n",
              "      <td>1.0</td>\n",
              "      <td>0.017578</td>\n",
              "      <td>0.017578</td>\n",
              "      <td>0.072745</td>\n",
              "      <td>0.800724</td>\n",
              "    </tr>\n",
              "    <tr>\n",
              "      <th>Residual</th>\n",
              "      <td>4.0</td>\n",
              "      <td>0.966562</td>\n",
              "      <td>0.241641</td>\n",
              "      <td>NaN</td>\n",
              "      <td>NaN</td>\n",
              "    </tr>\n",
              "  </tbody>\n",
              "</table>\n",
              "</div>"
            ],
            "text/plain": [
              "             df    sum_sq   mean_sq          F    PR(>F)\n",
              "FLOUR       1.0  0.350703  0.350703   1.451342  0.294716\n",
              "EGGS        1.0  6.256953  6.256953  25.893631  0.007038\n",
              "FLOUR:EGGS  1.0  0.017578  0.017578   0.072745  0.800724\n",
              "Residual    4.0  0.966562  0.241641        NaN       NaN"
            ]
          },
          "execution_count": 56,
          "metadata": {},
          "output_type": "execute_result"
        }
      ],
      "source": [
        "# seu código\n",
        "anova = sm.stats.anova_lm(modelo)\n",
        "anova"
      ]
    },
    {
      "cell_type": "code",
      "execution_count": 58,
      "metadata": {},
      "outputs": [
        {
          "name": "stdout",
          "output_type": "stream",
          "text": [
            "\u001b[93mConforme esperado o \u001b[0m\u001b[95mEGGS\u001b[0m\u001b[93m possui um efeito superior entre os outros testes\u001b[0m\n"
          ]
        }
      ],
      "source": [
        "print(f'{color.YELLOW}Conforme esperado o {color.END}{color.PURPLE}EGGS{color.END}{color.YELLOW} possui um efeito superior entre os outros testes{color.END}')\n"
      ]
    },
    {
      "cell_type": "markdown",
      "metadata": {
        "id": "KzRpvAG2lysd"
      },
      "source": [
        "Atividade 4.3 - Faça o Teste T de Student e verifique quais Fatores tiveram efeitos estatisticamente relevantes\n",
        "\n",
        "Instrução: considere um nível de confiança esperado como 95%\n"
      ]
    },
    {
      "cell_type": "markdown",
      "metadata": {
        "id": "Rs5x6AAHmqRg"
      },
      "source": [
        "Sugestão: utilize a função `ppf` do `scipy`.\n",
        "\n",
        "A função `ppf` calcula a **função de distribuição cumulativa inversa** e leva no mínimo 2 argumentos: ppf(q,df).\n",
        "> Obs: Os outros argumentos são: loc (média) e escala (desvio padrão) - ambos opcionais (quando não declarados, o padrão é 0 e 1, respectivamente).\n",
        "\n",
        "Por definição, um resultado de x para um determinado valor q e df significa P{T <= x} = q, ou seja, há probabilidade q de obter resultados menores ou iguais a x de uma distribuição T com o local e a escala fornecidos.\n",
        "\n",
        "\n",
        "Considerando um nível de confiança de 95%, você deseja que 5% da probabilidade esteja nas extremidades da distribuição. Isso geralmente é feito simetricamente para que 2,5% esteja em cada cauda, portanto, você usaria valores q de 0,025 e 0,975 para os pontos de corte inferior e superior, respectivamente."
      ]
    },
    {
      "cell_type": "code",
      "execution_count": 67,
      "metadata": {
        "id": "gEaFfv-GQUSb"
      },
      "outputs": [
        {
          "data": {
            "text/plain": [
              "0.22005496381670064"
            ]
          },
          "execution_count": 67,
          "metadata": {},
          "output_type": "execute_result"
        }
      ],
      "source": [
        "# seu código\n",
        "nivel_confianca = 0.95\n",
        "q = (1+nivel_confianca)/2\n",
        "\n",
        "teste_t = t.pdf(q,4)\n",
        "teste_t"
      ]
    },
    {
      "cell_type": "code",
      "execution_count": 79,
      "metadata": {},
      "outputs": [
        {
          "name": "stdout",
          "output_type": "stream",
          "text": [
            "Index(['Intercept', 'FLOUR', 'EGGS', 'FLOUR:EGGS'], dtype='object')\n"
          ]
        }
      ],
      "source": [
        "testee = pd.DataFrame(modelo.tvalues)\n",
        "print(testee[testee[0].abs()>teste_t].index)"
      ]
    }
  ],
  "metadata": {
    "colab": {
      "provenance": []
    },
    "kernelspec": {
      "display_name": "Python 3",
      "name": "python3"
    },
    "language_info": {
      "codemirror_mode": {
        "name": "ipython",
        "version": 3
      },
      "file_extension": ".py",
      "mimetype": "text/x-python",
      "name": "python",
      "nbconvert_exporter": "python",
      "pygments_lexer": "ipython3",
      "version": "3.11.0"
    }
  },
  "nbformat": 4,
  "nbformat_minor": 0
}
