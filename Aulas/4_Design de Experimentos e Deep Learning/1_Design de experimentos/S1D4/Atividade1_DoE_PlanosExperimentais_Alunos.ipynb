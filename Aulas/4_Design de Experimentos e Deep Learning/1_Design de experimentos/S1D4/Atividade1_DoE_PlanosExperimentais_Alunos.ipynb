{
  "cells": [
    {
      "cell_type": "markdown",
      "metadata": {
        "id": "ZQfSLpNfsvMt"
      },
      "source": [
        "# DoE | Planejando Experimentos com Python\n",
        "\n",
        "Nesta atividade, vamos gerar diferentes planos experimentais.\n",
        "\n",
        "Para tal, utilizaremos a biblioteca `pyDOE2` ([informações](https://pypi.org/project/pyDOE2/) e [documentação](https://pythonhosted.org/pyDOE/)).\n",
        "\n",
        "O Colab não vem com essa biblioteca pré-instalada, então Vamos começar instalando essa biblioteca usando o `pip`."
      ]
    },
    {
      "cell_type": "markdown",
      "metadata": {
        "id": "KlA1vqE75pVI"
      },
      "source": [
        "### Antes de começar: Instale o `pyDOE2` usando o pip.\n",
        "Dica: No Colab, temos que colocar um sinal de `!` antes do `pip`, assim: `!pip`"
      ]
    },
    {
      "cell_type": "code",
      "execution_count": 3,
      "metadata": {
        "id": "h95PzFTwp4g0"
      },
      "outputs": [
        {
          "name": "stdout",
          "output_type": "stream",
          "text": [
            "Requirement already satisfied: pyDOE2 in c:\\users\\leolk\\appdata\\local\\programs\\python\\python311\\lib\\site-packages (1.3.0)\n",
            "Requirement already satisfied: numpy in c:\\users\\leolk\\appdata\\local\\programs\\python\\python311\\lib\\site-packages (from pyDOE2) (1.23.4)\n",
            "Requirement already satisfied: scipy in c:\\users\\leolk\\appdata\\local\\programs\\python\\python311\\lib\\site-packages (from pyDOE2) (1.9.3)\n"
          ]
        },
        {
          "name": "stderr",
          "output_type": "stream",
          "text": [
            "\n",
            "[notice] A new release of pip is available: 23.1.2 -> 23.2.1\n",
            "[notice] To update, run: python.exe -m pip install --upgrade pip\n"
          ]
        }
      ],
      "source": [
        "# seu código\n",
        "!pip install pyDOE2"
      ]
    },
    {
      "cell_type": "markdown",
      "metadata": {
        "id": "k7FX3LxOrM5S"
      },
      "source": [
        "Após instalar a biblioteca, importe-a e importe também as suas dependências `numpy`e `scipy`:"
      ]
    },
    {
      "cell_type": "code",
      "execution_count": 4,
      "metadata": {
        "id": "VYgs-6x096Kh"
      },
      "outputs": [],
      "source": [
        "# seu código\n",
        "import pandas as pd\n",
        "import numpy as np\n",
        "import scipy\n",
        "import pyDOE2 as doe"
      ]
    },
    {
      "cell_type": "markdown",
      "metadata": {
        "id": "oUMdaxSv8N-g"
      },
      "source": [
        "# Geração de Matrizes de Projeto\n",
        "\n",
        "O pyDOE2 permite criar matrizes de projeto que definem as configurações dos fatores experimentais a serem testados. A  biblioteca suporta vários tipos de matrizes, incluindo:\n",
        "\n",
        "* **Fatoriais completos**: gera uma matriz de todos os possíveis níveis de todos os fatores.\n",
        "* **Fatoriais fracionados**: gera uma matriz de uma fração dos níveis possíveis para todos os fatores, reduzindo o número total de configurações a serem testadas."
      ]
    },
    {
      "cell_type": "markdown",
      "metadata": {
        "id": "-lsewnn3rqRj"
      },
      "source": [
        "Vamos praticar ao longo das atividades a seguir:"
      ]
    },
    {
      "cell_type": "markdown",
      "metadata": {
        "id": "ZWURWsEKpM4K"
      },
      "source": [
        "### Atividade 1: Fatorial Completo de 3 Fatores e 2 Níveis\n",
        "\n",
        "Nesta abordagem pode haver **apenas dois níveis** por fator.\n",
        "Esses valores serão representados pelos valores `1` e `-1`.\n",
        "\n",
        "Dica: Para Fatorial Completo de 2 Níveis, utilizaremos a função `ff2n`."
      ]
    },
    {
      "cell_type": "code",
      "execution_count": 5,
      "metadata": {
        "id": "WeQxw2KopSvD"
      },
      "outputs": [
        {
          "name": "stdout",
          "output_type": "stream",
          "text": [
            "8\n",
            "[[-1. -1. -1.]\n",
            " [ 1. -1. -1.]\n",
            " [-1.  1. -1.]\n",
            " [ 1.  1. -1.]\n",
            " [-1. -1.  1.]\n",
            " [ 1. -1.  1.]\n",
            " [-1.  1.  1.]\n",
            " [ 1.  1.  1.]]\n"
          ]
        }
      ],
      "source": [
        "# seu código\n",
        "teste = doe.ff2n(3)\n",
        "print(len(teste))\n",
        "print(teste)"
      ]
    },
    {
      "cell_type": "markdown",
      "metadata": {
        "id": "JEGIMS1oCRV0"
      },
      "source": [
        "**PERGUNTA:** Quantas configurações serão testadas no experimento?"
      ]
    },
    {
      "cell_type": "markdown",
      "metadata": {
        "id": "5YXvLaIosoPv"
      },
      "source": [
        ">   **RESPOSTA:** ____8___"
      ]
    },
    {
      "cell_type": "markdown",
      "metadata": {
        "id": "ehN1Tr-76MB-"
      },
      "source": [
        "## Atividade 2: Fatorial Completo (mais de 2 níveis)\n",
        "Nesta abordagem, pode haver **mais que apenas 2 níveis por fator**, permitindo maior flexibilidade. No entanto, isso irá aumentar a complexidade do experimento.\n",
        "\n",
        "Crie um Design Fatorial Completo com 3 fatores, com a seguinte configuração:\n",
        "* O primeiro fator tem 3 níveis;\n",
        "* O segundo fator tem 2 níveis;\n",
        "* O terceiro fator tem 4 níveis;\n",
        "\n",
        "Dica: para Fatorial Completo Geral, utilizaremos a função `fullfact`.\n",
        "\n"
      ]
    },
    {
      "cell_type": "code",
      "execution_count": 6,
      "metadata": {
        "id": "iCYR5x8t7059"
      },
      "outputs": [
        {
          "name": "stdout",
          "output_type": "stream",
          "text": [
            "[[0. 0. 0.]\n",
            " [1. 0. 0.]\n",
            " [2. 0. 0.]\n",
            " [0. 1. 0.]\n",
            " [1. 1. 0.]\n",
            " [2. 1. 0.]\n",
            " [0. 0. 1.]\n",
            " [1. 0. 1.]\n",
            " [2. 0. 1.]\n",
            " [0. 1. 1.]\n",
            " [1. 1. 1.]\n",
            " [2. 1. 1.]\n",
            " [0. 0. 2.]\n",
            " [1. 0. 2.]\n",
            " [2. 0. 2.]\n",
            " [0. 1. 2.]\n",
            " [1. 1. 2.]\n",
            " [2. 1. 2.]\n",
            " [0. 0. 3.]\n",
            " [1. 0. 3.]\n",
            " [2. 0. 3.]\n",
            " [0. 1. 3.]\n",
            " [1. 1. 3.]\n",
            " [2. 1. 3.]]\n"
          ]
        }
      ],
      "source": [
        "# seu código\n",
        "plan=[3,2,4]\n",
        "design = doe.fullfact(plan)\n",
        "print(design)"
      ]
    },
    {
      "cell_type": "markdown",
      "metadata": {
        "id": "Q5_9vZW7CNXj"
      },
      "source": [
        "**PERGUNTA:** Quantas configurações serão testadas no experimento?"
      ]
    },
    {
      "cell_type": "code",
      "execution_count": 7,
      "metadata": {
        "id": "HqAYUFfpzKK5"
      },
      "outputs": [
        {
          "name": "stdout",
          "output_type": "stream",
          "text": [
            "24\n"
          ]
        }
      ],
      "source": [
        "# seu código\n",
        "print(len(design))"
      ]
    },
    {
      "cell_type": "markdown",
      "metadata": {
        "id": "G6Wval4MCkQe"
      },
      "source": [
        "  > **RESPOSTA:** ____24___"
      ]
    },
    {
      "cell_type": "markdown",
      "metadata": {
        "id": "qJV4dhy8uzsf"
      },
      "source": [
        "## Atividade 3: Fatorial Completo de 3 Fatores e 2 Níveis (parte 2)\n",
        "\n",
        "Suponha que para a produção de um bolo pronto, desejemos testar os seguintes fatores e níveis:\n",
        "\n",
        "**Fator 1 | Farinha:**\n",
        "Tipo 1 ou Tipo 2\n",
        "\n",
        "**Fator 2 | Quantidade de Fermento:**\n",
        "24mg ou 36mg\n",
        "\n",
        "**Fator 3 | Temperatura:**\n",
        "140ºC ou 180ºC"
      ]
    },
    {
      "cell_type": "markdown",
      "metadata": {
        "id": "dqxCzetLvDPG"
      },
      "source": [
        "**INSTRUÇÕES:**\n",
        "\n",
        "**A.** Gere o plano experimental de fatorial completo utilizando o pyDOE2\n",
        "\n",
        "**B.** A partir do resultado, crie um DataFrame com o plano expermental, substituindo os valores *1* e *-1* pelos valores reais a serem testados."
      ]
    },
    {
      "cell_type": "code",
      "execution_count": 8,
      "metadata": {
        "id": "KGQ1PeQewCl6"
      },
      "outputs": [],
      "source": [
        "# seu código\n",
        "plan = [2,2,2] \n",
        "design = doe.fullfact(plan) "
      ]
    },
    {
      "cell_type": "code",
      "execution_count": 9,
      "metadata": {
        "id": "O33_pknSwMZZ"
      },
      "outputs": [],
      "source": [
        "D = design.copy() \n",
        "\n",
        "# Fator 1\n",
        "D[:,0][D[:,0]==1] = 2\n",
        "D[:,0][D[:,0]==0] = 1\n",
        "\n",
        "# Fator 2\n",
        "D[:,1][D[:,1]==0] = 24\n",
        "D[:,1][D[:,1]==1] = 36\n",
        "\n",
        "# Fator 3\n",
        "D[:,2][D[:,2]==0] = 140\n",
        "D[:,2][D[:,2]==1] = 180"
      ]
    },
    {
      "cell_type": "code",
      "execution_count": 10,
      "metadata": {},
      "outputs": [],
      "source": [
        "df = pd.DataFrame(data={'Farinha':D[:,0],'Qtd_Fermento':D[:,1],'Temperatura':D[:,2]})"
      ]
    },
    {
      "cell_type": "code",
      "execution_count": 11,
      "metadata": {},
      "outputs": [
        {
          "data": {
            "text/html": [
              "<div>\n",
              "<style scoped>\n",
              "    .dataframe tbody tr th:only-of-type {\n",
              "        vertical-align: middle;\n",
              "    }\n",
              "\n",
              "    .dataframe tbody tr th {\n",
              "        vertical-align: top;\n",
              "    }\n",
              "\n",
              "    .dataframe thead th {\n",
              "        text-align: right;\n",
              "    }\n",
              "</style>\n",
              "<table border=\"1\" class=\"dataframe\">\n",
              "  <thead>\n",
              "    <tr style=\"text-align: right;\">\n",
              "      <th></th>\n",
              "      <th>Farinha</th>\n",
              "      <th>Qtd_Fermento</th>\n",
              "      <th>Temperatura</th>\n",
              "    </tr>\n",
              "  </thead>\n",
              "  <tbody>\n",
              "    <tr>\n",
              "      <th>0</th>\n",
              "      <td>1.0</td>\n",
              "      <td>24.0</td>\n",
              "      <td>140.0</td>\n",
              "    </tr>\n",
              "    <tr>\n",
              "      <th>1</th>\n",
              "      <td>2.0</td>\n",
              "      <td>24.0</td>\n",
              "      <td>140.0</td>\n",
              "    </tr>\n",
              "    <tr>\n",
              "      <th>2</th>\n",
              "      <td>1.0</td>\n",
              "      <td>36.0</td>\n",
              "      <td>140.0</td>\n",
              "    </tr>\n",
              "    <tr>\n",
              "      <th>3</th>\n",
              "      <td>2.0</td>\n",
              "      <td>36.0</td>\n",
              "      <td>140.0</td>\n",
              "    </tr>\n",
              "    <tr>\n",
              "      <th>4</th>\n",
              "      <td>1.0</td>\n",
              "      <td>24.0</td>\n",
              "      <td>180.0</td>\n",
              "    </tr>\n",
              "    <tr>\n",
              "      <th>5</th>\n",
              "      <td>2.0</td>\n",
              "      <td>24.0</td>\n",
              "      <td>180.0</td>\n",
              "    </tr>\n",
              "    <tr>\n",
              "      <th>6</th>\n",
              "      <td>1.0</td>\n",
              "      <td>36.0</td>\n",
              "      <td>180.0</td>\n",
              "    </tr>\n",
              "    <tr>\n",
              "      <th>7</th>\n",
              "      <td>2.0</td>\n",
              "      <td>36.0</td>\n",
              "      <td>180.0</td>\n",
              "    </tr>\n",
              "  </tbody>\n",
              "</table>\n",
              "</div>"
            ],
            "text/plain": [
              "   Farinha  Qtd_Fermento  Temperatura\n",
              "0      1.0          24.0        140.0\n",
              "1      2.0          24.0        140.0\n",
              "2      1.0          36.0        140.0\n",
              "3      2.0          36.0        140.0\n",
              "4      1.0          24.0        180.0\n",
              "5      2.0          24.0        180.0\n",
              "6      1.0          36.0        180.0\n",
              "7      2.0          36.0        180.0"
            ]
          },
          "metadata": {},
          "output_type": "display_data"
        }
      ],
      "source": [
        "display(df)"
      ]
    },
    {
      "cell_type": "markdown",
      "metadata": {
        "id": "S5JKwdBOC1qs"
      },
      "source": [
        "## Atividade 4: Fatorial Fracionado de 3 Fatores e 2 Níveis\n",
        "\n",
        "Suponha que antes de rodar um experimento mais complexo como o proposto anteriormente, você decida fazer uma rodada preliminar e mais simples. Assim, você decidirá se os Fatores escolhidos (Tipo da Farinha, Quantidade de Fermento e Temperatura do Forno) aparentam ter de fato algum efeito significativo sobre o sabor do bolo.\n",
        "\n",
        "Para tal, você decidiu optar por um desenho experimental com apenas 4 experimentos, em vez dos 8 experimentos anteriores."
      ]
    },
    {
      "cell_type": "markdown",
      "metadata": {
        "id": "oBOswvrJxsTP"
      },
      "source": [
        "### Atividade 4.1: Gere um desenho Fatorial Fracionado de 3 Fatores e 2 Níveis"
      ]
    },
    {
      "cell_type": "code",
      "execution_count": 12,
      "metadata": {
        "id": "RNTgKvgjTLKc"
      },
      "outputs": [
        {
          "data": {
            "text/plain": [
              "array([[-1., -1.,  1.],\n",
              "       [ 1., -1., -1.],\n",
              "       [-1.,  1., -1.],\n",
              "       [ 1.,  1.,  1.]])"
            ]
          },
          "metadata": {},
          "output_type": "display_data"
        }
      ],
      "source": [
        "# seu código\n",
        "gen = 'A B AB'\n",
        "design0 = doe.fracfact(gen)\n",
        "display(design0)\n"
      ]
    },
    {
      "cell_type": "markdown",
      "metadata": {},
      "source": [
        "**Fator 1 | Farinha:**\n",
        "Tipo 1 ou Tipo 2\n",
        "\n",
        "**Fator 2 | Quantidade de Fermento:**\n",
        "24mg ou 36mg\n",
        "\n",
        "**Fator 3 | Temperatura:**\n",
        "140ºC ou 180ºC"
      ]
    },
    {
      "cell_type": "code",
      "execution_count": 13,
      "metadata": {},
      "outputs": [],
      "source": [
        "D = design0.copy()\n",
        "# Fator 1\n",
        "D[:,0][D[:,0]==1] = 2\n",
        "D[:,0][D[:,0]==-1] = 1\n",
        "\n",
        "# Fator 2\n",
        "D[:,1][D[:,1]==-1] = 24\n",
        "D[:,1][D[:,1]==1] = 36\n",
        "\n",
        "# Fator 3\n",
        "D[:,2][D[:,2]==1] = 140\n",
        "D[:,2][D[:,2]==-1] = 180"
      ]
    },
    {
      "cell_type": "markdown",
      "metadata": {
        "id": "_EdOQQkqtpAu"
      },
      "source": [
        "### Atividade 4.2: Crie um DataFrame com os valores das variáveis a serem testadas no experimento anterior"
      ]
    },
    {
      "cell_type": "code",
      "execution_count": 14,
      "metadata": {},
      "outputs": [
        {
          "data": {
            "text/html": [
              "<div>\n",
              "<style scoped>\n",
              "    .dataframe tbody tr th:only-of-type {\n",
              "        vertical-align: middle;\n",
              "    }\n",
              "\n",
              "    .dataframe tbody tr th {\n",
              "        vertical-align: top;\n",
              "    }\n",
              "\n",
              "    .dataframe thead th {\n",
              "        text-align: right;\n",
              "    }\n",
              "</style>\n",
              "<table border=\"1\" class=\"dataframe\">\n",
              "  <thead>\n",
              "    <tr style=\"text-align: right;\">\n",
              "      <th></th>\n",
              "      <th>Farinha</th>\n",
              "      <th>Qtd_Fermento</th>\n",
              "      <th>Temperatura</th>\n",
              "    </tr>\n",
              "  </thead>\n",
              "  <tbody>\n",
              "    <tr>\n",
              "      <th>0</th>\n",
              "      <td>1.0</td>\n",
              "      <td>24.0</td>\n",
              "      <td>140.0</td>\n",
              "    </tr>\n",
              "    <tr>\n",
              "      <th>1</th>\n",
              "      <td>2.0</td>\n",
              "      <td>24.0</td>\n",
              "      <td>180.0</td>\n",
              "    </tr>\n",
              "    <tr>\n",
              "      <th>2</th>\n",
              "      <td>1.0</td>\n",
              "      <td>36.0</td>\n",
              "      <td>180.0</td>\n",
              "    </tr>\n",
              "    <tr>\n",
              "      <th>3</th>\n",
              "      <td>2.0</td>\n",
              "      <td>36.0</td>\n",
              "      <td>140.0</td>\n",
              "    </tr>\n",
              "  </tbody>\n",
              "</table>\n",
              "</div>"
            ],
            "text/plain": [
              "   Farinha  Qtd_Fermento  Temperatura\n",
              "0      1.0          24.0        140.0\n",
              "1      2.0          24.0        180.0\n",
              "2      1.0          36.0        180.0\n",
              "3      2.0          36.0        140.0"
            ]
          },
          "metadata": {},
          "output_type": "display_data"
        }
      ],
      "source": [
        "df2 = pd.DataFrame(data={'Farinha':D[:,0],'Qtd_Fermento':D[:,1],'Temperatura':D[:,2]})\n",
        "display(df2)\n"
      ]
    },
    {
      "cell_type": "markdown",
      "metadata": {
        "id": "1JCz6-1xz1Qt"
      },
      "source": [
        "### Atividade 4.3: Invertendo as combinações do Fatorial Fracionado\n",
        "\n",
        "Suponha que uma colega de equipe com mais experiência em produtos dessa categoria pede que no plano experimental seja contemplada uma combinação específica, não prevista inicialmente. A combinação é a seguinte:\n",
        "\n",
        "**Farinha:** Tipo 2\n",
        "\n",
        "**Quantidade de Fermento:** 36mg\n",
        "\n",
        "**Temperatura:** 180ºC"
      ]
    },
    {
      "cell_type": "markdown",
      "metadata": {
        "id": "xwQj_lca1zi7"
      },
      "source": [
        "Adapte o plano experimental de forma que o número de combinações (unidades experimentais) se mantenha o mesmo (4), mas que seja possível testar a combinação proposta.\n",
        "\n",
        "Dica: Consulte a documentação do pyDOE2 neste [link](https://pythonhosted.org/pyDOE/factorial.html)"
      ]
    },
    {
      "cell_type": "code",
      "execution_count": 15,
      "metadata": {},
      "outputs": [
        {
          "data": {
            "text/plain": [
              "array([[-1., -1., -1.],\n",
              "       [ 1., -1.,  1.],\n",
              "       [-1.,  1.,  1.],\n",
              "       [ 1.,  1., -1.]])"
            ]
          },
          "metadata": {},
          "output_type": "display_data"
        }
      ],
      "source": [
        "# seu código\n",
        "gen = 'A B -AB'\n",
        "design0 = doe.fracfact(gen)\n",
        "display(design0)\n"
      ]
    },
    {
      "cell_type": "code",
      "execution_count": 16,
      "metadata": {
        "id": "sHZp7MQ8zzk0"
      },
      "outputs": [],
      "source": [
        "# seu código\n",
        "D = design0.copy()\n",
        "# Fator 1\n",
        "D[:,0][D[:,0]==1] = 2\n",
        "D[:,0][D[:,0]==-1] = 1\n",
        "\n",
        "# Fator 2\n",
        "D[:,1][D[:,1]==-1] = 24\n",
        "D[:,1][D[:,1]==1] = 36\n",
        "\n",
        "# Fator 3\n",
        "D[:,2][D[:,2]==1] = 140\n",
        "D[:,2][D[:,2]==-1] = 180"
      ]
    },
    {
      "cell_type": "code",
      "execution_count": 17,
      "metadata": {
        "id": "YOp005Q_2jkY"
      },
      "outputs": [
        {
          "data": {
            "text/html": [
              "<div>\n",
              "<style scoped>\n",
              "    .dataframe tbody tr th:only-of-type {\n",
              "        vertical-align: middle;\n",
              "    }\n",
              "\n",
              "    .dataframe tbody tr th {\n",
              "        vertical-align: top;\n",
              "    }\n",
              "\n",
              "    .dataframe thead th {\n",
              "        text-align: right;\n",
              "    }\n",
              "</style>\n",
              "<table border=\"1\" class=\"dataframe\">\n",
              "  <thead>\n",
              "    <tr style=\"text-align: right;\">\n",
              "      <th></th>\n",
              "      <th>Farinha</th>\n",
              "      <th>Qtd_Fermento</th>\n",
              "      <th>Temperatura</th>\n",
              "    </tr>\n",
              "  </thead>\n",
              "  <tbody>\n",
              "    <tr>\n",
              "      <th>0</th>\n",
              "      <td>1.0</td>\n",
              "      <td>24.0</td>\n",
              "      <td>180.0</td>\n",
              "    </tr>\n",
              "    <tr>\n",
              "      <th>1</th>\n",
              "      <td>2.0</td>\n",
              "      <td>24.0</td>\n",
              "      <td>140.0</td>\n",
              "    </tr>\n",
              "    <tr>\n",
              "      <th>2</th>\n",
              "      <td>1.0</td>\n",
              "      <td>36.0</td>\n",
              "      <td>140.0</td>\n",
              "    </tr>\n",
              "    <tr>\n",
              "      <th>3</th>\n",
              "      <td>2.0</td>\n",
              "      <td>36.0</td>\n",
              "      <td>180.0</td>\n",
              "    </tr>\n",
              "  </tbody>\n",
              "</table>\n",
              "</div>"
            ],
            "text/plain": [
              "   Farinha  Qtd_Fermento  Temperatura\n",
              "0      1.0          24.0        180.0\n",
              "1      2.0          24.0        140.0\n",
              "2      1.0          36.0        140.0\n",
              "3      2.0          36.0        180.0"
            ]
          },
          "metadata": {},
          "output_type": "display_data"
        }
      ],
      "source": [
        "# seu código\n",
        "df3 = pd.DataFrame(data={'Farinha':D[:,0],'Qtd_Fermento':D[:,1],'Temperatura':D[:,2]})\n",
        "display(df3)\n"
      ]
    },
    {
      "cell_type": "markdown",
      "metadata": {
        "id": "B3F0sknim000"
      },
      "source": [
        "## Atividade 5\n",
        "\n",
        "Suponha que a rodada experimental inicial teve resultados bastante proveitosos e foi possível concluir que as Farinhas dos tipos 1 e 2 (ambas super premium) são praticamente iguais. Assim, optar-se-á pela Farinha do tipo 1, que tem um valor mais baixo.\n",
        "\n",
        "Também percebeu-se que a temperatura de 140ºC foi insuficiente em todos os casos. Assim, decidiu-se testar as temperaturas de 160ºC e de 180ºC.\n",
        "\n",
        "De modo geral, a rodada inicial correu bem e rapidamente. Por isso, a equipe resolveu incluir outros fatores que não haviam sido testados anteriormente."
      ]
    },
    {
      "cell_type": "markdown",
      "metadata": {
        "id": "8SY_dSimm_rN"
      },
      "source": [
        "Na segunda rodada, serão testados os seguintes fatores:\n",
        "\n",
        "**A) Quantidade de Fermento:**\n",
        "24mg ou 36mg\n",
        "\n",
        "**B) Temperatura:**\n",
        "160ºC ou 180ºC\n",
        "\n",
        "**C) Tempo:**\n",
        "35min ou 40min\n",
        "\n",
        "**D) Ovos:**\n",
        "3 ou 4"
      ]
    },
    {
      "cell_type": "markdown",
      "metadata": {
        "id": "S9oVJbXi7Gq5"
      },
      "source": [
        "### Atividade 5.1: Faça uma estimativa de quantos testes seriam necessários para testar todas as possibilidades"
      ]
    },
    {
      "cell_type": "code",
      "execution_count": 18,
      "metadata": {
        "id": "xQ5HnW1w7VVH"
      },
      "outputs": [
        {
          "data": {
            "text/plain": [
              "16"
            ]
          },
          "execution_count": 18,
          "metadata": {},
          "output_type": "execute_result"
        }
      ],
      "source": [
        "# seu código\n",
        "plan = [2,2,2,2]\n",
        "design1 = doe.fullfact(plan)\n",
        "len(design1)"
      ]
    },
    {
      "cell_type": "markdown",
      "metadata": {
        "id": "bgE5BdNG7o4I"
      },
      "source": [
        "> **RESPOSTA:** ___16____"
      ]
    },
    {
      "cell_type": "markdown",
      "metadata": {
        "id": "NStusAlu6pIH"
      },
      "source": [
        "### Atividade 5.2: Crie um desenho fatorial fracionado\n",
        "Crie um plano experimental para os fatores listados acima de forma que sejam testadas apenas 8 receitas:"
      ]
    },
    {
      "cell_type": "markdown",
      "metadata": {
        "id": "yJjkC3eG-Ga3"
      },
      "source": [
        "**A) Quantidade de Fermento:**\n",
        "24mg ou 36mg\n",
        "\n",
        "**B) Temperatura:**\n",
        "160ºC ou 180ºC\n",
        "\n",
        "**C) Tempo:**\n",
        "35min ou 40min\n",
        "\n",
        "**D) Ovos:**\n",
        "3 ou 4"
      ]
    },
    {
      "cell_type": "code",
      "execution_count": 19,
      "metadata": {
        "id": "mkNkcCce6oL1"
      },
      "outputs": [
        {
          "data": {
            "text/plain": [
              "array([[-1., -1., -1., -1.],\n",
              "       [ 1., -1., -1.,  1.],\n",
              "       [-1.,  1., -1.,  1.],\n",
              "       [ 1.,  1., -1., -1.],\n",
              "       [-1., -1.,  1.,  1.],\n",
              "       [ 1., -1.,  1., -1.],\n",
              "       [-1.,  1.,  1., -1.],\n",
              "       [ 1.,  1.,  1.,  1.]])"
            ]
          },
          "metadata": {},
          "output_type": "display_data"
        },
        {
          "name": "stdout",
          "output_type": "stream",
          "text": [
            "8\n"
          ]
        }
      ],
      "source": [
        "# seu código\n",
        "gen = 'A B C ABC'\n",
        "design0 = doe.fracfact(gen)\n",
        "display(design0)\n",
        "print(len(design0))"
      ]
    },
    {
      "cell_type": "code",
      "execution_count": 20,
      "metadata": {},
      "outputs": [],
      "source": [
        "# seu código\n",
        "D = design0.copy()\n",
        "# Fator 1\n",
        "D[:,0][D[:,0]==-1] = 24\n",
        "D[:,0][D[:,0]==1] = 36\n",
        "\n",
        "# Fator 2\n",
        "D[:,1][D[:,1]==-1] = 160\n",
        "D[:,1][D[:,1]==1] = 180\n",
        "\n",
        "# Fator 3\n",
        "D[:,2][D[:,2]==-1] = 35\n",
        "D[:,2][D[:,2]==1] = 40\n",
        "\n",
        "# Fator 4\n",
        "D[:,3][D[:,3]==-1] = 3\n",
        "D[:,3][D[:,3]==1] = 4"
      ]
    },
    {
      "cell_type": "code",
      "execution_count": 21,
      "metadata": {},
      "outputs": [
        {
          "data": {
            "text/plain": [
              "array([[ 24., 160.,  35.,   3.],\n",
              "       [ 36., 160.,  35.,   4.],\n",
              "       [ 24., 180.,  35.,   4.],\n",
              "       [ 36., 180.,  35.,   3.],\n",
              "       [ 24., 160.,  40.,   4.],\n",
              "       [ 36., 160.,  40.,   3.],\n",
              "       [ 24., 180.,  40.,   3.],\n",
              "       [ 36., 180.,  40.,   4.]])"
            ]
          },
          "metadata": {},
          "output_type": "display_data"
        },
        {
          "name": "stdout",
          "output_type": "stream",
          "text": [
            "8\n"
          ]
        }
      ],
      "source": [
        "display(D)\n",
        "print(len(D))"
      ]
    },
    {
      "cell_type": "markdown",
      "metadata": {
        "id": "m5K1e4j-E_eA"
      },
      "source": [
        "### Extra: Teste outras configurações, compare os dataframes gerados\n",
        "\n",
        "Há várias maneiras de gerar os desenhos experimentais.\n",
        "Sugestão: compare os dataframes utilizando a função `concat` do pandas."
      ]
    },
    {
      "cell_type": "code",
      "execution_count": 22,
      "metadata": {
        "id": "aVKXA1WLDTaa"
      },
      "outputs": [],
      "source": [
        "# seu código\n",
        "gen = 'A B C -ABC'\n",
        "design1 = doe.fracfact(gen)"
      ]
    },
    {
      "cell_type": "code",
      "execution_count": 23,
      "metadata": {
        "id": "3S3skaLVDVT-"
      },
      "outputs": [],
      "source": [
        "# seu código\n",
        "D2 = design1.copy()\n",
        "# Fator 1\n",
        "D2[:,0][D2[:,0]==-1] = 24\n",
        "D2[:,0][D2[:,0]==1] = 36\n",
        "\n",
        "# Fator 2\n",
        "D2[:,1][D2[:,1]==-1] = 160\n",
        "D2[:,1][D2[:,1]==1] = 180\n",
        "\n",
        "# Fator 3\n",
        "D2[:,2][D2[:,2]==-1] = 35\n",
        "D2[:,2][D2[:,2]==1] = 40\n",
        "\n",
        "# Fator 4\n",
        "D2[:,3][D2[:,3]==-1] = 3\n",
        "D2[:,3][D2[:,3]==1] = 4"
      ]
    },
    {
      "cell_type": "code",
      "execution_count": 24,
      "metadata": {},
      "outputs": [
        {
          "data": {
            "text/plain": [
              "array([[ 24., 160.,  35.,   3.],\n",
              "       [ 36., 160.,  35.,   4.],\n",
              "       [ 24., 180.,  35.,   4.],\n",
              "       [ 36., 180.,  35.,   3.],\n",
              "       [ 24., 160.,  40.,   4.],\n",
              "       [ 36., 160.,  40.,   3.],\n",
              "       [ 24., 180.,  40.,   3.],\n",
              "       [ 36., 180.,  40.,   4.]])"
            ]
          },
          "metadata": {},
          "output_type": "display_data"
        },
        {
          "data": {
            "text/plain": [
              "array([[ 24., 160.,  35.,   4.],\n",
              "       [ 36., 160.,  35.,   3.],\n",
              "       [ 24., 180.,  35.,   3.],\n",
              "       [ 36., 180.,  35.,   4.],\n",
              "       [ 24., 160.,  40.,   3.],\n",
              "       [ 36., 160.,  40.,   4.],\n",
              "       [ 24., 180.,  40.,   4.],\n",
              "       [ 36., 180.,  40.,   3.]])"
            ]
          },
          "metadata": {},
          "output_type": "display_data"
        },
        {
          "name": "stdout",
          "output_type": "stream",
          "text": [
            "8 8\n"
          ]
        }
      ],
      "source": [
        "display(D,D2)\n",
        "print(len(D),len(D2))"
      ]
    },
    {
      "cell_type": "code",
      "execution_count": 34,
      "metadata": {},
      "outputs": [],
      "source": [
        "# seu código\n",
        "df1 = pd.DataFrame(data={'Qtd_Fermento':D[:,0],'Temperatura':D[:,1],'Tempo':D[:,2],'Ovos':D[:,3]})\n",
        "df2 = pd.DataFrame(data={'Qtd_Fermento':D2[:,0],'Temperatura':D2[:,1],'Tempo':D2[:,2],'Ovos':D2[:,3]})\n"
      ]
    },
    {
      "cell_type": "code",
      "execution_count": 35,
      "metadata": {},
      "outputs": [],
      "source": [
        "df_final = pd.DataFrame()\n",
        "df_final =pd.concat([df1,df2])"
      ]
    },
    {
      "cell_type": "code",
      "execution_count": 36,
      "metadata": {},
      "outputs": [
        {
          "data": {
            "text/html": [
              "<div>\n",
              "<style scoped>\n",
              "    .dataframe tbody tr th:only-of-type {\n",
              "        vertical-align: middle;\n",
              "    }\n",
              "\n",
              "    .dataframe tbody tr th {\n",
              "        vertical-align: top;\n",
              "    }\n",
              "\n",
              "    .dataframe thead th {\n",
              "        text-align: right;\n",
              "    }\n",
              "</style>\n",
              "<table border=\"1\" class=\"dataframe\">\n",
              "  <thead>\n",
              "    <tr style=\"text-align: right;\">\n",
              "      <th></th>\n",
              "      <th>Qtd_Fermento</th>\n",
              "      <th>Temperatura</th>\n",
              "      <th>Tempo</th>\n",
              "      <th>Ovos</th>\n",
              "    </tr>\n",
              "  </thead>\n",
              "  <tbody>\n",
              "    <tr>\n",
              "      <th>0</th>\n",
              "      <td>24.0</td>\n",
              "      <td>160.0</td>\n",
              "      <td>35.0</td>\n",
              "      <td>3.0</td>\n",
              "    </tr>\n",
              "    <tr>\n",
              "      <th>1</th>\n",
              "      <td>36.0</td>\n",
              "      <td>160.0</td>\n",
              "      <td>35.0</td>\n",
              "      <td>4.0</td>\n",
              "    </tr>\n",
              "    <tr>\n",
              "      <th>2</th>\n",
              "      <td>24.0</td>\n",
              "      <td>180.0</td>\n",
              "      <td>35.0</td>\n",
              "      <td>4.0</td>\n",
              "    </tr>\n",
              "    <tr>\n",
              "      <th>3</th>\n",
              "      <td>36.0</td>\n",
              "      <td>180.0</td>\n",
              "      <td>35.0</td>\n",
              "      <td>3.0</td>\n",
              "    </tr>\n",
              "    <tr>\n",
              "      <th>4</th>\n",
              "      <td>24.0</td>\n",
              "      <td>160.0</td>\n",
              "      <td>40.0</td>\n",
              "      <td>4.0</td>\n",
              "    </tr>\n",
              "    <tr>\n",
              "      <th>5</th>\n",
              "      <td>36.0</td>\n",
              "      <td>160.0</td>\n",
              "      <td>40.0</td>\n",
              "      <td>3.0</td>\n",
              "    </tr>\n",
              "    <tr>\n",
              "      <th>6</th>\n",
              "      <td>24.0</td>\n",
              "      <td>180.0</td>\n",
              "      <td>40.0</td>\n",
              "      <td>3.0</td>\n",
              "    </tr>\n",
              "    <tr>\n",
              "      <th>7</th>\n",
              "      <td>36.0</td>\n",
              "      <td>180.0</td>\n",
              "      <td>40.0</td>\n",
              "      <td>4.0</td>\n",
              "    </tr>\n",
              "    <tr>\n",
              "      <th>0</th>\n",
              "      <td>24.0</td>\n",
              "      <td>160.0</td>\n",
              "      <td>35.0</td>\n",
              "      <td>4.0</td>\n",
              "    </tr>\n",
              "    <tr>\n",
              "      <th>1</th>\n",
              "      <td>36.0</td>\n",
              "      <td>160.0</td>\n",
              "      <td>35.0</td>\n",
              "      <td>3.0</td>\n",
              "    </tr>\n",
              "    <tr>\n",
              "      <th>2</th>\n",
              "      <td>24.0</td>\n",
              "      <td>180.0</td>\n",
              "      <td>35.0</td>\n",
              "      <td>3.0</td>\n",
              "    </tr>\n",
              "    <tr>\n",
              "      <th>3</th>\n",
              "      <td>36.0</td>\n",
              "      <td>180.0</td>\n",
              "      <td>35.0</td>\n",
              "      <td>4.0</td>\n",
              "    </tr>\n",
              "    <tr>\n",
              "      <th>4</th>\n",
              "      <td>24.0</td>\n",
              "      <td>160.0</td>\n",
              "      <td>40.0</td>\n",
              "      <td>3.0</td>\n",
              "    </tr>\n",
              "    <tr>\n",
              "      <th>5</th>\n",
              "      <td>36.0</td>\n",
              "      <td>160.0</td>\n",
              "      <td>40.0</td>\n",
              "      <td>4.0</td>\n",
              "    </tr>\n",
              "    <tr>\n",
              "      <th>6</th>\n",
              "      <td>24.0</td>\n",
              "      <td>180.0</td>\n",
              "      <td>40.0</td>\n",
              "      <td>4.0</td>\n",
              "    </tr>\n",
              "    <tr>\n",
              "      <th>7</th>\n",
              "      <td>36.0</td>\n",
              "      <td>180.0</td>\n",
              "      <td>40.0</td>\n",
              "      <td>3.0</td>\n",
              "    </tr>\n",
              "  </tbody>\n",
              "</table>\n",
              "</div>"
            ],
            "text/plain": [
              "   Qtd_Fermento  Temperatura  Tempo  Ovos\n",
              "0          24.0        160.0   35.0   3.0\n",
              "1          36.0        160.0   35.0   4.0\n",
              "2          24.0        180.0   35.0   4.0\n",
              "3          36.0        180.0   35.0   3.0\n",
              "4          24.0        160.0   40.0   4.0\n",
              "5          36.0        160.0   40.0   3.0\n",
              "6          24.0        180.0   40.0   3.0\n",
              "7          36.0        180.0   40.0   4.0\n",
              "0          24.0        160.0   35.0   4.0\n",
              "1          36.0        160.0   35.0   3.0\n",
              "2          24.0        180.0   35.0   3.0\n",
              "3          36.0        180.0   35.0   4.0\n",
              "4          24.0        160.0   40.0   3.0\n",
              "5          36.0        160.0   40.0   4.0\n",
              "6          24.0        180.0   40.0   4.0\n",
              "7          36.0        180.0   40.0   3.0"
            ]
          },
          "execution_count": 36,
          "metadata": {},
          "output_type": "execute_result"
        }
      ],
      "source": [
        "df_final"
      ]
    },
    {
      "cell_type": "markdown",
      "metadata": {
        "id": "wgZByZkNIRy_"
      },
      "source": [
        "### Desafio: Gere 2 dataframes complementares, de forma que não haja nenhuma repetição de linhas"
      ]
    },
    {
      "cell_type": "code",
      "execution_count": 37,
      "metadata": {
        "id": "lL5mAw6tIdhm"
      },
      "outputs": [
        {
          "data": {
            "text/html": [
              "<div>\n",
              "<style scoped>\n",
              "    .dataframe tbody tr th:only-of-type {\n",
              "        vertical-align: middle;\n",
              "    }\n",
              "\n",
              "    .dataframe tbody tr th {\n",
              "        vertical-align: top;\n",
              "    }\n",
              "\n",
              "    .dataframe thead th {\n",
              "        text-align: right;\n",
              "    }\n",
              "</style>\n",
              "<table border=\"1\" class=\"dataframe\">\n",
              "  <thead>\n",
              "    <tr style=\"text-align: right;\">\n",
              "      <th></th>\n",
              "      <th>Qtd_Fermento</th>\n",
              "      <th>Temperatura</th>\n",
              "      <th>Tempo</th>\n",
              "      <th>Ovos</th>\n",
              "    </tr>\n",
              "  </thead>\n",
              "  <tbody>\n",
              "    <tr>\n",
              "      <th>0</th>\n",
              "      <td>24.0</td>\n",
              "      <td>160.0</td>\n",
              "      <td>35.0</td>\n",
              "      <td>3.0</td>\n",
              "    </tr>\n",
              "    <tr>\n",
              "      <th>1</th>\n",
              "      <td>36.0</td>\n",
              "      <td>160.0</td>\n",
              "      <td>35.0</td>\n",
              "      <td>4.0</td>\n",
              "    </tr>\n",
              "    <tr>\n",
              "      <th>2</th>\n",
              "      <td>24.0</td>\n",
              "      <td>180.0</td>\n",
              "      <td>35.0</td>\n",
              "      <td>4.0</td>\n",
              "    </tr>\n",
              "    <tr>\n",
              "      <th>3</th>\n",
              "      <td>36.0</td>\n",
              "      <td>180.0</td>\n",
              "      <td>35.0</td>\n",
              "      <td>3.0</td>\n",
              "    </tr>\n",
              "    <tr>\n",
              "      <th>4</th>\n",
              "      <td>24.0</td>\n",
              "      <td>160.0</td>\n",
              "      <td>40.0</td>\n",
              "      <td>4.0</td>\n",
              "    </tr>\n",
              "    <tr>\n",
              "      <th>5</th>\n",
              "      <td>36.0</td>\n",
              "      <td>160.0</td>\n",
              "      <td>40.0</td>\n",
              "      <td>3.0</td>\n",
              "    </tr>\n",
              "    <tr>\n",
              "      <th>6</th>\n",
              "      <td>24.0</td>\n",
              "      <td>180.0</td>\n",
              "      <td>40.0</td>\n",
              "      <td>3.0</td>\n",
              "    </tr>\n",
              "    <tr>\n",
              "      <th>7</th>\n",
              "      <td>36.0</td>\n",
              "      <td>180.0</td>\n",
              "      <td>40.0</td>\n",
              "      <td>4.0</td>\n",
              "    </tr>\n",
              "    <tr>\n",
              "      <th>0</th>\n",
              "      <td>24.0</td>\n",
              "      <td>160.0</td>\n",
              "      <td>35.0</td>\n",
              "      <td>4.0</td>\n",
              "    </tr>\n",
              "    <tr>\n",
              "      <th>1</th>\n",
              "      <td>36.0</td>\n",
              "      <td>160.0</td>\n",
              "      <td>35.0</td>\n",
              "      <td>3.0</td>\n",
              "    </tr>\n",
              "    <tr>\n",
              "      <th>2</th>\n",
              "      <td>24.0</td>\n",
              "      <td>180.0</td>\n",
              "      <td>35.0</td>\n",
              "      <td>3.0</td>\n",
              "    </tr>\n",
              "    <tr>\n",
              "      <th>3</th>\n",
              "      <td>36.0</td>\n",
              "      <td>180.0</td>\n",
              "      <td>35.0</td>\n",
              "      <td>4.0</td>\n",
              "    </tr>\n",
              "    <tr>\n",
              "      <th>4</th>\n",
              "      <td>24.0</td>\n",
              "      <td>160.0</td>\n",
              "      <td>40.0</td>\n",
              "      <td>3.0</td>\n",
              "    </tr>\n",
              "    <tr>\n",
              "      <th>5</th>\n",
              "      <td>36.0</td>\n",
              "      <td>160.0</td>\n",
              "      <td>40.0</td>\n",
              "      <td>4.0</td>\n",
              "    </tr>\n",
              "    <tr>\n",
              "      <th>6</th>\n",
              "      <td>24.0</td>\n",
              "      <td>180.0</td>\n",
              "      <td>40.0</td>\n",
              "      <td>4.0</td>\n",
              "    </tr>\n",
              "    <tr>\n",
              "      <th>7</th>\n",
              "      <td>36.0</td>\n",
              "      <td>180.0</td>\n",
              "      <td>40.0</td>\n",
              "      <td>3.0</td>\n",
              "    </tr>\n",
              "  </tbody>\n",
              "</table>\n",
              "</div>"
            ],
            "text/plain": [
              "   Qtd_Fermento  Temperatura  Tempo  Ovos\n",
              "0          24.0        160.0   35.0   3.0\n",
              "1          36.0        160.0   35.0   4.0\n",
              "2          24.0        180.0   35.0   4.0\n",
              "3          36.0        180.0   35.0   3.0\n",
              "4          24.0        160.0   40.0   4.0\n",
              "5          36.0        160.0   40.0   3.0\n",
              "6          24.0        180.0   40.0   3.0\n",
              "7          36.0        180.0   40.0   4.0\n",
              "0          24.0        160.0   35.0   4.0\n",
              "1          36.0        160.0   35.0   3.0\n",
              "2          24.0        180.0   35.0   3.0\n",
              "3          36.0        180.0   35.0   4.0\n",
              "4          24.0        160.0   40.0   3.0\n",
              "5          36.0        160.0   40.0   4.0\n",
              "6          24.0        180.0   40.0   4.0\n",
              "7          36.0        180.0   40.0   3.0"
            ]
          },
          "execution_count": 37,
          "metadata": {},
          "output_type": "execute_result"
        }
      ],
      "source": [
        "# seu código\n",
        "df_final.drop_duplicates()"
      ]
    }
  ],
  "metadata": {
    "colab": {
      "provenance": []
    },
    "kernelspec": {
      "display_name": "Python 3",
      "name": "python3"
    },
    "language_info": {
      "codemirror_mode": {
        "name": "ipython",
        "version": 3
      },
      "file_extension": ".py",
      "mimetype": "text/x-python",
      "name": "python",
      "nbconvert_exporter": "python",
      "pygments_lexer": "ipython3",
      "version": "3.11.0"
    }
  },
  "nbformat": 4,
  "nbformat_minor": 0
}
